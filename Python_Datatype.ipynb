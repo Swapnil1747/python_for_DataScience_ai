{
 "cells": [
  {
   "cell_type": "markdown",
   "id": "e7b1fc8b-bb2f-433b-ada0-72978c8d8e5d",
   "metadata": {},
   "source": [
    "# Python Data Type"
   ]
  },
  {
   "cell_type": "markdown",
   "id": "bb8e3e69-bdd5-4f4c-86e4-2ce179d64a2e",
   "metadata": {},
   "source": [
    "- Build-in Data Type"
   ]
  },
  {
   "cell_type": "markdown",
   "id": "3f635181-4430-49bb-8e03-c5d5f31eb371",
   "metadata": {},
   "source": [
    "In programming, data type is an important concept.\n",
    "\n",
    "Variables can store data of different types, and different types can do different things.\n",
    "\n",
    "Python has the following data types built-in by default, in these categories:\n",
    "\n",
    "- Text Type:  ->\tstr\n",
    "- Numeric Types:  ->\tint, float, complex\n",
    "- Sequence Types:  ->\tlist, tuple, range\n",
    "- Mapping Type:\t->dict\n",
    "- Set Types:\t->set, frozenset\n",
    "- Boolean Type:\t-> bool\n",
    "- Binary Types: ->\tbytes, bytearray, memoryview\n",
    "- None Type: ->\tNoneType"
   ]
  },
  {
   "cell_type": "code",
   "execution_count": 1,
   "id": "43b2a3ee-b89d-4d90-8501-abf57332e560",
   "metadata": {},
   "outputs": [
    {
     "name": "stdout",
     "output_type": "stream",
     "text": [
      "<class 'int'>\n"
     ]
    }
   ],
   "source": [
    "# You can get the data type of any object by using the type() function:\n",
    "x = 5 \n",
    "print(type(x))"
   ]
  },
  {
   "cell_type": "code",
   "execution_count": 2,
   "id": "9cbc8e57-08a0-449f-b957-c5ee69fe0cc1",
   "metadata": {},
   "outputs": [
    {
     "name": "stdout",
     "output_type": "stream",
     "text": [
      "<class 'str'>\n"
     ]
    }
   ],
   "source": [
    "y = 'swapnil'\n",
    "print(type(y))"
   ]
  },
  {
   "cell_type": "code",
   "execution_count": 3,
   "id": "4d8b6d84-0eac-452b-b6bb-81005ed37caf",
   "metadata": {},
   "outputs": [
    {
     "name": "stdout",
     "output_type": "stream",
     "text": [
      "<class 'float'>\n"
     ]
    }
   ],
   "source": [
    "z = 5.67\n",
    "print(type(z))"
   ]
  },
  {
   "cell_type": "markdown",
   "id": "e99980b0-e582-4450-9a62-c1466ff28189",
   "metadata": {},
   "source": [
    "- Setting the data type "
   ]
  },
  {
   "cell_type": "code",
   "execution_count": 4,
   "id": "23727247-f57b-41e7-922b-eb79ea07069b",
   "metadata": {},
   "outputs": [
    {
     "name": "stdout",
     "output_type": "stream",
     "text": [
      "Hello World\n",
      "<class 'str'>\n"
     ]
    }
   ],
   "source": [
    "x  = \"Hello World\"\n",
    "print(x)\n",
    "print(type(x))"
   ]
  },
  {
   "cell_type": "code",
   "execution_count": 5,
   "id": "1a190c33-4ce5-4685-8d76-aa75d4667a5b",
   "metadata": {},
   "outputs": [
    {
     "name": "stdout",
     "output_type": "stream",
     "text": [
      "30\n",
      "<class 'int'>\n"
     ]
    }
   ],
   "source": [
    "x = 30\n",
    "print(x)\n",
    "print(type(x))"
   ]
  },
  {
   "cell_type": "code",
   "execution_count": 6,
   "id": "183b2082-3401-4edc-a797-dd122ec79586",
   "metadata": {},
   "outputs": [
    {
     "name": "stdout",
     "output_type": "stream",
     "text": [
      "23.45\n",
      "<class 'float'>\n"
     ]
    }
   ],
   "source": [
    "x = 23.45\n",
    "print(x)\n",
    "print(type(x))"
   ]
  },
  {
   "cell_type": "code",
   "execution_count": 7,
   "id": "3793cb88-9ef0-4286-9998-47c9aff698b6",
   "metadata": {},
   "outputs": [
    {
     "name": "stdout",
     "output_type": "stream",
     "text": [
      "1j\n",
      "<class 'complex'>\n"
     ]
    }
   ],
   "source": [
    "x = 1j\n",
    "print(x)\n",
    "print(type(x))"
   ]
  },
  {
   "cell_type": "code",
   "execution_count": 8,
   "id": "af8f6022-19a8-4173-88cd-b63ac7a1389b",
   "metadata": {},
   "outputs": [
    {
     "name": "stdout",
     "output_type": "stream",
     "text": [
      "['Apple', 'Orange', 'Banana']\n",
      "<class 'list'>\n"
     ]
    }
   ],
   "source": [
    "x = [\"Apple\",\"Orange\",\"Banana\"]\n",
    "print(x)\n",
    "print(type(x))"
   ]
  },
  {
   "cell_type": "code",
   "execution_count": 9,
   "id": "0a232967-28ff-43e0-8339-23cb90ed396a",
   "metadata": {},
   "outputs": [
    {
     "name": "stdout",
     "output_type": "stream",
     "text": [
      "('Apple', 'Orange', 'Banana')\n",
      "<class 'tuple'>\n"
     ]
    }
   ],
   "source": [
    "x = (\"Apple\",\"Orange\",\"Banana\")\n",
    "print(x)\n",
    "print(type(x))"
   ]
  },
  {
   "cell_type": "code",
   "execution_count": 10,
   "id": "06d2a3ac-8cb5-41a6-bad6-72dcbb97de5a",
   "metadata": {},
   "outputs": [
    {
     "name": "stdout",
     "output_type": "stream",
     "text": [
      "range(0, 6)\n",
      "<class 'range'>\n"
     ]
    }
   ],
   "source": [
    "x = range(6)\n",
    "print(x)\n",
    "print(type(x))"
   ]
  },
  {
   "cell_type": "code",
   "execution_count": 11,
   "id": "c3f9c435-3ac0-4bf0-b77f-f5f702d1b90f",
   "metadata": {},
   "outputs": [
    {
     "name": "stdout",
     "output_type": "stream",
     "text": [
      "{'Orange', 'Apple', 'Banana'}\n",
      "<class 'set'>\n"
     ]
    }
   ],
   "source": [
    "x = {\"Apple\",\"Orange\",\"Banana\"}\n",
    "print(x)\n",
    "print(type(x))"
   ]
  },
  {
   "cell_type": "code",
   "execution_count": 12,
   "id": "e4b0e4ea-89d7-4139-9274-c8ab6f16bc2d",
   "metadata": {},
   "outputs": [
    {
     "name": "stdout",
     "output_type": "stream",
     "text": [
      "{'name': 'swapnil', 'age': 24}\n",
      "<class 'dict'>\n"
     ]
    }
   ],
   "source": [
    "x = {\"name\":\"swapnil\",\"age\":24}\n",
    "print(x)\n",
    "print(type(x))"
   ]
  },
  {
   "cell_type": "code",
   "execution_count": 13,
   "id": "f35f3241-b62a-4c6e-88b2-a3dbf752cd65",
   "metadata": {},
   "outputs": [
    {
     "name": "stdout",
     "output_type": "stream",
     "text": [
      "frozenset({'banana', 'apple', 'cherry'})\n",
      "<class 'frozenset'>\n"
     ]
    }
   ],
   "source": [
    "x = frozenset({\"apple\", \"banana\", \"cherry\"})\n",
    "print(x)\n",
    "print(type(x))"
   ]
  },
  {
   "cell_type": "code",
   "execution_count": 14,
   "id": "ce1ada82-1241-4d39-badb-f6588452bce8",
   "metadata": {},
   "outputs": [
    {
     "name": "stdout",
     "output_type": "stream",
     "text": [
      "True\n",
      "<class 'bool'>\n"
     ]
    }
   ],
   "source": [
    "x = True\n",
    "print(x)\n",
    "print(type(x))"
   ]
  },
  {
   "cell_type": "code",
   "execution_count": 15,
   "id": "163e4420-a6cb-4bce-98e6-7218f117db93",
   "metadata": {},
   "outputs": [
    {
     "name": "stdout",
     "output_type": "stream",
     "text": [
      "b'Hello'\n",
      "<class 'bytes'>\n"
     ]
    }
   ],
   "source": [
    "x = b\"Hello\"\n",
    "print(x)\n",
    "print(type(x))"
   ]
  },
  {
   "cell_type": "code",
   "execution_count": 16,
   "id": "6b250e33-0e77-4d0a-af3e-88e54435c227",
   "metadata": {},
   "outputs": [
    {
     "name": "stdout",
     "output_type": "stream",
     "text": [
      "bytearray(b'\\x00\\x00\\x00\\x00\\x00')\n",
      "<class 'bytearray'>\n"
     ]
    }
   ],
   "source": [
    "x = bytearray(5)\n",
    "print(x)\n",
    "print(type(x))"
   ]
  },
  {
   "cell_type": "code",
   "execution_count": 17,
   "id": "60a4a9e1-2d2a-4bdd-92f8-e13f96884690",
   "metadata": {},
   "outputs": [
    {
     "name": "stdout",
     "output_type": "stream",
     "text": [
      "<memory at 0x000002C865B27940>\n",
      "<class 'memoryview'>\n"
     ]
    }
   ],
   "source": [
    "x = memoryview(bytes(6))\n",
    "print(x)\n",
    "print(type(x))"
   ]
  },
  {
   "cell_type": "code",
   "execution_count": 18,
   "id": "8384bbed-7b5d-4c90-bfd4-bcb973a1f392",
   "metadata": {},
   "outputs": [
    {
     "name": "stdout",
     "output_type": "stream",
     "text": [
      "None\n",
      "<class 'NoneType'>\n"
     ]
    }
   ],
   "source": [
    "x = None\n",
    "print(x)\n",
    "print(type(x))"
   ]
  },
  {
   "cell_type": "markdown",
   "id": "b6086162-3e87-4955-bcc1-a8522a311d62",
   "metadata": {},
   "source": [
    "# Setting the specific Data Type"
   ]
  },
  {
   "cell_type": "markdown",
   "id": "563abc34-eb62-441e-93be-b0269a4fa811",
   "metadata": {},
   "source": [
    "- If you want to specify the data type, you can use the following constructor functions:"
   ]
  },
  {
   "cell_type": "code",
   "execution_count": 19,
   "id": "f23b070c-55fd-406c-bd66-8d3be1334c8e",
   "metadata": {},
   "outputs": [
    {
     "name": "stdout",
     "output_type": "stream",
     "text": [
      "Hello World\n",
      "<class 'str'>\n"
     ]
    }
   ],
   "source": [
    "x = str(\"Hello World\")\n",
    "print(x)\n",
    "print(type(x))"
   ]
  },
  {
   "cell_type": "code",
   "execution_count": 20,
   "id": "fa79c0a4-8106-4015-ad67-7f1b5ac050f1",
   "metadata": {},
   "outputs": [
    {
     "name": "stdout",
     "output_type": "stream",
     "text": [
      "40\n"
     ]
    }
   ],
   "source": [
    "x = int(40)\n",
    "print(x)"
   ]
  },
  {
   "cell_type": "code",
   "execution_count": 21,
   "id": "0f21e1e4-e65c-41d5-a59f-e3868ed834bd",
   "metadata": {},
   "outputs": [
    {
     "name": "stdout",
     "output_type": "stream",
     "text": [
      "54.46\n"
     ]
    }
   ],
   "source": [
    "x = float(54.46)\n",
    "print(x)"
   ]
  },
  {
   "cell_type": "code",
   "execution_count": 22,
   "id": "c50d0bc6-2c8f-4ffc-9cb4-ea4c503c5a8f",
   "metadata": {},
   "outputs": [
    {
     "name": "stdout",
     "output_type": "stream",
     "text": [
      "1j\n"
     ]
    }
   ],
   "source": [
    "x = complex(1j)\n",
    "print(x)"
   ]
  },
  {
   "cell_type": "code",
   "execution_count": 23,
   "id": "00aad5d4-994f-4034-a7b9-513f45727047",
   "metadata": {},
   "outputs": [
    {
     "name": "stdout",
     "output_type": "stream",
     "text": [
      "['apple', 'orange', 'cherry']\n"
     ]
    }
   ],
   "source": [
    "x =list(('apple','orange','cherry'))\n",
    "print(x)"
   ]
  },
  {
   "cell_type": "code",
   "execution_count": 24,
   "id": "02c70ae2-d3e2-46cd-acb8-9f0dc83fa2f3",
   "metadata": {},
   "outputs": [
    {
     "name": "stdout",
     "output_type": "stream",
     "text": [
      "('apple', 'orange', 'cherry')\n"
     ]
    }
   ],
   "source": [
    "x = tuple(('apple','orange','cherry'))\n",
    "print(x)"
   ]
  },
  {
   "cell_type": "code",
   "execution_count": 25,
   "id": "da716885-e084-43cd-86b3-f486bccf65ac",
   "metadata": {},
   "outputs": [
    {
     "name": "stdout",
     "output_type": "stream",
     "text": [
      "range(0, 7)\n"
     ]
    }
   ],
   "source": [
    "x = range(7)\n",
    "print(x)"
   ]
  },
  {
   "cell_type": "code",
   "execution_count": 26,
   "id": "97a57e23-e9e6-45cc-bcd8-3d97ebc82be0",
   "metadata": {},
   "outputs": [
    {
     "name": "stdout",
     "output_type": "stream",
     "text": [
      "{'name': 'swapnil', 'age': 24}\n"
     ]
    }
   ],
   "source": [
    "x = dict(name='swapnil',age=24)\n",
    "print(x)"
   ]
  },
  {
   "cell_type": "code",
   "execution_count": 27,
   "id": "556679a7-e8bc-49ee-ae94-a4d34ec705cb",
   "metadata": {},
   "outputs": [
    {
     "name": "stdout",
     "output_type": "stream",
     "text": [
      "{'banana', 'apple', 'cherry'}\n"
     ]
    }
   ],
   "source": [
    "x = set(('apple','banana','cherry'))\n",
    "print(x)"
   ]
  },
  {
   "cell_type": "code",
   "execution_count": 28,
   "id": "8943fa71-9609-4cbf-a18c-f5ef74275666",
   "metadata": {},
   "outputs": [
    {
     "name": "stdout",
     "output_type": "stream",
     "text": [
      "frozenset({'apple', 'cherry', 'orange'})\n"
     ]
    }
   ],
   "source": [
    "x =frozenset(('apple','orange','cherry'))\n",
    "print(x)"
   ]
  },
  {
   "cell_type": "code",
   "execution_count": 29,
   "id": "a796f67d-8816-482f-91ec-9bb6c0d68272",
   "metadata": {},
   "outputs": [
    {
     "name": "stdout",
     "output_type": "stream",
     "text": [
      "True\n"
     ]
    }
   ],
   "source": [
    "x =bool(5)\n",
    "print(x)"
   ]
  },
  {
   "cell_type": "code",
   "execution_count": 30,
   "id": "bb477b91-305b-451b-82e9-e6915a632b1b",
   "metadata": {},
   "outputs": [
    {
     "name": "stdout",
     "output_type": "stream",
     "text": [
      "b'\\x00\\x00\\x00\\x00\\x00'\n"
     ]
    }
   ],
   "source": [
    "x= bytes(5)\n",
    "print(x)"
   ]
  },
  {
   "cell_type": "code",
   "execution_count": 31,
   "id": "e4e00c6a-4f4d-438c-a477-e986dd8a1d3b",
   "metadata": {},
   "outputs": [
    {
     "name": "stdout",
     "output_type": "stream",
     "text": [
      "bytearray(b'\\x00\\x00\\x00\\x00\\x00\\x00')\n"
     ]
    }
   ],
   "source": [
    "x = bytearray(6)\n",
    "print(x)"
   ]
  },
  {
   "cell_type": "code",
   "execution_count": 32,
   "id": "63624903-ea99-494e-a242-3fe4b5f425a1",
   "metadata": {},
   "outputs": [
    {
     "name": "stdout",
     "output_type": "stream",
     "text": [
      "<memory at 0x000002C865B26140>\n"
     ]
    }
   ],
   "source": [
    "x = memoryview(bytes(5))\n",
    "print(x)"
   ]
  },
  {
   "cell_type": "markdown",
   "id": "2f9da45e-529b-46e3-8e23-f8bb0f862798",
   "metadata": {},
   "source": [
    "# Python Number"
   ]
  },
  {
   "cell_type": "markdown",
   "id": "3ab63f88-084d-4d88-be12-92e46c9d2891",
   "metadata": {},
   "source": [
    "There are three numeric types in Python:\n",
    "\n",
    "- int\n",
    "- float\n",
    "- complex\n",
    "\n",
    "\n",
    "Variables of numeric types are created when you assign a value to them:"
   ]
  },
  {
   "cell_type": "code",
   "execution_count": 33,
   "id": "c9a2b294-8c47-472f-b253-2dd3a8cf8ce3",
   "metadata": {},
   "outputs": [],
   "source": [
    "x = 1    # int\n",
    "y = 2.8  # float\n",
    "z = 1j   # complex"
   ]
  },
  {
   "cell_type": "code",
   "execution_count": 34,
   "id": "e55b11ac-ac99-4770-94d3-0d8e52435395",
   "metadata": {},
   "outputs": [
    {
     "name": "stdout",
     "output_type": "stream",
     "text": [
      "1\n",
      "2.8\n",
      "1j\n"
     ]
    }
   ],
   "source": [
    "print(x)\n",
    "print(y)\n",
    "print(z)"
   ]
  },
  {
   "cell_type": "code",
   "execution_count": 35,
   "id": "d0029d8b-cb63-4e1e-829b-cca3774e9ad2",
   "metadata": {},
   "outputs": [
    {
     "name": "stdout",
     "output_type": "stream",
     "text": [
      "<class 'int'>\n",
      "<class 'float'>\n",
      "<class 'complex'>\n"
     ]
    }
   ],
   "source": [
    "print(type(x))\n",
    "print(type(y))\n",
    "print(type(z))"
   ]
  },
  {
   "cell_type": "markdown",
   "id": "28ac1fdb-4c59-4744-9343-5db834745278",
   "metadata": {},
   "source": [
    "# Int\n",
    "\n",
    "Int, or integer, is a whole number, positive or negative, without decimals, of unlimited length."
   ]
  },
  {
   "cell_type": "code",
   "execution_count": 36,
   "id": "759bbe57-41b1-4dbb-b264-2aad089fcab6",
   "metadata": {},
   "outputs": [
    {
     "name": "stdout",
     "output_type": "stream",
     "text": [
      "<class 'int'>\n",
      "<class 'int'>\n",
      "<class 'int'>\n"
     ]
    }
   ],
   "source": [
    "x = 1\n",
    "y = 874776749654736\n",
    "z = -7432643633\n",
    "print(type(x))\n",
    "print(type(y))\n",
    "print(type(z))"
   ]
  },
  {
   "cell_type": "markdown",
   "id": "0f7cf1d8-ced3-4b1a-b444-f862c3430d42",
   "metadata": {},
   "source": [
    "# Float\n",
    "\n",
    "Float, or \"floating point number\" is a number, positive or negative, containing one or more decimals."
   ]
  },
  {
   "cell_type": "code",
   "execution_count": 37,
   "id": "a60c6c9b-355f-4e51-be75-0170470827cd",
   "metadata": {},
   "outputs": [
    {
     "name": "stdout",
     "output_type": "stream",
     "text": [
      "<class 'float'>\n",
      "<class 'float'>\n",
      "<class 'float'>\n"
     ]
    }
   ],
   "source": [
    "x = 1.10\n",
    "y = 1.0\n",
    "z = -35.59\n",
    "\n",
    "print(type(x))\n",
    "print(type(y))\n",
    "print(type(z))"
   ]
  },
  {
   "cell_type": "code",
   "execution_count": 38,
   "id": "e7d7e615-6255-44ce-a57e-08590d549356",
   "metadata": {},
   "outputs": [
    {
     "name": "stdout",
     "output_type": "stream",
     "text": [
      "<class 'float'>\n",
      "<class 'float'>\n",
      "<class 'float'>\n"
     ]
    }
   ],
   "source": [
    "x = 35e3\n",
    "y = 12E4\n",
    "z = -87.7e100\n",
    "\n",
    "print(type(x))\n",
    "print(type(y))\n",
    "print(type(z))"
   ]
  },
  {
   "cell_type": "markdown",
   "id": "9b962cea-1195-4542-b9b1-8139319b8b69",
   "metadata": {},
   "source": [
    "# Complex\n",
    "\n",
    "Complex numbers are written with a \"j\" as the imaginary part:"
   ]
  },
  {
   "cell_type": "code",
   "execution_count": 39,
   "id": "3590c262-fe27-4c72-9067-f8199d9098b9",
   "metadata": {},
   "outputs": [
    {
     "name": "stdout",
     "output_type": "stream",
     "text": [
      "<class 'complex'>\n",
      "<class 'complex'>\n",
      "<class 'complex'>\n"
     ]
    }
   ],
   "source": [
    "x = 3+5j\n",
    "y = 5j\n",
    "z = -5j\n",
    "\n",
    "print(type(x))\n",
    "print(type(y))\n",
    "print(type(z))"
   ]
  },
  {
   "cell_type": "markdown",
   "id": "e7f5e90d-e9b0-4221-ad96-d8d54c1728d6",
   "metadata": {},
   "source": [
    "# Type Conversion\n",
    "\n",
    "You can convert from one type to another with the int(), float(), and complex() methods:"
   ]
  },
  {
   "cell_type": "code",
   "execution_count": 40,
   "id": "5b374e62-8c0f-438d-baf4-1b967c9325df",
   "metadata": {},
   "outputs": [
    {
     "name": "stdout",
     "output_type": "stream",
     "text": [
      "1.0\n",
      "2\n",
      "(1+0j)\n",
      "<class 'float'>\n",
      "<class 'int'>\n",
      "<class 'complex'>\n"
     ]
    }
   ],
   "source": [
    "x = 1    # int\n",
    "y = 2.8  # float\n",
    "z = 1j   # complex\n",
    "\n",
    "#convert from int to float:\n",
    "a = float(x)\n",
    "\n",
    "#convert from float to int:\n",
    "b = int(y)\n",
    "\n",
    "#convert from int to complex:\n",
    "c = complex(x)\n",
    "\n",
    "print(a)\n",
    "print(b)\n",
    "print(c)\n",
    "\n",
    "print(type(a))\n",
    "print(type(b))\n",
    "print(type(c))"
   ]
  },
  {
   "cell_type": "code",
   "execution_count": 41,
   "id": "0e4ba078-35c4-4818-a174-26e9b53351ca",
   "metadata": {},
   "outputs": [
    {
     "name": "stdout",
     "output_type": "stream",
     "text": [
      "5.0\n",
      "<class 'float'>\n",
      "(5+0j)\n",
      "<class 'complex'>\n",
      "56\n",
      "<class 'int'>\n",
      "(56.645+0j)\n",
      "<class 'complex'>\n"
     ]
    }
   ],
   "source": [
    "x = 5\n",
    "y = 56.645\n",
    "z = 2j\n",
    "\n",
    "# int into float and complex\n",
    "a =float(x)\n",
    "b =complex(x)\n",
    "\n",
    "#float into int and complex\n",
    "c =int(y)\n",
    "d =complex(y)\n",
    "\n",
    "print(a)\n",
    "print(type(a))\n",
    "print(b)\n",
    "print(type(b))\n",
    "print(c)\n",
    "print(type(c))\n",
    "print(d)\n",
    "print(type(d))"
   ]
  },
  {
   "cell_type": "markdown",
   "id": "1d215221-16a1-44bd-8758-dbb7d0182371",
   "metadata": {},
   "source": [
    "# Random Number\n",
    "\n",
    "Python does not have a random() function to make a random number, but Python has a built-in module called random that can be used to make random numbers:"
   ]
  },
  {
   "cell_type": "code",
   "execution_count": 42,
   "id": "8713ee88-7a71-4852-8fa3-a5480a648eba",
   "metadata": {},
   "outputs": [
    {
     "name": "stdout",
     "output_type": "stream",
     "text": [
      "2\n"
     ]
    }
   ],
   "source": [
    "import random\n",
    "\n",
    "print(random.randrange(1, 10))"
   ]
  },
  {
   "cell_type": "code",
   "execution_count": 43,
   "id": "5c783aad-990b-44af-ba6b-bb3243f94ea5",
   "metadata": {},
   "outputs": [
    {
     "name": "stdout",
     "output_type": "stream",
     "text": [
      "1\n"
     ]
    }
   ],
   "source": [
    "print(random.randint(0,3))"
   ]
  },
  {
   "cell_type": "code",
   "execution_count": 44,
   "id": "bc95fa51-97ca-48b4-91cf-4c08f79ecdb1",
   "metadata": {},
   "outputs": [
    {
     "name": "stdout",
     "output_type": "stream",
     "text": [
      "0.48209376191649156\n"
     ]
    }
   ],
   "source": [
    "print(random.random())"
   ]
  },
  {
   "cell_type": "code",
   "execution_count": 45,
   "id": "2d539b1f-b27a-4735-981a-99f003d86e0e",
   "metadata": {},
   "outputs": [
    {
     "name": "stdout",
     "output_type": "stream",
     "text": [
      "b'\\xae'\n"
     ]
    }
   ],
   "source": [
    "print(random.randbytes(1))\n",
    "      "
   ]
  },
  {
   "cell_type": "markdown",
   "id": "672eeb10-25ce-4cde-94f4-98db38653b17",
   "metadata": {},
   "source": [
    "# Python Casting"
   ]
  },
  {
   "cell_type": "code",
   "execution_count": 46,
   "id": "91b09724-db8a-4309-ade5-3ebb5bb67c82",
   "metadata": {},
   "outputs": [],
   "source": [
    "x = int(1)   # x will be 1\n",
    "y = int(2.8) # y will be 2\n",
    "z = int(\"3\") # z will be 3"
   ]
  },
  {
   "cell_type": "code",
   "execution_count": 47,
   "id": "59f95140-b063-4ed5-a361-91e91fe7b375",
   "metadata": {},
   "outputs": [
    {
     "name": "stdout",
     "output_type": "stream",
     "text": [
      "1\n",
      "2\n",
      "3\n"
     ]
    }
   ],
   "source": [
    "print(x)\n",
    "print(y)\n",
    "print(z)"
   ]
  },
  {
   "cell_type": "code",
   "execution_count": 48,
   "id": "bacc75d1-e38c-497c-91a0-1aec67f0bd23",
   "metadata": {},
   "outputs": [
    {
     "name": "stdout",
     "output_type": "stream",
     "text": [
      "1.0\n",
      "2.8\n",
      "3.0\n",
      "4.2\n"
     ]
    }
   ],
   "source": [
    "x = float(1)     # x will be 1.0\n",
    "y = float(2.8)   # y will be 2.8\n",
    "z = float(\"3\")   # z will be 3.0\n",
    "w = float(\"4.2\") # w will be 4.2\n",
    "\n",
    "print(x)\n",
    "print(y)\n",
    "print(z)\n",
    "print(w)"
   ]
  },
  {
   "cell_type": "code",
   "execution_count": 49,
   "id": "78cbdbe1-077d-4514-a053-d33bf58d2cd3",
   "metadata": {},
   "outputs": [
    {
     "name": "stdout",
     "output_type": "stream",
     "text": [
      "s1\n",
      "2\n",
      "3.0\n"
     ]
    }
   ],
   "source": [
    "x = str(\"s1\") # x will be 's1'\n",
    "y = str(2)    # y will be '2'\n",
    "z = str(3.0)  # z will be '3.0'\n",
    "\n",
    "print(x)\n",
    "print(y)\n",
    "print(z)"
   ]
  },
  {
   "cell_type": "markdown",
   "id": "d6fd88d1-cd2e-46af-a737-72b3eb257cac",
   "metadata": {},
   "source": [
    "# Python String"
   ]
  },
  {
   "cell_type": "markdown",
   "id": "8883dd6e-4f59-4ff2-b431-c1e4ebb02406",
   "metadata": {},
   "source": [
    "Strings in python are surrounded by either single quotation marks, or double quotation marks.\n",
    "\n",
    "'hello' is the same as \"hello\".\n",
    "\n",
    "You can display a string literal with the print() function:"
   ]
  },
  {
   "cell_type": "code",
   "execution_count": 50,
   "id": "37f83a97-e31b-4bbc-996e-840fe573bb77",
   "metadata": {},
   "outputs": [
    {
     "name": "stdout",
     "output_type": "stream",
     "text": [
      "Hello\n",
      "Hello\n"
     ]
    }
   ],
   "source": [
    "print(\"Hello\")\n",
    "print('Hello')"
   ]
  },
  {
   "cell_type": "markdown",
   "id": "e7bce549-72db-4164-88a9-46c75d294ec0",
   "metadata": {},
   "source": [
    "- Quotes inside Quotes"
   ]
  },
  {
   "cell_type": "code",
   "execution_count": 51,
   "id": "94d81d09-a396-4483-a7e5-b4e96e6e0c4e",
   "metadata": {},
   "outputs": [
    {
     "name": "stdout",
     "output_type": "stream",
     "text": [
      "It's alright\n",
      "He is called 'Johnny'\n",
      "He is called \"Johnny\"\n"
     ]
    }
   ],
   "source": [
    "print(\"It's alright\")\n",
    "print(\"He is called 'Johnny'\")\n",
    "print('He is called \"Johnny\"')"
   ]
  },
  {
   "cell_type": "markdown",
   "id": "ed37072a-17cc-4a40-aafa-65fc356725ac",
   "metadata": {},
   "source": [
    "- Assign String to a Variable"
   ]
  },
  {
   "cell_type": "code",
   "execution_count": 52,
   "id": "388f1150-4799-46ec-ac84-a3e5e22afbba",
   "metadata": {},
   "outputs": [
    {
     "name": "stdout",
     "output_type": "stream",
     "text": [
      "Hello\n"
     ]
    }
   ],
   "source": [
    "a = \"Hello\"\n",
    "print(a)"
   ]
  },
  {
   "cell_type": "markdown",
   "id": "7f5adb1e-945a-498e-8e6c-219103f2c79b",
   "metadata": {},
   "source": [
    "- Multiline Strings"
   ]
  },
  {
   "cell_type": "code",
   "execution_count": 53,
   "id": "59d3cd36-5a04-4ec4-b789-90b47b0451f1",
   "metadata": {},
   "outputs": [
    {
     "name": "stdout",
     "output_type": "stream",
     "text": [
      "Lorem ipsum dolor sit amet,\n",
      "consectetur adipiscing elit,\n",
      "sed do eiusmod tempor incididunt\n",
      "ut labore et dolore magna aliqua.\n"
     ]
    }
   ],
   "source": [
    "# You can use three double quotes\n",
    "a = \"\"\"Lorem ipsum dolor sit amet,\n",
    "consectetur adipiscing elit,\n",
    "sed do eiusmod tempor incididunt\n",
    "ut labore et dolore magna aliqua.\"\"\"\n",
    "print(a)"
   ]
  },
  {
   "cell_type": "code",
   "execution_count": 54,
   "id": "72234285-347d-4a19-9379-093fe46f0786",
   "metadata": {},
   "outputs": [
    {
     "name": "stdout",
     "output_type": "stream",
     "text": [
      "Lorem ipsum dolor sit amet,\n",
      "consectetur adipiscing elit,\n",
      "sed do eiusmod tempor incididunt\n",
      "ut labore et dolore magna aliqua.\n"
     ]
    }
   ],
   "source": [
    "# You can use three single quotes\n",
    "a = '''Lorem ipsum dolor sit amet,\n",
    "consectetur adipiscing elit,\n",
    "sed do eiusmod tempor incididunt\n",
    "ut labore et dolore magna aliqua.'''\n",
    "print(a)"
   ]
  },
  {
   "cell_type": "markdown",
   "id": "a0fb6aca-dabd-49d6-be82-bf907669a19b",
   "metadata": {},
   "source": [
    "# Strings are Arrays\n",
    "Like many other popular programming languages, strings in Python are arrays of bytes representing unicode characters.\n",
    "\n",
    "However, Python does not have a character data type, a single character is simply a string with a length of 1.\n",
    "\n",
    "Square brackets can be used to access elements of the string."
   ]
  },
  {
   "cell_type": "code",
   "execution_count": 55,
   "id": "1acfaa27-be00-4f3f-b9c8-4ab6dbfff1a7",
   "metadata": {},
   "outputs": [
    {
     "name": "stdout",
     "output_type": "stream",
     "text": [
      "e\n"
     ]
    }
   ],
   "source": [
    "a = \"Hello, World!\"\n",
    "print(a[1])"
   ]
  },
  {
   "cell_type": "code",
   "execution_count": 56,
   "id": "37d17029-4c7b-4cd8-82c9-b19e3a858770",
   "metadata": {},
   "outputs": [
    {
     "name": "stdout",
     "output_type": "stream",
     "text": [
      "H\n"
     ]
    }
   ],
   "source": [
    "print(a[0])"
   ]
  },
  {
   "cell_type": "code",
   "execution_count": 57,
   "id": "f40f6abf-4fad-41d4-826e-ef3ceda0a413",
   "metadata": {},
   "outputs": [
    {
     "name": "stdout",
     "output_type": "stream",
     "text": [
      "Hello\n"
     ]
    }
   ],
   "source": [
    "print(a[0:5])"
   ]
  },
  {
   "cell_type": "code",
   "execution_count": 58,
   "id": "fd9ab00c-7f8b-41ee-abbe-c7156b28e951",
   "metadata": {},
   "outputs": [
    {
     "name": "stdout",
     "output_type": "stream",
     "text": [
      "Hello, World\n"
     ]
    }
   ],
   "source": [
    "print(a[0:-1])"
   ]
  },
  {
   "cell_type": "code",
   "execution_count": 59,
   "id": "ee8995bb-953c-4b1f-84d2-f4c4712c3649",
   "metadata": {},
   "outputs": [
    {
     "name": "stdout",
     "output_type": "stream",
     "text": [
      "\n"
     ]
    }
   ],
   "source": [
    "print(a[0:-1:-1])"
   ]
  },
  {
   "cell_type": "code",
   "execution_count": 60,
   "id": "d1e9e92f-af97-46c7-ba3c-0c9acb3ecca8",
   "metadata": {},
   "outputs": [
    {
     "name": "stdout",
     "output_type": "stream",
     "text": [
      "Hello, World\n"
     ]
    }
   ],
   "source": [
    "print(a[0:-1])"
   ]
  },
  {
   "cell_type": "markdown",
   "id": "e55b91a3-c9af-4ea8-9ca7-695d0ba20665",
   "metadata": {},
   "source": [
    "# Looping Through a String\n",
    "\n",
    "Since strings are arrays, we can loop through the characters in a string, with a for loop."
   ]
  },
  {
   "cell_type": "code",
   "execution_count": 61,
   "id": "3901cfae-2de0-43af-a37c-194eadbd1db7",
   "metadata": {},
   "outputs": [
    {
     "name": "stdout",
     "output_type": "stream",
     "text": [
      "b\n",
      "a\n",
      "n\n",
      "a\n",
      "n\n",
      "a\n"
     ]
    }
   ],
   "source": [
    "for x in \"banana\":\n",
    "  print(x)"
   ]
  },
  {
   "cell_type": "code",
   "execution_count": 62,
   "id": "591cb44e-0b22-4a0d-ae6b-6b8901f499f9",
   "metadata": {},
   "outputs": [
    {
     "name": "stdout",
     "output_type": "stream",
     "text": [
      "s\n",
      "w\n",
      "a\n",
      "p\n",
      "n\n",
      "i\n",
      "l\n",
      " \n",
      "m\n",
      "i\n",
      "s\n",
      "h\n",
      "r\n",
      "a\n"
     ]
    }
   ],
   "source": [
    "x = 'swapnil mishra'\n",
    "for i in x:\n",
    "    print(i)"
   ]
  },
  {
   "cell_type": "code",
   "execution_count": 63,
   "id": "925280ce-a810-4c4e-82f2-0b7a52d12619",
   "metadata": {},
   "outputs": [
    {
     "name": "stdout",
     "output_type": "stream",
     "text": [
      "s w a p n i l   m i s h r a "
     ]
    }
   ],
   "source": [
    "for i in x :\n",
    "    print(i, end=\" \")"
   ]
  },
  {
   "cell_type": "code",
   "execution_count": 64,
   "id": "133a8f6b-c993-4081-9e34-a5829dd3800d",
   "metadata": {},
   "outputs": [
    {
     "name": "stdout",
     "output_type": "stream",
     "text": [
      "swapnil mishra"
     ]
    }
   ],
   "source": [
    "for i in x:\n",
    "    print(i,end=\"\")"
   ]
  },
  {
   "cell_type": "code",
   "execution_count": 65,
   "id": "671027cf-954f-4554-8874-cd5eeb5a1383",
   "metadata": {},
   "outputs": [
    {
     "name": "stdout",
     "output_type": "stream",
     "text": [
      "s/w/a/p/n/i/l/ /m/i/s/h/r/a/"
     ]
    }
   ],
   "source": [
    "for i in x:\n",
    "    print(i ,end = \"/\")"
   ]
  },
  {
   "cell_type": "code",
   "execution_count": 66,
   "id": "ddf68dc6-3113-45d4-9a40-e654c040fa50",
   "metadata": {},
   "outputs": [
    {
     "name": "stdout",
     "output_type": "stream",
     "text": [
      "s_w_a_p_n_i_l_ _m_i_s_h_r_a_"
     ]
    }
   ],
   "source": [
    "for i in x :\n",
    "    print(i,end=\"_\")"
   ]
  },
  {
   "cell_type": "code",
   "execution_count": 67,
   "id": "93f94926-4b03-4fe9-94f7-3a5717795709",
   "metadata": {},
   "outputs": [
    {
     "name": "stdout",
     "output_type": "stream",
     "text": [
      "s.w.a.p.n.i.l. .m.i.s.h.r.a."
     ]
    }
   ],
   "source": [
    "for i in x:\n",
    "    print(i,end=\".\")"
   ]
  },
  {
   "cell_type": "code",
   "execution_count": 68,
   "id": "df165716-6f48-4ef1-867f-402cc0078a32",
   "metadata": {},
   "outputs": [
    {
     "name": "stdout",
     "output_type": "stream",
     "text": [
      "s,w,a,p,n,i,l, ,m,i,s,h,r,a,"
     ]
    }
   ],
   "source": [
    "for i in x:\n",
    "    print(i, end=\",\")"
   ]
  },
  {
   "cell_type": "markdown",
   "id": "54374744-d7ed-4f62-ae90-e9c15ebf0afd",
   "metadata": {},
   "source": [
    "# String Length\n",
    "\n",
    "To get the length of a string, use the len() function."
   ]
  },
  {
   "cell_type": "code",
   "execution_count": 69,
   "id": "ceba127d-57bd-433c-a017-e5354dbfa771",
   "metadata": {},
   "outputs": [
    {
     "name": "stdout",
     "output_type": "stream",
     "text": [
      "14\n"
     ]
    }
   ],
   "source": [
    "print(len(x))"
   ]
  },
  {
   "cell_type": "markdown",
   "id": "516722ee-ddc2-4a3e-a493-2d4960ceaea3",
   "metadata": {},
   "source": [
    "# Check String\n",
    "\n",
    "To check if a certain phrase or character is present in a string, we can use the keyword in."
   ]
  },
  {
   "cell_type": "code",
   "execution_count": 70,
   "id": "16f86613-d9bf-47a0-88a7-4272518246f4",
   "metadata": {},
   "outputs": [
    {
     "name": "stdout",
     "output_type": "stream",
     "text": [
      "True\n"
     ]
    }
   ],
   "source": [
    "txt = \"The best things in life are free!\"\n",
    "print(\"free\" in txt)"
   ]
  },
  {
   "cell_type": "code",
   "execution_count": 71,
   "id": "9c426c5a-3123-4377-9a23-66b0aa19f8d5",
   "metadata": {},
   "outputs": [
    {
     "name": "stdout",
     "output_type": "stream",
     "text": [
      "True\n"
     ]
    }
   ],
   "source": [
    "print('nil' in x)"
   ]
  },
  {
   "cell_type": "code",
   "execution_count": 72,
   "id": "213a287c-406d-425c-bef4-2f90059671bb",
   "metadata": {},
   "outputs": [
    {
     "name": "stdout",
     "output_type": "stream",
     "text": [
      "True\n"
     ]
    }
   ],
   "source": [
    "print(\" \" in x)"
   ]
  },
  {
   "cell_type": "markdown",
   "id": "ddb0767a-68be-41c5-b59c-1effb453033c",
   "metadata": {},
   "source": [
    "- Use it in an if statement:"
   ]
  },
  {
   "cell_type": "code",
   "execution_count": 73,
   "id": "b0a56997-4d66-40c9-aa52-c669e027cfee",
   "metadata": {},
   "outputs": [
    {
     "name": "stdout",
     "output_type": "stream",
     "text": [
      "Yes, 'free' is present.\n"
     ]
    }
   ],
   "source": [
    "txt = \"The best things in life are free!\"\n",
    "if \"free\" in txt:\n",
    "  print(\"Yes, 'free' is present.\")"
   ]
  },
  {
   "cell_type": "code",
   "execution_count": 74,
   "id": "b91a22b1-8395-4b5e-9f8f-fee65ad69173",
   "metadata": {},
   "outputs": [
    {
     "name": "stdout",
     "output_type": "stream",
     "text": [
      "yes, 'swapnil' is present.\n"
     ]
    }
   ],
   "source": [
    "if 'swapnil' in x :\n",
    "    print(\"yes, 'swapnil' is present.\")"
   ]
  },
  {
   "cell_type": "markdown",
   "id": "c2311646-a082-4a94-9d2f-dd501372b33a",
   "metadata": {},
   "source": [
    "# Check if NOT\n",
    "\n",
    "To check if a certain phrase or character is NOT present in a string, we can use the keyword not in."
   ]
  },
  {
   "cell_type": "code",
   "execution_count": 75,
   "id": "2f62b3c3-4ae1-4b4f-b8ba-81e395943885",
   "metadata": {},
   "outputs": [
    {
     "name": "stdout",
     "output_type": "stream",
     "text": [
      "True\n"
     ]
    }
   ],
   "source": [
    "txt = \"The best things in life are free!\"\n",
    "print(\"expensive\" not in txt)"
   ]
  },
  {
   "cell_type": "code",
   "execution_count": 76,
   "id": "4e93c56b-1372-4703-b566-c52ddba8ac1b",
   "metadata": {},
   "outputs": [
    {
     "name": "stdout",
     "output_type": "stream",
     "text": [
      "True\n"
     ]
    }
   ],
   "source": [
    "print(\"kumar\" not in x)"
   ]
  },
  {
   "cell_type": "code",
   "execution_count": 77,
   "id": "4b6366ac-1503-401d-89b3-e1ed69bafbaf",
   "metadata": {},
   "outputs": [
    {
     "name": "stdout",
     "output_type": "stream",
     "text": [
      "False\n"
     ]
    }
   ],
   "source": [
    "print(\"swapnil\" not in x)"
   ]
  },
  {
   "cell_type": "markdown",
   "id": "58ffde4f-a5ee-4199-baa0-719d7f4893fa",
   "metadata": {},
   "source": [
    "- Use it in an if statement:"
   ]
  },
  {
   "cell_type": "code",
   "execution_count": 78,
   "id": "78cade04-463e-4f25-9e68-9d458d78b03a",
   "metadata": {},
   "outputs": [
    {
     "name": "stdout",
     "output_type": "stream",
     "text": [
      "No, 'expensive' is NOT present.\n"
     ]
    }
   ],
   "source": [
    "txt = \"The best things in life are free!\"\n",
    "if \"expensive\" not in txt:\n",
    "  print(\"No, 'expensive' is NOT present.\")"
   ]
  },
  {
   "cell_type": "code",
   "execution_count": 79,
   "id": "faa152e3-22d5-4903-9d6b-153a15a7b937",
   "metadata": {},
   "outputs": [
    {
     "name": "stdout",
     "output_type": "stream",
     "text": [
      "No, 'kumar' is NOT present.\n"
     ]
    }
   ],
   "source": [
    "if \"kumar\" not in x:\n",
    "    print(\"No, 'kumar' is NOT present.\")"
   ]
  },
  {
   "cell_type": "markdown",
   "id": "b3c7daa0-9b15-4a7e-8e42-cfc90be72b82",
   "metadata": {},
   "source": [
    "# Pyhton slicing"
   ]
  },
  {
   "cell_type": "markdown",
   "id": "8156c9db-7b93-467c-aaf9-6c46a466bd9d",
   "metadata": {},
   "source": [
    "- Specify the start index and the end index, separated by a colon, to return a part of the string."
   ]
  },
  {
   "cell_type": "code",
   "execution_count": 2,
   "id": "3ea93ca5-a257-4fc2-8c3e-d9f013f181e0",
   "metadata": {},
   "outputs": [
    {
     "name": "stdout",
     "output_type": "stream",
     "text": [
      "hello, world\n"
     ]
    }
   ],
   "source": [
    "b = \"hello, world\"\n",
    "print(b)"
   ]
  },
  {
   "cell_type": "code",
   "execution_count": 3,
   "id": "93589d10-8b29-47ab-a327-ca53e1cc7878",
   "metadata": {},
   "outputs": [
    {
     "name": "stdout",
     "output_type": "stream",
     "text": [
      "llo\n"
     ]
    }
   ],
   "source": [
    "#slic from start \n",
    "print(b[2:5])"
   ]
  },
  {
   "cell_type": "code",
   "execution_count": 4,
   "id": "b2fbde22-1406-4c8f-a731-669009cf43d2",
   "metadata": {},
   "outputs": [
    {
     "name": "stdout",
     "output_type": "stream",
     "text": [
      "hello\n"
     ]
    }
   ],
   "source": [
    "print(b[:5])"
   ]
  },
  {
   "cell_type": "code",
   "execution_count": 5,
   "id": "6a88ecc2-2e0b-43ea-9274-117719c90f6f",
   "metadata": {},
   "outputs": [
    {
     "name": "stdout",
     "output_type": "stream",
     "text": [
      ", world\n"
     ]
    }
   ],
   "source": [
    "# Slicing to the end \n",
    "print(b[5:])"
   ]
  },
  {
   "cell_type": "code",
   "execution_count": 6,
   "id": "0b5c38c8-51ed-4585-a8a1-1945de9894d5",
   "metadata": {},
   "outputs": [
    {
     "name": "stdout",
     "output_type": "stream",
     "text": [
      "llo, world\n"
     ]
    }
   ],
   "source": [
    "print(b[2:])"
   ]
  },
  {
   "cell_type": "code",
   "execution_count": 8,
   "id": "02ab03a5-790d-41b0-b3fd-8b6b64cde2a4",
   "metadata": {},
   "outputs": [
    {
     "name": "stdout",
     "output_type": "stream",
     "text": [
      "Wor\n"
     ]
    }
   ],
   "source": [
    "# Negative indexing \n",
    "b =\"Hello, World\"\n",
    "print(b[-5:-2])"
   ]
  },
  {
   "cell_type": "code",
   "execution_count": 10,
   "id": "fdb065ef-4a6c-4dd7-bf7a-2aed525316ba",
   "metadata": {},
   "outputs": [
    {
     "name": "stdout",
     "output_type": "stream",
     "text": [
      "HELLO, WORLD\n"
     ]
    }
   ],
   "source": [
    "# Upper Case\n",
    "a =\"Hello, World\"\n",
    "print(a.upper())"
   ]
  },
  {
   "cell_type": "code",
   "execution_count": 11,
   "id": "a34bb20e-bcee-4ff8-867a-fddabe87d9d2",
   "metadata": {},
   "outputs": [
    {
     "name": "stdout",
     "output_type": "stream",
     "text": [
      "hello, world\n"
     ]
    }
   ],
   "source": [
    "a =\"HELLO, WORLD\"\n",
    "print(a.lower())"
   ]
  },
  {
   "cell_type": "code",
   "execution_count": 14,
   "id": "20b235cd-9cc4-4328-a47d-e324764cb2ad",
   "metadata": {},
   "outputs": [
    {
     "name": "stdout",
     "output_type": "stream",
     "text": [
      "Hello, World\n"
     ]
    }
   ],
   "source": [
    "#Remove Whitespace \n",
    "a = \" Hello, World\"\n",
    "print(a.strip())"
   ]
  },
  {
   "cell_type": "code",
   "execution_count": 16,
   "id": "e5662ec3-56e4-4758-864e-841c8c32becc",
   "metadata": {},
   "outputs": [
    {
     "name": "stdout",
     "output_type": "stream",
     "text": [
      "Jello, World\n"
     ]
    }
   ],
   "source": [
    "#Replace String \n",
    "a =\"Hello, World\"\n",
    "print(a.replace(\"H\", \"J\"))"
   ]
  },
  {
   "cell_type": "code",
   "execution_count": 17,
   "id": "71be94f4-c218-4b04-9bfc-7b4654f40373",
   "metadata": {},
   "outputs": [
    {
     "name": "stdout",
     "output_type": "stream",
     "text": [
      "['Hello', ' World']\n"
     ]
    }
   ],
   "source": [
    "#Spli String \n",
    "a = \"Hello, World\"\n",
    "print(a.split(\",\"))"
   ]
  },
  {
   "cell_type": "code",
   "execution_count": 19,
   "id": "108a0294-ebe2-4c30-9ce9-632ed6c965d8",
   "metadata": {},
   "outputs": [
    {
     "name": "stdout",
     "output_type": "stream",
     "text": [
      "HelloWorld\n"
     ]
    }
   ],
   "source": [
    "# String Concatenation \n",
    "a =\"Hello\"\n",
    "b =\"World\"\n",
    "c = a + b\n",
    "print(c)"
   ]
  },
  {
   "cell_type": "code",
   "execution_count": 20,
   "id": "776fc61b-30b7-44fd-a7f5-f8489808deb4",
   "metadata": {},
   "outputs": [
    {
     "name": "stdout",
     "output_type": "stream",
     "text": [
      "Hello World\n"
     ]
    }
   ],
   "source": [
    "# To add space between them , add a \" \" :\n",
    "c = a+\" \" +b\n",
    "print(c)"
   ]
  },
  {
   "cell_type": "code",
   "execution_count": 22,
   "id": "d65016ce-35c2-4843-8315-06d58d098de0",
   "metadata": {},
   "outputs": [
    {
     "ename": "TypeError",
     "evalue": "can only concatenate str (not \"int\") to str",
     "output_type": "error",
     "traceback": [
      "\u001b[1;31m---------------------------------------------------------------------------\u001b[0m",
      "\u001b[1;31mTypeError\u001b[0m                                 Traceback (most recent call last)",
      "Cell \u001b[1;32mIn[22], line 3\u001b[0m\n\u001b[0;32m      1\u001b[0m \u001b[38;5;66;03m# String Formate \u001b[39;00m\n\u001b[0;32m      2\u001b[0m age \u001b[38;5;241m=\u001b[39m \u001b[38;5;241m23\u001b[39m \n\u001b[1;32m----> 3\u001b[0m txt \u001b[38;5;241m=\u001b[39m \u001b[38;5;124m\"\u001b[39m\u001b[38;5;124mMy name is john, I am \u001b[39m\u001b[38;5;124m\"\u001b[39m \u001b[38;5;241m+\u001b[39m age\n\u001b[0;32m      4\u001b[0m \u001b[38;5;28mprint\u001b[39m(txt)\n",
      "\u001b[1;31mTypeError\u001b[0m: can only concatenate str (not \"int\") to str"
     ]
    }
   ],
   "source": [
    "# String Formate \n",
    "age = 23 \n",
    "txt = \"My name is john, I am \" + age\n",
    "print(txt)"
   ]
  },
  {
   "cell_type": "markdown",
   "id": "a6d0a3f0-53af-4734-9932-0d0b6e9970ea",
   "metadata": {},
   "source": [
    "# F-Strings\n",
    "\n",
    "- To specify a string as an f-string, simply put an f in front of the string literal, and add curly brackets {} as placeholders for variables and other operations."
   ]
  },
  {
   "cell_type": "code",
   "execution_count": 24,
   "id": "811a5b8d-b15e-45d3-8675-a55a9cd28bfa",
   "metadata": {},
   "outputs": [
    {
     "name": "stdout",
     "output_type": "stream",
     "text": [
      "My name is swapnil , I am 23\n"
     ]
    }
   ],
   "source": [
    "age = 23 \n",
    "txt = f\"My name is swapnil , I am {age}\"\n",
    "print(txt)"
   ]
  },
  {
   "cell_type": "markdown",
   "id": "b2c93622-ecc8-49dd-a71e-566096033851",
   "metadata": {},
   "source": [
    "# Placeholders and Modifiers\n",
    "- A placeholder can contain variables, operations, functions, and modifiers to format the value."
   ]
  },
  {
   "cell_type": "code",
   "execution_count": 25,
   "id": "47064dc1-8928-4226-818f-ec0920de389f",
   "metadata": {},
   "outputs": [
    {
     "name": "stdout",
     "output_type": "stream",
     "text": [
      "The price is 59 dollars\n"
     ]
    }
   ],
   "source": [
    "price = 59\n",
    "txt = f\"The price is {price} dollars\"\n",
    "print(txt)"
   ]
  },
  {
   "cell_type": "code",
   "execution_count": 26,
   "id": "e0c3b997-7c2d-4463-82ca-ccc5e9557117",
   "metadata": {},
   "outputs": [
    {
     "name": "stdout",
     "output_type": "stream",
     "text": [
      "The price is 59.00 dollars\n"
     ]
    }
   ],
   "source": [
    "# Display the price with 2 decimals:\n",
    "price = 59\n",
    "txt = f\"The price is {price:.2f} dollars\"\n",
    "print(txt)"
   ]
  },
  {
   "cell_type": "code",
   "execution_count": 27,
   "id": "9505964a-0268-4098-a6dc-edf96b1acf5e",
   "metadata": {},
   "outputs": [
    {
     "name": "stdout",
     "output_type": "stream",
     "text": [
      "The price is 1180 dollars\n"
     ]
    }
   ],
   "source": [
    "txt = f\"The price is {20 * 59} dollars\"\n",
    "print(txt)"
   ]
  },
  {
   "cell_type": "markdown",
   "id": "f1bbc133-1380-49e5-bd53-33b6a8b1bac2",
   "metadata": {},
   "source": [
    "# Escape Character"
   ]
  },
  {
   "cell_type": "code",
   "execution_count": 28,
   "id": "9b84bffd-50b9-49bb-aebf-dea62740a5c8",
   "metadata": {},
   "outputs": [
    {
     "ename": "SyntaxError",
     "evalue": "invalid syntax (7934146.py, line 1)",
     "output_type": "error",
     "traceback": [
      "\u001b[1;36m  Cell \u001b[1;32mIn[28], line 1\u001b[1;36m\u001b[0m\n\u001b[1;33m    txt = \"We are the so-called \"Vikings\" from the north.\"\u001b[0m\n\u001b[1;37m                                 ^\u001b[0m\n\u001b[1;31mSyntaxError\u001b[0m\u001b[1;31m:\u001b[0m invalid syntax\n"
     ]
    }
   ],
   "source": [
    "txt = \"We are the so-called \"Vikings\" from the north.\""
   ]
  },
  {
   "cell_type": "code",
   "execution_count": 29,
   "id": "50ddf757-ae0c-4966-8532-273f91417f88",
   "metadata": {},
   "outputs": [],
   "source": [
    "txt = \"We are the so-called \\\"Vikings\\\" from the north.\""
   ]
  },
  {
   "cell_type": "code",
   "execution_count": 30,
   "id": "11d5e7fa-7bb2-4cc7-80b1-2e487c185b63",
   "metadata": {},
   "outputs": [
    {
     "name": "stdout",
     "output_type": "stream",
     "text": [
      "We are the so-called \"Vikings\" from the north.\n"
     ]
    }
   ],
   "source": [
    "print(txt)"
   ]
  },
  {
   "cell_type": "markdown",
   "id": "5b51d99a-d916-4ac3-9b16-36a8c48e08b3",
   "metadata": {},
   "source": [
    "# String Methods\n",
    "- Python has a set of built-in methods that you can use on strings"
   ]
  },
  {
   "cell_type": "markdown",
   "id": "33b0710e-6cf5-4cc6-be9a-a41a56542a0b",
   "metadata": {},
   "source": [
    "# Method   \\t\tDescription\n",
    "- capitalize()-->\t Converts the first character to upper case\n",
    "  \n",
    "- casefold()-->\tConverts string into lower case\n",
    "\n",
    "- \n",
    "- center()-->\tReturns a centered string\n",
    "\n",
    "- \n",
    "- count()-->\tReturns the number of times a specified value occurs in a string\n",
    "\n",
    "- \n",
    "- encode()-->\tReturns an encoded version of the string\n",
    "\n",
    "- \n",
    "- endswith()-->\tReturns true if the string ends with the specified value\n",
    "- expandtabs()-->\tSets the tab size of the string\n",
    "- find()-->\tSearches the string for a specified value and returns the position of where it was found\n",
    "- format()-->\tFormats specified values in a string\n",
    "- format_map()-->\tFormats specified values in a string\n",
    "- index()-->\tSearches the string for a specified value and returns the position of where it was found\n",
    "- isalnum()-->\tReturns True if all characters in the string are alphanumeric\n",
    "- isalpha()-->\tReturns True if all characters in the string are in the alphabet\n",
    "- isascii()-->\tReturns True if all characters in the string are ascii characters\n",
    "- isdecimal()-->\tReturns True if all characters in the string are decimals\n",
    "- isdigit()-->\tReturns True if all characters in the string are digits\n",
    "- isidentifier()-->\tReturns True if the string is an identifier\n",
    "- islower()-->\tReturns True if all characters in the string are lower case\n",
    "- isnumeric()-->\tReturns True if all characters in the string are numeric\n",
    "- isprintable()-->\tReturns True if all characters in the string are printable\n",
    "- isspace()-->\tReturns True if all characters in the string are whitespaces\n",
    "- istitle()-->\tReturns True if the string follows the rules of a title\n",
    "- isupper()-->\tReturns True if all characters in the string are upper case\n",
    "- join()-->\tJoins the elements of an iterable to the end of the string\n",
    "- ljust()-->\tReturns a left justified version of the string\n",
    "- lower()-->\tConverts a string into lower case\n",
    "- lstrip()-->\tReturns a left trim version of the string\n",
    "- maketrans()-->\tReturns a translation table to be used in translations\n",
    "- partition()-->\tReturns a tuple where the string is parted into three parts\n",
    "- replace()-->\tReturns a string where a specified value is replaced with a specified value\n",
    "- rfind()-->\tSearches the string for a specified value and returns the last position of where it was found\n",
    "- rindex()-->\tSearches the string for a specified value and returns the last position of where it was found\n",
    "- rjust()-->\tReturns a right justified version of the string\n",
    "- rpartition()-->\tReturns a tuple where the string is parted into three parts\n",
    "- rsplit()-->\tSplits the string at the specified separator, and returns a list\n",
    "- rstrip()-->\tReturns a right trim version of the string\n",
    "- split()-->\tSplits the string at the specified separator, and returns a list\n",
    "-  splitlines()-->\tSplits the string at line breaks and returns a list\n",
    "- startswith()-->\tReturns true if the string starts with the specified value\n",
    "- strip()-->\tReturns a trimmed version of the string\n",
    "- swapcase()-->\tSwaps cases, lower case becomes upper case and vice versa\n",
    "- title()-->\tConverts the first character of each word to upper case\n",
    "- translate()-->\tReturns a translated string\n",
    "- upper()-->\tConverts a string into upper case\n",
    "- zfill()-->\tFills the string with a specified number of 0 values at the beginning"
   ]
  },
  {
   "cell_type": "markdown",
   "id": "624af303-75c0-4c21-b647-2753d4a39ca7",
   "metadata": {},
   "source": [
    "# Python Booleans\n"
   ]
  },
  {
   "cell_type": "markdown",
   "id": "f26caca0-b601-4faf-b551-105893551a22",
   "metadata": {},
   "source": [
    "\n",
    "In programming you often need to know if an expression is True or False.\n",
    "\n",
    "You can evaluate any expression in Python, and get one of two answers, True or False.\n",
    "\n",
    "When you compare two values, the expression is evaluated and Python returns the Boolean answer:"
   ]
  },
  {
   "cell_type": "code",
   "execution_count": 31,
   "id": "8116b86b-b673-4e5d-aa5e-602f1f84b466",
   "metadata": {},
   "outputs": [
    {
     "name": "stdout",
     "output_type": "stream",
     "text": [
      "True\n",
      "False\n",
      "False\n"
     ]
    }
   ],
   "source": [
    "print(10 > 9)\n",
    "print(10 == 9)\n",
    "print(10 < 9)"
   ]
  },
  {
   "cell_type": "markdown",
   "id": "b3ea5a7c-4eda-4d29-9cf5-38ca443bf628",
   "metadata": {},
   "source": [
    "When you run a condition in an if statement, Python returns True or False:"
   ]
  },
  {
   "cell_type": "code",
   "execution_count": 32,
   "id": "5744ca7d-c56b-4722-90ac-f8e0cc0d32ad",
   "metadata": {},
   "outputs": [
    {
     "name": "stdout",
     "output_type": "stream",
     "text": [
      "b is not greater than a\n"
     ]
    }
   ],
   "source": [
    "a = 200\n",
    "b = 33\n",
    "\n",
    "if b > a:\n",
    "  print(\"b is greater than a\")\n",
    "else:\n",
    "  print(\"b is not greater than a\")"
   ]
  },
  {
   "cell_type": "markdown",
   "id": "ddf1fc3b-f3d8-4ce9-ad74-5d3964441823",
   "metadata": {},
   "source": [
    "- Evaluate Values and Variables\n",
    "- \n",
    "The bool() function allows you to evaluate any value, and give you True or False in return,"
   ]
  },
  {
   "cell_type": "code",
   "execution_count": 33,
   "id": "345b6a7f-9060-4e5a-98a4-9bc44d4ee5ca",
   "metadata": {},
   "outputs": [
    {
     "name": "stdout",
     "output_type": "stream",
     "text": [
      "True\n",
      "True\n"
     ]
    }
   ],
   "source": [
    "print(bool(\"Hello\"))\n",
    "print(bool(15))"
   ]
  },
  {
   "cell_type": "code",
   "execution_count": 34,
   "id": "279e46fd-aa10-4bc5-9da7-ad10529cc946",
   "metadata": {},
   "outputs": [
    {
     "name": "stdout",
     "output_type": "stream",
     "text": [
      "True\n",
      "True\n"
     ]
    }
   ],
   "source": [
    "x = \"Hello\"\n",
    "y = 15\n",
    "\n",
    "print(bool(x))\n",
    "print(bool(y))"
   ]
  },
  {
   "cell_type": "markdown",
   "id": "1e5281af-1aca-4217-ad99-36df81da73b0",
   "metadata": {},
   "source": [
    "# Most Values are True\n",
    "- \n",
    "Almost any value is evaluated to True if it has some sort of content.\n",
    "\n",
    "Any string is True, except empty strings.\n",
    "\n",
    "Any number is True, except 0.\n",
    "\n",
    "Any list, tuple, set, and dictionary are True, except empty ones."
   ]
  },
  {
   "cell_type": "code",
   "execution_count": 35,
   "id": "5a1f190a-4eea-43ba-8781-5c51d893bdd5",
   "metadata": {},
   "outputs": [
    {
     "data": {
      "text/plain": [
       "True"
      ]
     },
     "execution_count": 35,
     "metadata": {},
     "output_type": "execute_result"
    }
   ],
   "source": [
    "bool(\"abc\")\n",
    "bool(123)\n",
    "bool([\"apple\", \"cherry\", \"banana\"])"
   ]
  },
  {
   "cell_type": "markdown",
   "id": "0afd937f-b005-4f2e-a027-c004f0d0fb96",
   "metadata": {},
   "source": [
    "# Some Values are False\n",
    "In fact, there are not many values that evaluate to False, except empty values, such as (), [], {}, \"\", the number 0, and the value None. And of course the value False evaluates to False."
   ]
  },
  {
   "cell_type": "code",
   "execution_count": 36,
   "id": "f0684d8c-436e-44f8-926c-60265c6ff0f0",
   "metadata": {},
   "outputs": [
    {
     "data": {
      "text/plain": [
       "False"
      ]
     },
     "execution_count": 36,
     "metadata": {},
     "output_type": "execute_result"
    }
   ],
   "source": [
    "bool(False)\n",
    "bool(None)\n",
    "bool(0)\n",
    "bool(\"\")\n",
    "bool(())\n",
    "bool([])\n",
    "bool({})"
   ]
  },
  {
   "cell_type": "markdown",
   "id": "e4e94c97-8603-4c71-9b25-477294881ea6",
   "metadata": {},
   "source": [
    "One more value, or object in this case, evaluates to False, and that is if you have an object that is made from a class with a __len__ function that returns 0 or False:"
   ]
  },
  {
   "cell_type": "code",
   "execution_count": 37,
   "id": "851cd34c-cc9d-44eb-9c1d-39d69c8c1c6d",
   "metadata": {},
   "outputs": [
    {
     "name": "stdout",
     "output_type": "stream",
     "text": [
      "False\n"
     ]
    }
   ],
   "source": [
    "class myclass():\n",
    "  def __len__(self):\n",
    "    return 0\n",
    "\n",
    "myobj = myclass()\n",
    "print(bool(myobj))"
   ]
  },
  {
   "cell_type": "markdown",
   "id": "2f43852c-5e50-4fbb-8a78-09d63366d60e",
   "metadata": {},
   "source": [
    "# Functions can Return a Boolean\n",
    "You can create functions that returns a Boolean Value:"
   ]
  },
  {
   "cell_type": "code",
   "execution_count": 38,
   "id": "768f804b-3439-45d1-b88d-062a5c175c66",
   "metadata": {},
   "outputs": [
    {
     "name": "stdout",
     "output_type": "stream",
     "text": [
      "True\n"
     ]
    }
   ],
   "source": [
    "def myFunction() :\n",
    "  return True\n",
    "\n",
    "print(myFunction())"
   ]
  },
  {
   "cell_type": "markdown",
   "id": "dd88043d-b7ba-401f-a871-aef20541f656",
   "metadata": {},
   "source": [
    "You can execute code based on the Boolean answer of a function:"
   ]
  },
  {
   "cell_type": "code",
   "execution_count": 39,
   "id": "0fd540f4-650e-47f4-960f-934637d98f78",
   "metadata": {},
   "outputs": [
    {
     "name": "stdout",
     "output_type": "stream",
     "text": [
      "YES!\n"
     ]
    }
   ],
   "source": [
    "def myFunction() :\n",
    "  return True\n",
    "\n",
    "if myFunction():\n",
    "  print(\"YES!\")\n",
    "else:\n",
    "  print(\"NO!\")"
   ]
  },
  {
   "cell_type": "markdown",
   "id": "a87238c9-0b0e-4134-bfcc-4f5b1d2828ee",
   "metadata": {},
   "source": [
    "Python also has many built-in functions that return a boolean value, like the isinstance() function, which can be used to determine if an object is of a certain data type:"
   ]
  },
  {
   "cell_type": "code",
   "execution_count": 40,
   "id": "076a3e58-7142-4616-bd1f-9ed7b2a75c18",
   "metadata": {},
   "outputs": [
    {
     "name": "stdout",
     "output_type": "stream",
     "text": [
      "True\n"
     ]
    }
   ],
   "source": [
    "x = 200\n",
    "print(isinstance(x, int))"
   ]
  }
 ],
 "metadata": {
  "kernelspec": {
   "display_name": "Python 3 (ipykernel)",
   "language": "python",
   "name": "python3"
  },
  "language_info": {
   "codemirror_mode": {
    "name": "ipython",
    "version": 3
   },
   "file_extension": ".py",
   "mimetype": "text/x-python",
   "name": "python",
   "nbconvert_exporter": "python",
   "pygments_lexer": "ipython3",
   "version": "3.12.7"
  }
 },
 "nbformat": 4,
 "nbformat_minor": 5
}
