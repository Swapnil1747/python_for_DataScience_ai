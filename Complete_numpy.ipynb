{
 "cells": [
  {
   "cell_type": "markdown",
   "id": "ea0d1a24-fa97-4225-ac50-e569383db04e",
   "metadata": {},
   "source": [
    "# Coplete NUMPY Documentation"
   ]
  },
  {
   "cell_type": "markdown",
   "id": "7fdd0af9-0f8d-44ed-9ab9-8fc2a79dbc1d",
   "metadata": {},
   "source": [
    "# 1. Array Creation Function"
   ]
  },
  {
   "cell_type": "code",
   "execution_count": 17,
   "id": "b1b7b6ca-5869-40fe-8ecd-833a04e39e2a",
   "metadata": {},
   "outputs": [],
   "source": [
    "import numpy as np"
   ]
  },
  {
   "cell_type": "code",
   "execution_count": 18,
   "id": "00b6cdbd-7ba7-48ec-b081-4905bcd75a67",
   "metadata": {},
   "outputs": [
    {
     "name": "stdout",
     "output_type": "stream",
     "text": [
      "Array a: [1 2 3]\n"
     ]
    }
   ],
   "source": [
    "# Create an array from a list \n",
    "a =np.array([1,2,3])\n",
    "print(\"Array a:\",a)"
   ]
  },
  {
   "cell_type": "code",
   "execution_count": 19,
   "id": "b7e1d9a1-b1b9-4dd3-8786-2acfb2967b7f",
   "metadata": {},
   "outputs": [
    {
     "name": "stdout",
     "output_type": "stream",
     "text": [
      "Array b: [0 2 4 6 8]\n"
     ]
    }
   ],
   "source": [
    "#Creat an array with evenly spaced values\n",
    "b=np.arange(0,10,2) #Value from 0 to 10 with step 2\n",
    "print(\"Array b:\",b)"
   ]
  },
  {
   "cell_type": "code",
   "execution_count": 20,
   "id": "f4cc3f56-a2d2-4d93-af07-908e39ac096c",
   "metadata": {},
   "outputs": [
    {
     "name": "stdout",
     "output_type": "stream",
     "text": [
      "Array d:\n",
      " [0.   0.25 0.5  0.75 1.  ]\n"
     ]
    }
   ],
   "source": [
    "#Creat an array with linealy spaced values \n",
    "c = np.linspace(0,1,5) #5values evenly spaced between 0 to 1\n",
    "print(\"Array d:\\n\", c)"
   ]
  },
  {
   "cell_type": "code",
   "execution_count": 21,
   "id": "0d52bf22-9e8c-4c9e-a8c6-5adece630713",
   "metadata": {},
   "outputs": [
    {
     "name": "stdout",
     "output_type": "stream",
     "text": [
      "Array d:\n",
      " [[0. 0. 0.]\n",
      " [0. 0. 0.]]\n"
     ]
    }
   ],
   "source": [
    "#Creatan array filled with Zeros\n",
    "d = np.zeros((2,3)) #2*3 array of zeros\n",
    "print(\"Array d:\\n\",d)"
   ]
  },
  {
   "cell_type": "code",
   "execution_count": 22,
   "id": "efda9d38-3b9d-4189-b444-24e75680597c",
   "metadata": {},
   "outputs": [
    {
     "name": "stdout",
     "output_type": "stream",
     "text": [
      "Array e:\n",
      " [[1. 1. 1. 1.]\n",
      " [1. 1. 1. 1.]\n",
      " [1. 1. 1. 1.]]\n"
     ]
    }
   ],
   "source": [
    "#Creat an array filled with ones\n",
    "e = np.ones((3,4)) #3*4 arrao of ones\n",
    "print(\"Array e:\\n\",e)"
   ]
  },
  {
   "cell_type": "code",
   "execution_count": 23,
   "id": "10583b9c-44b3-4487-91ae-28205ea10410",
   "metadata": {},
   "outputs": [
    {
     "name": "stdout",
     "output_type": "stream",
     "text": [
      "Indentity Matrix f:\n",
      " [[1. 0. 0. 0. 0.]\n",
      " [0. 1. 0. 0. 0.]\n",
      " [0. 0. 1. 0. 0.]\n",
      " [0. 0. 0. 1. 0.]\n",
      " [0. 0. 0. 0. 1.]]\n"
     ]
    }
   ],
   "source": [
    "#Creat an identity matrix \n",
    "f =np.eye(5) #4*4 identity matrix\n",
    "print(\"Indentity Matrix f:\\n\",f)"
   ]
  },
  {
   "cell_type": "markdown",
   "id": "e618b610-5fa1-461a-bd95-b5e94056f421",
   "metadata": {},
   "source": [
    "# 2. Array Manipulation Fuction"
   ]
  },
  {
   "cell_type": "code",
   "execution_count": 24,
   "id": "2abd9750-c44e-463a-87dd-eeb62453c522",
   "metadata": {},
   "outputs": [
    {
     "name": "stdout",
     "output_type": "stream",
     "text": [
      "Reshaped array :\n",
      " [[1]\n",
      " [2]\n",
      " [3]]\n"
     ]
    }
   ],
   "source": [
    "# Reshsape an array\n",
    "a1 =np.array([1,2,3])\n",
    "reshaped = np.reshape(a1,(3,1)) #reshape array 3*1\n",
    "print(\"Reshaped array :\\n\",reshaped)"
   ]
  },
  {
   "cell_type": "code",
   "execution_count": 25,
   "id": "1b66b425-18ac-421e-9e65-3f1c10f79be0",
   "metadata": {},
   "outputs": [
    {
     "name": "stdout",
     "output_type": "stream",
     "text": [
      "Flatted array: [1 2 3 4]\n"
     ]
    }
   ],
   "source": [
    "#Flatted an aaray\n",
    "f1 = np.array([[1,2],[3,4]])\n",
    "flatted=np.ravel(f1) #Flatted to 1D array\n",
    "print(\"Flatted array:\",flatted)"
   ]
  },
  {
   "cell_type": "code",
   "execution_count": 26,
   "id": "1fb982cf-359d-4bd9-a075-85fb06ed0646",
   "metadata": {},
   "outputs": [
    {
     "name": "stdout",
     "output_type": "stream",
     "text": [
      "Transpose array:\n",
      " [[1 3]\n",
      " [2 4]]\n"
     ]
    }
   ],
   "source": [
    "#Transpose an array\n",
    "e1=np.array([[1,2],[3,4]])\n",
    "transpose=np.transpose(e1) #Transpose to array\n",
    "print(\"Transpose array:\\n\",transpose)"
   ]
  },
  {
   "cell_type": "code",
   "execution_count": 27,
   "id": "979c82a2-c604-4daa-80fc-3b4092aa28ff",
   "metadata": {},
   "outputs": [
    {
     "name": "stdout",
     "output_type": "stream",
     "text": [
      "Stacked array:\n",
      " [[1 2]\n",
      " [3 4]]\n"
     ]
    }
   ],
   "source": [
    "#Stack arrays vertically\n",
    "a2 =np.array([1,2])\n",
    "b2 =np.array([3,4,])\n",
    "stacked =np.vstack([a2,b2]) #stack a and b vertically\n",
    "print(\"Stacked array:\\n\",stacked)"
   ]
  },
  {
   "cell_type": "markdown",
   "id": "4b7bbdd0-09ef-428b-b49a-fc2812e59c48",
   "metadata": {},
   "source": [
    "# 3. Mathematical Functions"
   ]
  },
  {
   "cell_type": "code",
   "execution_count": 28,
   "id": "16ae21ed-11ea-467e-812c-e05a53b08491",
   "metadata": {},
   "outputs": [
    {
     "name": "stdout",
     "output_type": "stream",
     "text": [
      "Added 2 to g: [3 4 5 6]\n"
     ]
    }
   ],
   "source": [
    "# Add two arrays\n",
    "g =np.array([1,2,3,4])\n",
    "added =np.add(g,2) #add 2 to each element\n",
    "print(\"Added 2 to g:\",added)"
   ]
  },
  {
   "cell_type": "code",
   "execution_count": 29,
   "id": "bec3f88c-bcaa-4609-9b99-dcf243e7f73c",
   "metadata": {},
   "outputs": [
    {
     "name": "stdout",
     "output_type": "stream",
     "text": [
      "Squared g: [ 1  4  9 16]\n"
     ]
    }
   ],
   "source": [
    "#Square each element\n",
    "squared = np.power(g,2) #Square each element\n",
    "print(\"Squared g:\",squared)"
   ]
  },
  {
   "cell_type": "code",
   "execution_count": 30,
   "id": "b02c6aed-1285-41d9-ad3b-1a1a439a1934",
   "metadata": {},
   "outputs": [
    {
     "name": "stdout",
     "output_type": "stream",
     "text": [
      "Square root of g; [1.         1.41421356 1.73205081 2.        ]\n"
     ]
    }
   ],
   "source": [
    "#Square root of each element\n",
    "sqrt_va1 =np.sqrt(g) #Square root of each element\n",
    "print(\"Square root of g;\",sqrt_va1)"
   ]
  },
  {
   "cell_type": "code",
   "execution_count": 31,
   "id": "3ca2b43c-5d86-4c82-8ec9-dd4af0db695f",
   "metadata": {},
   "outputs": [
    {
     "name": "stdout",
     "output_type": "stream",
     "text": [
      "[1 2 3]\n",
      "[1 2 3 4]\n"
     ]
    }
   ],
   "source": [
    "print(a1)\n",
    "print(g)"
   ]
  },
  {
   "cell_type": "code",
   "execution_count": 32,
   "id": "839b0501-8531-4b42-986e-9522b1d033a0",
   "metadata": {},
   "outputs": [
    {
     "ename": "ValueError",
     "evalue": "shapes (3,) and (4,) not aligned: 3 (dim 0) != 4 (dim 0)",
     "output_type": "error",
     "traceback": [
      "\u001b[1;31m---------------------------------------------------------------------------\u001b[0m",
      "\u001b[1;31mValueError\u001b[0m                                Traceback (most recent call last)",
      "Cell \u001b[1;32mIn[32], line 3\u001b[0m\n\u001b[0;32m      1\u001b[0m \u001b[38;5;66;03m# Dot product of two arrays\u001b[39;00m\n\u001b[0;32m      2\u001b[0m a2 \u001b[38;5;241m=\u001b[39m np\u001b[38;5;241m.\u001b[39marray([\u001b[38;5;241m5\u001b[39m,\u001b[38;5;241m6\u001b[39m,\u001b[38;5;241m7\u001b[39m])\n\u001b[1;32m----> 3\u001b[0m dot_product\u001b[38;5;241m=\u001b[39mnp\u001b[38;5;241m.\u001b[39mdot(a2,g) \u001b[38;5;66;03m#Dot product of a and g\u001b[39;00m\n\u001b[0;32m      4\u001b[0m \u001b[38;5;28mprint\u001b[39m(\u001b[38;5;124m\"\u001b[39m\u001b[38;5;124mDot product of a and g:\u001b[39m\u001b[38;5;124m\"\u001b[39m,dot_product)\n",
      "\u001b[1;31mValueError\u001b[0m: shapes (3,) and (4,) not aligned: 3 (dim 0) != 4 (dim 0)"
     ]
    }
   ],
   "source": [
    "# Dot product of two arrays\n",
    "a2 = np.array([5,6,7])\n",
    "dot_product=np.dot(a2,g) #Dot product of a and g\n",
    "print(\"Dot product of a and g:\",dot_product)"
   ]
  },
  {
   "cell_type": "code",
   "execution_count": 33,
   "id": "c2732bbb-e9b6-4e8a-b42c-6da627dcd95a",
   "metadata": {},
   "outputs": [
    {
     "name": "stdout",
     "output_type": "stream",
     "text": [
      "[1 2 3]\n",
      "[1 2 3]\n"
     ]
    }
   ],
   "source": [
    "print(a)\n",
    "print(a1)"
   ]
  },
  {
   "cell_type": "code",
   "execution_count": 34,
   "id": "821831a2-26d6-4ee1-b51c-549cbe059e21",
   "metadata": {},
   "outputs": [
    {
     "name": "stdout",
     "output_type": "stream",
     "text": [
      "Dot product of a3 and a: 32\n"
     ]
    }
   ],
   "source": [
    "a3 =np.array([4,5,6])\n",
    "dot_product =np.dot(a3,a) #Dot product of a1 and g\n",
    "print(\"Dot product of a3 and a:\",dot_product)"
   ]
  },
  {
   "cell_type": "markdown",
   "id": "26ede940-7b8a-43f2-b7cc-5782c60debb4",
   "metadata": {},
   "source": [
    "# 4.Statical Function"
   ]
  },
  {
   "cell_type": "code",
   "execution_count": 35,
   "id": "6ac541e3-efc9-4071-a094-4752cf21cb15",
   "metadata": {},
   "outputs": [
    {
     "name": "stdout",
     "output_type": "stream",
     "text": [
      "Mean of s: 2.5\n"
     ]
    }
   ],
   "source": [
    "s =np.array([1,2,3,4])\n",
    "mean =np.mean(s)\n",
    "print(\"Mean of s:\",mean)"
   ]
  },
  {
   "cell_type": "code",
   "execution_count": 36,
   "id": "6846e5df-5ca4-469a-b6a2-f7fab5976aa7",
   "metadata": {},
   "outputs": [
    {
     "name": "stdout",
     "output_type": "stream",
     "text": [
      "Stamdard derivation of s: 1.118033988749895\n"
     ]
    }
   ],
   "source": [
    "#Satndard derivation of an array\n",
    "std_dev=np.std(s)\n",
    "print(\"Stamdard derivation of s:\",std_dev)"
   ]
  },
  {
   "cell_type": "code",
   "execution_count": 37,
   "id": "a3305a4f-bb9b-49ef-8862-0940940af13b",
   "metadata": {},
   "outputs": [
    {
     "name": "stdout",
     "output_type": "stream",
     "text": [
      "minimum of s: 1\n"
     ]
    }
   ],
   "source": [
    "# Minimum of an array\n",
    "minimum =np.min(s)\n",
    "print(\"minimum of s:\",minimum)"
   ]
  },
  {
   "cell_type": "code",
   "execution_count": 38,
   "id": "c59886c1-f6fb-445d-9d60-f3a114b504a8",
   "metadata": {},
   "outputs": [
    {
     "name": "stdout",
     "output_type": "stream",
     "text": [
      "Maximum of s: 4\n"
     ]
    }
   ],
   "source": [
    "# Max of an array\n",
    "maximum = np.max(s)\n",
    "print(\"Maximum of s:\",maximum)"
   ]
  },
  {
   "cell_type": "markdown",
   "id": "385ae5d8-3771-4616-b86b-3a40d37c6e04",
   "metadata": {},
   "source": [
    "# 5.Linear Algebra Function"
   ]
  },
  {
   "cell_type": "code",
   "execution_count": 39,
   "id": "158a109f-61ac-423e-8873-75c875a7d05d",
   "metadata": {},
   "outputs": [
    {
     "name": "stdout",
     "output_type": "stream",
     "text": [
      "[[1 2]\n",
      " [3 4]]\n"
     ]
    }
   ],
   "source": [
    "#Creat a matrix\n",
    "matrix =np.array([[1,2],[3,4]])\n",
    "print(matrix)"
   ]
  },
  {
   "cell_type": "code",
   "execution_count": 40,
   "id": "2a0fffba-40a3-4b02-a6e8-4dc45dfd08ca",
   "metadata": {},
   "outputs": [
    {
     "name": "stdout",
     "output_type": "stream",
     "text": [
      "Dterminant of matrix: -2.0000000000000004\n"
     ]
    }
   ],
   "source": [
    "#Determinant of a matrix\n",
    "determinant=np.linalg.det(matrix)\n",
    "print(\"Dterminant of matrix:\",determinant)"
   ]
  },
  {
   "cell_type": "code",
   "execution_count": 41,
   "id": "43f2fdc7-1848-4b90-9515-def5ff65ce72",
   "metadata": {},
   "outputs": [
    {
     "name": "stdout",
     "output_type": "stream",
     "text": [
      "Inverse of a matrix:\n",
      " [[-2.   1. ]\n",
      " [ 1.5 -0.5]]\n"
     ]
    }
   ],
   "source": [
    "# Invers of a matrix\n",
    "inverse =np.linalg.inv(matrix)\n",
    "print(\"Inverse of a matrix:\\n\",inverse)"
   ]
  },
  {
   "cell_type": "markdown",
   "id": "a152fd8f-2c8e-46a2-9cbc-98053c0477d4",
   "metadata": {},
   "source": [
    "# 6. Random sampling Function"
   ]
  },
  {
   "cell_type": "code",
   "execution_count": 42,
   "id": "85688ab6-69fc-4bd4-9cc5-2188fc618811",
   "metadata": {},
   "outputs": [
    {
     "name": "stdout",
     "output_type": "stream",
     "text": [
      "Random values : [ 0.29315941 -0.34608224  1.33246346]\n"
     ]
    }
   ],
   "source": [
    "#Generat random value between 0 and 1 \n",
    "random_vals=np.random.randn(3) #Array of 3 random value between 0 and 1\n",
    "print(\"Random values :\",random_vals)"
   ]
  },
  {
   "cell_type": "code",
   "execution_count": 43,
   "id": "729abdcf-592a-48b0-8d50-0b6250572140",
   "metadata": {},
   "outputs": [
    {
     "name": "stdout",
     "output_type": "stream",
     "text": [
      "Random values : [0.5488135  0.71518937 0.60276338]\n"
     ]
    }
   ],
   "source": [
    "#set seed for reproducibility\n",
    "np.random.seed(0)\n",
    "\n",
    "#Generate random values between 0 and 1\n",
    "random_vals=np.random.rand(3)\n",
    "print(\"Random values :\",random_vals)"
   ]
  },
  {
   "cell_type": "code",
   "execution_count": 44,
   "id": "3e4261fc-5e69-44c4-a13e-b71bd1a40efa",
   "metadata": {},
   "outputs": [
    {
     "name": "stdout",
     "output_type": "stream",
     "text": [
      "Random intergers: [ 3  7  9 19 18]\n"
     ]
    }
   ],
   "source": [
    "#Generate random integer\n",
    "rand_ints = np.random.randint(0,20,size=5) #Random integer between o and 20\n",
    "print(\"Random intergers:\", rand_ints)"
   ]
  },
  {
   "cell_type": "code",
   "execution_count": 45,
   "id": "8d6a4c60-0ae6-48c9-8eb8-eea2fb74777c",
   "metadata": {},
   "outputs": [
    {
     "name": "stdout",
     "output_type": "stream",
     "text": [
      "Random integer : [12 15  0  3  3]\n"
     ]
    }
   ],
   "source": [
    "# set seed for reproductibility \n",
    "np.random.seed(0)\n",
    "\n",
    "#Generate random interger\n",
    "rand_int=np.random.randint(0,20,size=5) #Random integer between 0 to 20 \n",
    "print(\"Random integer :\",rand_int)"
   ]
  },
  {
   "cell_type": "markdown",
   "id": "856d68ab-5336-4f26-9555-c9053561b352",
   "metadata": {},
   "source": [
    "# 7. Boolean & Logical Functions"
   ]
  },
  {
   "cell_type": "code",
   "execution_count": 46,
   "id": "9bd7788f-7bb4-46fa-9e5b-7f80774a5303",
   "metadata": {},
   "outputs": [
    {
     "name": "stdout",
     "output_type": "stream",
     "text": [
      "All elements True : False\n"
     ]
    }
   ],
   "source": [
    "# Check if all elements both are  True and False\n",
    "# all \n",
    "logical_test=np.array([True,False,True])\n",
    "all_true =np.all(logical_test)\n",
    "print(\"All elements True :\",all_true)"
   ]
  },
  {
   "cell_type": "code",
   "execution_count": 47,
   "id": "bf7fe307-9e14-408f-ab33-4f78def185f4",
   "metadata": {},
   "outputs": [
    {
     "name": "stdout",
     "output_type": "stream",
     "text": [
      "All element False: False\n"
     ]
    }
   ],
   "source": [
    "# Check if all element are False \n",
    "logical_test1=np.array([False,False,False])\n",
    "all_false=np.all(logical_test1)\n",
    "print(\"All element False:\",all_false)"
   ]
  },
  {
   "cell_type": "code",
   "execution_count": 48,
   "id": "0068fe12-2d27-4da0-8b5b-f23c403b8559",
   "metadata": {},
   "outputs": [
    {
     "name": "stdout",
     "output_type": "stream",
     "text": [
      "All elements True: True\n"
     ]
    }
   ],
   "source": [
    "#Checkn if all elements are True \n",
    "logical_test2 = np.array([True,True,True,True])\n",
    "all_true1=np.all(logical_test2)\n",
    "print(\"All elements True:\",all_true1)"
   ]
  },
  {
   "cell_type": "code",
   "execution_count": 49,
   "id": "8d2e3ce5-1ffb-4ecf-9133-de1d7a5187dd",
   "metadata": {},
   "outputs": [
    {
     "name": "stdout",
     "output_type": "stream",
     "text": [
      "Any elemt True: True\n"
     ]
    }
   ],
   "source": [
    "#Check if any element are true\n",
    "#Any\n",
    "any_true=np.any(logical_test)\n",
    "print(\"Any elemt True:\",any_true)"
   ]
  },
  {
   "cell_type": "code",
   "execution_count": 50,
   "id": "ffa7135b-2f57-4a43-8432-128b62f59a28",
   "metadata": {},
   "outputs": [
    {
     "name": "stdout",
     "output_type": "stream",
     "text": [
      "any element True : False\n"
     ]
    }
   ],
   "source": [
    "any_true1=np.any(logical_test1)\n",
    "print(\"any element True :\",any_true1)"
   ]
  },
  {
   "cell_type": "code",
   "execution_count": 51,
   "id": "a92d7cef-a8f1-4fe4-9b0c-5ece87f8e1b5",
   "metadata": {},
   "outputs": [
    {
     "name": "stdout",
     "output_type": "stream",
     "text": [
      "Any elements True: True\n"
     ]
    }
   ],
   "source": [
    "any_true2=np.any(logical_test2)\n",
    "print(\"Any elements True:\",any_true2)"
   ]
  },
  {
   "cell_type": "markdown",
   "id": "548175c5-230a-4f35-b2ff-ffb7740745bc",
   "metadata": {},
   "source": [
    "# 8.Set Operation"
   ]
  },
  {
   "cell_type": "code",
   "execution_count": 52,
   "id": "f94ebbb6-a4d6-458b-9234-61646085bb56",
   "metadata": {},
   "outputs": [
    {
     "name": "stdout",
     "output_type": "stream",
     "text": [
      "Intersection of a and b: [3 4]\n"
     ]
    }
   ],
   "source": [
    "#Intersection of two arrays \n",
    "set_a=np.array([1,2,3,4])\n",
    "set_b=np.array([3,4,5,6])\n",
    "intersection=np.intersect1d(set_a,set_b)\n",
    "print(\"Intersection of a and b:\",intersection)"
   ]
  },
  {
   "cell_type": "code",
   "execution_count": 53,
   "id": "7791fcc8-0379-4fb1-8202-643c09b404f4",
   "metadata": {},
   "outputs": [
    {
     "name": "stdout",
     "output_type": "stream",
     "text": [
      "Union of a and b: [1 2 3 4 5 6]\n"
     ]
    }
   ],
   "source": [
    "# Union of two arrays \n",
    "union=np.union1d(set_a,set_b)\n",
    "print(\"Union of a and b:\",union)"
   ]
  },
  {
   "cell_type": "markdown",
   "id": "da2c85b2-f218-4702-9196-c3c2f451794b",
   "metadata": {},
   "source": [
    "# 9.Array Attributes function"
   ]
  },
  {
   "cell_type": "code",
   "execution_count": 54,
   "id": "4fbbf75e-80e9-49e9-a1ee-02d8b7594e74",
   "metadata": {},
   "outputs": [
    {
     "name": "stdout",
     "output_type": "stream",
     "text": [
      "shape of a: (3,)\n",
      "size of a : 3\n",
      "dimentions of a: 1\n",
      "Data type of a: int32\n"
     ]
    }
   ],
   "source": [
    "# Array Atributes\n",
    "a=np.array([1,2,3])\n",
    "shape=a.shape #shape of the array\n",
    "size =a.size #Number of elements\n",
    "dimentions =a.ndim #Numbers of dimentions\n",
    "dtype =a.dtype #Data type of array\n",
    "\n",
    "print(\"shape of a:\",shape)\n",
    "print(\"size of a :\",size)\n",
    "print(\"dimentions of a:\",dimentions)\n",
    "print(\"Data type of a:\",dtype)"
   ]
  },
  {
   "cell_type": "markdown",
   "id": "d3e8aaa8-f61a-4fd1-8880-f4e8748a4da8",
   "metadata": {},
   "source": [
    "# 10. Other Functions"
   ]
  },
  {
   "cell_type": "code",
   "execution_count": 55,
   "id": "91d2dd48-54c9-4891-a705-6a875b36035c",
   "metadata": {},
   "outputs": [
    {
     "name": "stdout",
     "output_type": "stream",
     "text": [
      "Copied array: [1 2 3 4]\n"
     ]
    }
   ],
   "source": [
    "# Creat a copy of an array\n",
    "a = np.array([1,2,3,4])\n",
    "copied =np.copy(a)  # Creat a copy of array a\n",
    "print(\"Copied array:\",copied)"
   ]
  },
  {
   "cell_type": "code",
   "execution_count": 56,
   "id": "8b588174-c3ac-4704-835f-6fa258938038",
   "metadata": {},
   "outputs": [
    {
     "name": "stdout",
     "output_type": "stream",
     "text": [
      "Size of a in bytes: 16\n"
     ]
    }
   ],
   "source": [
    "# Size in bytes of an array\n",
    "array_size_in_byte =a.nbytes #size in  bytes\n",
    "print(\"Size of a in bytes:\",array_size_in_byte)"
   ]
  },
  {
   "cell_type": "code",
   "execution_count": 57,
   "id": "2203638c-d0bc-40c0-a22a-1002e569877e",
   "metadata": {},
   "outputs": [
    {
     "name": "stdout",
     "output_type": "stream",
     "text": [
      "Do a and copied_array share memory? False\n"
     ]
    }
   ],
   "source": [
    "# Check if two arrays share memory\n",
    "shared = np.shares_memory(a, copied) #Check if array share memory\n",
    "print(\"Do a and copied_array share memory?\", shared)"
   ]
  },
  {
   "cell_type": "markdown",
   "id": "7381f0bb-394b-4771-ab99-0fc00ae5a238",
   "metadata": {},
   "source": [
    "# Numpy Crash Course"
   ]
  },
  {
   "cell_type": "code",
   "execution_count": 58,
   "id": "3e4ce3b7-21cd-448d-93c5-7eb6117139ab",
   "metadata": {},
   "outputs": [
    {
     "data": {
      "text/plain": [
       "'1.26.4'"
      ]
     },
     "execution_count": 58,
     "metadata": {},
     "output_type": "execute_result"
    }
   ],
   "source": [
    "np.__version__"
   ]
  },
  {
   "cell_type": "code",
   "execution_count": 59,
   "id": "3e98aa44-f99a-41d2-b219-094876193c33",
   "metadata": {},
   "outputs": [
    {
     "data": {
      "text/plain": [
       "'3.12.7 | packaged by Anaconda, Inc. | (main, Oct  4 2024, 13:17:27) [MSC v.1929 64 bit (AMD64)]'"
      ]
     },
     "execution_count": 59,
     "metadata": {},
     "output_type": "execute_result"
    }
   ],
   "source": [
    "import sys \n",
    "sys.version"
   ]
  },
  {
   "cell_type": "markdown",
   "id": "1d08b662-c82f-443d-8e86-faa8aacbe08a",
   "metadata": {},
   "source": [
    "# creating Array"
   ]
  },
  {
   "cell_type": "code",
   "execution_count": 60,
   "id": "2e396e22-bfbd-4129-9c46-289a19bd6390",
   "metadata": {},
   "outputs": [
    {
     "data": {
      "text/plain": [
       "[0, 1, 2, 3, 4, 5]"
      ]
     },
     "execution_count": 60,
     "metadata": {},
     "output_type": "execute_result"
    }
   ],
   "source": [
    "my_list= [0,1,2,3,4,5]\n",
    "my_list"
   ]
  },
  {
   "cell_type": "code",
   "execution_count": 61,
   "id": "3825ded6-d46e-4ff0-8fde-f657746ba416",
   "metadata": {},
   "outputs": [
    {
     "data": {
      "text/plain": [
       "list"
      ]
     },
     "execution_count": 61,
     "metadata": {},
     "output_type": "execute_result"
    }
   ],
   "source": [
    "type(my_list)"
   ]
  },
  {
   "cell_type": "code",
   "execution_count": 62,
   "id": "b240d4d2-1e79-432a-9068-15bfaa836585",
   "metadata": {},
   "outputs": [
    {
     "data": {
      "text/plain": [
       "array([0, 1, 2, 3, 4, 5])"
      ]
     },
     "execution_count": 62,
     "metadata": {},
     "output_type": "execute_result"
    }
   ],
   "source": [
    "arr =np.array(my_list)\n",
    "arr"
   ]
  },
  {
   "cell_type": "code",
   "execution_count": 63,
   "id": "049db005-4550-4a94-8daa-a97ce92c7a9b",
   "metadata": {},
   "outputs": [
    {
     "data": {
      "text/plain": [
       "numpy.ndarray"
      ]
     },
     "execution_count": 63,
     "metadata": {},
     "output_type": "execute_result"
    }
   ],
   "source": [
    "type(arr)"
   ]
  },
  {
   "cell_type": "markdown",
   "id": "9008adc2-8554-4c63-8dba-9923768be0a9",
   "metadata": {},
   "source": [
    "- We learn impoartant function"
   ]
  },
  {
   "cell_type": "markdown",
   "id": "e1a0082e-c730-4b42-8e88-e77fd8dd2a21",
   "metadata": {},
   "source": [
    "- Arange function"
   ]
  },
  {
   "cell_type": "code",
   "execution_count": 64,
   "id": "4a3289f0-71eb-4f71-8b2e-b591573bc1e0",
   "metadata": {},
   "outputs": [
    {
     "data": {
      "text/plain": [
       "array([ 0,  1,  2,  3,  4,  5,  6,  7,  8,  9, 10, 11, 12, 13, 14, 15, 16,\n",
       "       17, 18, 19])"
      ]
     },
     "execution_count": 64,
     "metadata": {},
     "output_type": "execute_result"
    }
   ],
   "source": [
    "np.arange(20)"
   ]
  },
  {
   "cell_type": "code",
   "execution_count": 65,
   "id": "89cb1b46-5e1e-4530-9108-8af4a5f10932",
   "metadata": {},
   "outputs": [
    {
     "data": {
      "text/plain": [
       "array([0., 1., 2.])"
      ]
     },
     "execution_count": 65,
     "metadata": {},
     "output_type": "execute_result"
    }
   ],
   "source": [
    "np.arange(3.0)"
   ]
  },
  {
   "cell_type": "code",
   "execution_count": 66,
   "id": "229aa2cb-b5aa-46d8-9442-2a89855319f7",
   "metadata": {},
   "outputs": [
    {
     "data": {
      "text/plain": [
       "array([0, 1, 2, 3, 4, 5, 6, 7, 8, 9])"
      ]
     },
     "execution_count": 66,
     "metadata": {},
     "output_type": "execute_result"
    }
   ],
   "source": [
    "np.arange(10) # Creat an array 0 to n-1"
   ]
  },
  {
   "cell_type": "code",
   "execution_count": 67,
   "id": "e323b2f5-6759-4bc9-9077-c7925b93ac61",
   "metadata": {},
   "outputs": [
    {
     "data": {
      "text/plain": [
       "array([ 0,  1,  2,  3,  4,  5,  6,  7,  8,  9, 10])"
      ]
     },
     "execution_count": 67,
     "metadata": {},
     "output_type": "execute_result"
    }
   ],
   "source": [
    "np.arange(0,11)"
   ]
  },
  {
   "cell_type": "code",
   "execution_count": 68,
   "id": "f9084ff5-9628-4ea0-86e2-4c0ac45932d0",
   "metadata": {},
   "outputs": [
    {
     "data": {
      "text/plain": [
       "array([10, 11, 12, 13, 14, 15, 16, 17, 18, 19, 20, 21, 22, 23, 24])"
      ]
     },
     "execution_count": 68,
     "metadata": {},
     "output_type": "execute_result"
    }
   ],
   "source": [
    "np.arange(10,25)"
   ]
  },
  {
   "cell_type": "code",
   "execution_count": 69,
   "id": "3d3e2257-4f5c-4779-a1e0-fd7e4455e724",
   "metadata": {},
   "outputs": [
    {
     "data": {
      "text/plain": [
       "array([], dtype=int32)"
      ]
     },
     "execution_count": 69,
     "metadata": {},
     "output_type": "execute_result"
    }
   ],
   "source": [
    "np.arange(25,10) #1st argument<2nd argument"
   ]
  },
  {
   "cell_type": "code",
   "execution_count": 70,
   "id": "b6fdc769-9a4f-48e8-aa62-9c49dfdf188f",
   "metadata": {},
   "outputs": [
    {
     "data": {
      "text/plain": [
       "array([-20, -19, -18, -17, -16, -15, -14, -13, -12, -11, -10,  -9,  -8,\n",
       "        -7,  -6,  -5,  -4,  -3,  -2,  -1])"
      ]
     },
     "execution_count": 70,
     "metadata": {},
     "output_type": "execute_result"
    }
   ],
   "source": [
    "np.arange(-20,0)"
   ]
  },
  {
   "cell_type": "code",
   "execution_count": 71,
   "id": "b9ace490-fd01-498d-a5c7-6faab9d15730",
   "metadata": {},
   "outputs": [
    {
     "data": {
      "text/plain": [
       "array([-10,  -9,  -8,  -7,  -6,  -5,  -4,  -3,  -2,  -1,   0,   1,   2,\n",
       "         3,   4,   5,   6,   7,   8,   9])"
      ]
     },
     "execution_count": 71,
     "metadata": {},
     "output_type": "execute_result"
    }
   ],
   "source": [
    "np.arange(-10,10)"
   ]
  },
  {
   "cell_type": "code",
   "execution_count": 72,
   "id": "e89840ee-713c-4de6-b80e-33b9287377f5",
   "metadata": {},
   "outputs": [
    {
     "data": {
      "text/plain": [
       "array([-12, -11, -10,  -9,  -8,  -7,  -6,  -5,  -4,  -3,  -2,  -1,   0,\n",
       "         1,   2,   3,   4,   5,   6,   7])"
      ]
     },
     "execution_count": 72,
     "metadata": {},
     "output_type": "execute_result"
    }
   ],
   "source": [
    "np.arange(-12,8)"
   ]
  },
  {
   "cell_type": "code",
   "execution_count": 73,
   "id": "a100d4b6-582e-4405-924e-17b53e3413f8",
   "metadata": {},
   "outputs": [
    {
     "data": {
      "text/plain": [
       "array([-20, -19, -18, -17, -16, -15, -14, -13, -12, -11, -10,  -9,  -8,\n",
       "        -7,  -6])"
      ]
     },
     "execution_count": 73,
     "metadata": {},
     "output_type": "execute_result"
    }
   ],
   "source": [
    "np.arange(-20,-5)"
   ]
  },
  {
   "cell_type": "code",
   "execution_count": 74,
   "id": "7b2078de-0bab-4d63-a75f-e3bfd659bb93",
   "metadata": {},
   "outputs": [
    {
     "data": {
      "text/plain": [
       "array([-30, -29, -28, -27, -26, -25, -24, -23, -22, -21, -20, -19, -18,\n",
       "       -17, -16, -15, -14, -13, -12, -11, -10,  -9,  -8,  -7,  -6,  -5,\n",
       "        -4,  -3,  -2,  -1,   0,   1,   2,   3,   4,   5,   6,   7,   8,\n",
       "         9,  10,  11,  12,  13,  14,  15,  16,  17,  18,  19])"
      ]
     },
     "execution_count": 74,
     "metadata": {},
     "output_type": "execute_result"
    }
   ],
   "source": [
    "ar =np.arange(-30,20)\n",
    "ar"
   ]
  },
  {
   "cell_type": "code",
   "execution_count": 75,
   "id": "f9fdb2cc-c528-40fb-8bba-76f9a3ed7c83",
   "metadata": {},
   "outputs": [
    {
     "data": {
      "text/plain": [
       "array([], dtype=int32)"
      ]
     },
     "execution_count": 75,
     "metadata": {},
     "output_type": "execute_result"
    }
   ],
   "source": [
    "np.arange(10,10)"
   ]
  },
  {
   "cell_type": "code",
   "execution_count": 76,
   "id": "68e4e2ab-75a7-49f3-b5cf-437708c9a665",
   "metadata": {},
   "outputs": [
    {
     "ename": "TypeError",
     "evalue": "arange() requires stop to be specified.",
     "output_type": "error",
     "traceback": [
      "\u001b[1;31m---------------------------------------------------------------------------\u001b[0m",
      "\u001b[1;31mTypeError\u001b[0m                                 Traceback (most recent call last)",
      "Cell \u001b[1;32mIn[76], line 1\u001b[0m\n\u001b[1;32m----> 1\u001b[0m np\u001b[38;5;241m.\u001b[39marange()\n",
      "\u001b[1;31mTypeError\u001b[0m: arange() requires stop to be specified."
     ]
    }
   ],
   "source": [
    "np.arange() #requres one argument"
   ]
  },
  {
   "cell_type": "code",
   "execution_count": 77,
   "id": "82a57bb8-74a6-44a6-a1ee-506728e05555",
   "metadata": {},
   "outputs": [
    {
     "data": {
      "text/plain": [
       "array([10, 15, 20, 25, 30, 35])"
      ]
     },
     "execution_count": 77,
     "metadata": {},
     "output_type": "execute_result"
    }
   ],
   "source": [
    "np.arange(10,40,5) # 10-strating from 40-1 end poit 5- step count"
   ]
  },
  {
   "cell_type": "code",
   "execution_count": 78,
   "id": "70bd2e08-74e2-4c33-ae70-39649f5dd19a",
   "metadata": {},
   "outputs": [
    {
     "data": {
      "text/plain": [
       "array([0, 3, 6, 9])"
      ]
     },
     "execution_count": 78,
     "metadata": {},
     "output_type": "execute_result"
    }
   ],
   "source": [
    "np.arange(0,10,3)"
   ]
  },
  {
   "cell_type": "code",
   "execution_count": 79,
   "id": "91bc7ec1-178b-4a74-bb33-767b70b6f813",
   "metadata": {},
   "outputs": [
    {
     "ename": "TypeError",
     "evalue": "Cannot interpret '8' as a data type",
     "output_type": "error",
     "traceback": [
      "\u001b[1;31m---------------------------------------------------------------------------\u001b[0m",
      "\u001b[1;31mTypeError\u001b[0m                                 Traceback (most recent call last)",
      "Cell \u001b[1;32mIn[79], line 1\u001b[0m\n\u001b[1;32m----> 1\u001b[0m np\u001b[38;5;241m.\u001b[39marange(\u001b[38;5;241m10\u001b[39m,\u001b[38;5;241m30\u001b[39m,\u001b[38;5;241m5\u001b[39m,\u001b[38;5;241m8\u001b[39m)\n",
      "\u001b[1;31mTypeError\u001b[0m: Cannot interpret '8' as a data type"
     ]
    }
   ],
   "source": [
    "np.arange(10,30,5,8)"
   ]
  },
  {
   "cell_type": "markdown",
   "id": "1d2069f8-72d0-46bc-b1b7-6fc1084ba08f",
   "metadata": {},
   "source": [
    "- Zeros function"
   ]
  },
  {
   "cell_type": "code",
   "execution_count": 80,
   "id": "5fc97978-e4f0-48be-ae6d-524ba562ee08",
   "metadata": {},
   "outputs": [
    {
     "data": {
      "text/plain": [
       "array([0., 0., 0.])"
      ]
     },
     "execution_count": 80,
     "metadata": {},
     "output_type": "execute_result"
    }
   ],
   "source": [
    "np.zeros(3) #Parameter tunning"
   ]
  },
  {
   "cell_type": "code",
   "execution_count": 81,
   "id": "231f7771-1d91-40a7-b16f-aaf3f4f1757f",
   "metadata": {},
   "outputs": [
    {
     "data": {
      "text/plain": [
       "array([0, 0, 0, 0, 0])"
      ]
     },
     "execution_count": 81,
     "metadata": {},
     "output_type": "execute_result"
    }
   ],
   "source": [
    "np.zeros(5,dtype = int) #hyperparameter tunning"
   ]
  },
  {
   "cell_type": "code",
   "execution_count": 82,
   "id": "423b5b0e-1d83-4acc-957f-cdbce32054ee",
   "metadata": {},
   "outputs": [
    {
     "data": {
      "text/plain": [
       "array([[0, 0],\n",
       "       [0, 0]])"
      ]
     },
     "execution_count": 82,
     "metadata": {},
     "output_type": "execute_result"
    }
   ],
   "source": [
    "np.zeros((2,2),dtype=int)"
   ]
  },
  {
   "cell_type": "code",
   "execution_count": 83,
   "id": "24cad9e2-b23f-4ad2-a505-88581bb9d268",
   "metadata": {},
   "outputs": [
    {
     "name": "stdout",
     "output_type": "stream",
     "text": [
      "[[0. 0.]\n",
      " [0. 0.]]\n",
      "<class 'numpy.ndarray'>\n"
     ]
    }
   ],
   "source": [
    "zero = np.zeros([2,2])\n",
    "print(zero)\n",
    "print(type(zero))"
   ]
  },
  {
   "cell_type": "code",
   "execution_count": 84,
   "id": "e1f5b180-f9f2-4da4-88b9-0315dedd6c17",
   "metadata": {},
   "outputs": [
    {
     "name": "stdout",
     "output_type": "stream",
     "text": [
      "[[0. 0.]\n",
      " [0. 0.]]\n",
      "####\n",
      "<class 'numpy.ndarray'>\n"
     ]
    }
   ],
   "source": [
    "zero = np.zeros([2,2])\n",
    "print(zero)\n",
    "\n",
    "print('####')\n",
    "\n",
    "print(type(zero))"
   ]
  },
  {
   "cell_type": "code",
   "execution_count": 85,
   "id": "5d7dc00a-468e-42e1-8c07-64d042b1dedb",
   "metadata": {},
   "outputs": [
    {
     "data": {
      "text/plain": [
       "array([[0., 0., 0., 0., 0.],\n",
       "       [0., 0., 0., 0., 0.]])"
      ]
     },
     "execution_count": 85,
     "metadata": {},
     "output_type": "execute_result"
    }
   ],
   "source": [
    "np.zeros((2,5))"
   ]
  },
  {
   "cell_type": "code",
   "execution_count": 86,
   "id": "7bc03c5a-43ee-4a1a-8563-b78e770f100d",
   "metadata": {},
   "outputs": [
    {
     "data": {
      "text/plain": [
       "array([[0., 0., 0.],\n",
       "       [0., 0., 0.],\n",
       "       [0., 0., 0.]])"
      ]
     },
     "execution_count": 86,
     "metadata": {},
     "output_type": "execute_result"
    }
   ],
   "source": [
    "np.zeros((3,3))"
   ]
  },
  {
   "cell_type": "code",
   "execution_count": 87,
   "id": "ed9c7a54-b46c-480a-b8df-2c0c1f2466d6",
   "metadata": {},
   "outputs": [
    {
     "data": {
      "text/plain": [
       "array([[0, 0, 0, 0, 0, 0, 0, 0, 0, 0, 0, 0, 0, 0, 0, 0, 0, 0, 0, 0],\n",
       "       [0, 0, 0, 0, 0, 0, 0, 0, 0, 0, 0, 0, 0, 0, 0, 0, 0, 0, 0, 0],\n",
       "       [0, 0, 0, 0, 0, 0, 0, 0, 0, 0, 0, 0, 0, 0, 0, 0, 0, 0, 0, 0],\n",
       "       [0, 0, 0, 0, 0, 0, 0, 0, 0, 0, 0, 0, 0, 0, 0, 0, 0, 0, 0, 0],\n",
       "       [0, 0, 0, 0, 0, 0, 0, 0, 0, 0, 0, 0, 0, 0, 0, 0, 0, 0, 0, 0],\n",
       "       [0, 0, 0, 0, 0, 0, 0, 0, 0, 0, 0, 0, 0, 0, 0, 0, 0, 0, 0, 0],\n",
       "       [0, 0, 0, 0, 0, 0, 0, 0, 0, 0, 0, 0, 0, 0, 0, 0, 0, 0, 0, 0],\n",
       "       [0, 0, 0, 0, 0, 0, 0, 0, 0, 0, 0, 0, 0, 0, 0, 0, 0, 0, 0, 0],\n",
       "       [0, 0, 0, 0, 0, 0, 0, 0, 0, 0, 0, 0, 0, 0, 0, 0, 0, 0, 0, 0],\n",
       "       [0, 0, 0, 0, 0, 0, 0, 0, 0, 0, 0, 0, 0, 0, 0, 0, 0, 0, 0, 0]])"
      ]
     },
     "execution_count": 87,
     "metadata": {},
     "output_type": "execute_result"
    }
   ],
   "source": [
    "np.zeros((10,20),dtype=int)"
   ]
  },
  {
   "cell_type": "code",
   "execution_count": 88,
   "id": "ad9f7706-7a6d-4921-a0a7-6446d31e6a1b",
   "metadata": {},
   "outputs": [
    {
     "data": {
      "text/plain": [
       "array([[0, 0, 0, 0, 0, 0, 0, 0, 0, 0],\n",
       "       [0, 0, 0, 0, 0, 0, 0, 0, 0, 0],\n",
       "       [0, 0, 0, 0, 0, 0, 0, 0, 0, 0],\n",
       "       [0, 0, 0, 0, 0, 0, 0, 0, 0, 0],\n",
       "       [0, 0, 0, 0, 0, 0, 0, 0, 0, 0]])"
      ]
     },
     "execution_count": 88,
     "metadata": {},
     "output_type": "execute_result"
    }
   ],
   "source": [
    "np.zeros((5,10),dtype=int) # bydefault 1st arg -- will give row & 2nd arg -- column"
   ]
  },
  {
   "cell_type": "code",
   "execution_count": 89,
   "id": "7cf68cde-5b3b-419d-884f-f3b1c0b6f9e4",
   "metadata": {},
   "outputs": [
    {
     "name": "stdout",
     "output_type": "stream",
     "text": [
      "[[0. 0. 0. 0. 0. 0. 0. 0.]\n",
      " [0. 0. 0. 0. 0. 0. 0. 0.]\n",
      " [0. 0. 0. 0. 0. 0. 0. 0.]\n",
      " [0. 0. 0. 0. 0. 0. 0. 0.]\n",
      " [0. 0. 0. 0. 0. 0. 0. 0.]\n",
      " [0. 0. 0. 0. 0. 0. 0. 0.]]\n"
     ]
    }
   ],
   "source": [
    "n= (6,7)\n",
    "n1 = (6,8)\n",
    "print(np.zeros(n1)) # parameter tunning g"
   ]
  },
  {
   "cell_type": "code",
   "execution_count": 90,
   "id": "738a114f-e978-4464-a5f3-fb20d4701429",
   "metadata": {},
   "outputs": [
    {
     "name": "stdout",
     "output_type": "stream",
     "text": [
      "[[0 0 0 0 0 0 0]\n",
      " [0 0 0 0 0 0 0]\n",
      " [0 0 0 0 0 0 0]\n",
      " [0 0 0 0 0 0 0]\n",
      " [0 0 0 0 0 0 0]\n",
      " [0 0 0 0 0 0 0]]\n"
     ]
    }
   ],
   "source": [
    "print(np.zeros(n, dtype=int)) #hyperparameter tunning"
   ]
  },
  {
   "cell_type": "markdown",
   "id": "647bdb49-5e2a-40ba-99eb-edd51134c5ca",
   "metadata": {},
   "source": [
    "- Ones Function"
   ]
  },
  {
   "cell_type": "code",
   "execution_count": 91,
   "id": "c8c3cb8e-5ad2-46db-b54c-e7e5898dc4f6",
   "metadata": {},
   "outputs": [
    {
     "data": {
      "text/plain": [
       "(6, 7)"
      ]
     },
     "execution_count": 91,
     "metadata": {},
     "output_type": "execute_result"
    }
   ],
   "source": [
    "n"
   ]
  },
  {
   "cell_type": "code",
   "execution_count": 92,
   "id": "9e5a7a0c-e323-4e52-8818-f0155d306063",
   "metadata": {},
   "outputs": [
    {
     "data": {
      "text/plain": [
       "(6, 8)"
      ]
     },
     "execution_count": 92,
     "metadata": {},
     "output_type": "execute_result"
    }
   ],
   "source": [
    "n1"
   ]
  },
  {
   "cell_type": "code",
   "execution_count": 93,
   "id": "a505f957-ab32-4bca-90bf-e85225fe73d4",
   "metadata": {},
   "outputs": [
    {
     "data": {
      "text/plain": [
       "array([1., 1., 1.])"
      ]
     },
     "execution_count": 93,
     "metadata": {},
     "output_type": "execute_result"
    }
   ],
   "source": [
    "np.ones(3)"
   ]
  },
  {
   "cell_type": "code",
   "execution_count": 94,
   "id": "76e3636f-322f-469e-bfb2-eef1e73c5486",
   "metadata": {},
   "outputs": [
    {
     "data": {
      "text/plain": [
       "array([1, 1, 1, 1])"
      ]
     },
     "execution_count": 94,
     "metadata": {},
     "output_type": "execute_result"
    }
   ],
   "source": [
    "np.ones(4,dtype=int)"
   ]
  },
  {
   "cell_type": "code",
   "execution_count": 95,
   "id": "2884a471-7dbe-49a1-8b38-6483f60a8b76",
   "metadata": {},
   "outputs": [
    {
     "data": {
      "text/plain": [
       "array([1., 1., 1., 1.])"
      ]
     },
     "execution_count": 95,
     "metadata": {},
     "output_type": "execute_result"
    }
   ],
   "source": [
    "np.ones(4)"
   ]
  },
  {
   "cell_type": "code",
   "execution_count": 96,
   "id": "19a90c5b-5794-4e6e-ba2e-33f2dd0bf73b",
   "metadata": {},
   "outputs": [
    {
     "data": {
      "text/plain": [
       "(6, 7)"
      ]
     },
     "execution_count": 96,
     "metadata": {},
     "output_type": "execute_result"
    }
   ],
   "source": [
    "n"
   ]
  },
  {
   "cell_type": "code",
   "execution_count": 97,
   "id": "5a5efe98-20a4-45a2-b6e3-bdd807b5d857",
   "metadata": {},
   "outputs": [
    {
     "data": {
      "text/plain": [
       "array([[1., 1., 1., 1., 1., 1., 1.],\n",
       "       [1., 1., 1., 1., 1., 1., 1.],\n",
       "       [1., 1., 1., 1., 1., 1., 1.],\n",
       "       [1., 1., 1., 1., 1., 1., 1.],\n",
       "       [1., 1., 1., 1., 1., 1., 1.],\n",
       "       [1., 1., 1., 1., 1., 1., 1.]])"
      ]
     },
     "execution_count": 97,
     "metadata": {},
     "output_type": "execute_result"
    }
   ],
   "source": [
    "np.ones(n)"
   ]
  },
  {
   "cell_type": "code",
   "execution_count": 98,
   "id": "dcdbbc93-7da5-4eca-aad5-ea2471c7f7b8",
   "metadata": {},
   "outputs": [
    {
     "name": "stdout",
     "output_type": "stream",
     "text": [
      "[[1 1 1 1 1 1 1]\n",
      " [1 1 1 1 1 1 1]\n",
      " [1 1 1 1 1 1 1]\n",
      " [1 1 1 1 1 1 1]\n",
      " [1 1 1 1 1 1 1]\n",
      " [1 1 1 1 1 1 1]]\n"
     ]
    }
   ],
   "source": [
    "print(np.ones(n,dtype=int))"
   ]
  },
  {
   "cell_type": "code",
   "execution_count": 99,
   "id": "d4ce9e6b-bd78-4b09-8d54-6bdf55138392",
   "metadata": {},
   "outputs": [
    {
     "ename": "AttributeError",
     "evalue": "module 'numpy' has no attribute 'twoes'",
     "output_type": "error",
     "traceback": [
      "\u001b[1;31m---------------------------------------------------------------------------\u001b[0m",
      "\u001b[1;31mAttributeError\u001b[0m                            Traceback (most recent call last)",
      "Cell \u001b[1;32mIn[99], line 1\u001b[0m\n\u001b[1;32m----> 1\u001b[0m np\u001b[38;5;241m.\u001b[39mtwoes((\u001b[38;5;241m2\u001b[39m,\u001b[38;5;241m3\u001b[39m))\n",
      "File \u001b[1;32m~\\AppData\\Local\\anaconda3\\Lib\\site-packages\\numpy\\__init__.py:333\u001b[0m, in \u001b[0;36m__getattr__\u001b[1;34m(attr)\u001b[0m\n\u001b[0;32m    330\u001b[0m     \u001b[38;5;124m\"\u001b[39m\u001b[38;5;124mRemoved in NumPy 1.25.0\u001b[39m\u001b[38;5;124m\"\u001b[39m\n\u001b[0;32m    331\u001b[0m     \u001b[38;5;28;01mraise\u001b[39;00m \u001b[38;5;167;01mRuntimeError\u001b[39;00m(\u001b[38;5;124m\"\u001b[39m\u001b[38;5;124mTester was removed in NumPy 1.25.\u001b[39m\u001b[38;5;124m\"\u001b[39m)\n\u001b[1;32m--> 333\u001b[0m \u001b[38;5;28;01mraise\u001b[39;00m \u001b[38;5;167;01mAttributeError\u001b[39;00m(\u001b[38;5;124m\"\u001b[39m\u001b[38;5;124mmodule \u001b[39m\u001b[38;5;132;01m{!r}\u001b[39;00m\u001b[38;5;124m has no attribute \u001b[39m\u001b[38;5;124m\"\u001b[39m\n\u001b[0;32m    334\u001b[0m                      \u001b[38;5;124m\"\u001b[39m\u001b[38;5;132;01m{!r}\u001b[39;00m\u001b[38;5;124m\"\u001b[39m\u001b[38;5;241m.\u001b[39mformat(\u001b[38;5;18m__name__\u001b[39m, attr))\n",
      "\u001b[1;31mAttributeError\u001b[0m: module 'numpy' has no attribute 'twoes'"
     ]
    }
   ],
   "source": [
    "np.twoes((2,3))"
   ]
  },
  {
   "cell_type": "markdown",
   "id": "7c2c65b2-d9a8-48d4-bce1-f9e1ae1db440",
   "metadata": {},
   "source": [
    "- Range Function"
   ]
  },
  {
   "cell_type": "code",
   "execution_count": 100,
   "id": "c8c592be-6113-4a85-9ed2-df1e3cfdee1e",
   "metadata": {},
   "outputs": [
    {
     "data": {
      "text/plain": [
       "range(0, 5)"
      ]
     },
     "execution_count": 100,
     "metadata": {},
     "output_type": "execute_result"
    }
   ],
   "source": [
    "range(5)\n"
   ]
  },
  {
   "cell_type": "code",
   "execution_count": 101,
   "id": "fde8b805-214a-42bc-ba4c-a46cf53c50a1",
   "metadata": {},
   "outputs": [
    {
     "data": {
      "text/plain": [
       "range(0, 5)"
      ]
     },
     "execution_count": 101,
     "metadata": {},
     "output_type": "execute_result"
    }
   ],
   "source": [
    "r =range(5)\n",
    "r"
   ]
  },
  {
   "cell_type": "code",
   "execution_count": 102,
   "id": "b49de1fa-5a84-45ec-9487-3fa6aeabc528",
   "metadata": {},
   "outputs": [
    {
     "name": "stdout",
     "output_type": "stream",
     "text": [
      "0\n",
      "1\n",
      "2\n",
      "3\n",
      "4\n"
     ]
    }
   ],
   "source": [
    "for i in r:\n",
    "    print(i)"
   ]
  },
  {
   "cell_type": "code",
   "execution_count": 103,
   "id": "eee38459-a0a0-4ad1-abae-b94c0fb28441",
   "metadata": {},
   "outputs": [
    {
     "data": {
      "text/plain": [
       "[0, 1, 2, 3, 4]"
      ]
     },
     "execution_count": 103,
     "metadata": {},
     "output_type": "execute_result"
    }
   ],
   "source": [
    "list(range(5))"
   ]
  },
  {
   "cell_type": "code",
   "execution_count": 104,
   "id": "29086138-e3a0-4ee8-b8af-12a51695b254",
   "metadata": {},
   "outputs": [
    {
     "data": {
      "text/plain": [
       "range(0, 19)"
      ]
     },
     "execution_count": 104,
     "metadata": {},
     "output_type": "execute_result"
    }
   ],
   "source": [
    "range(0,19)"
   ]
  },
  {
   "cell_type": "code",
   "execution_count": 105,
   "id": "79b7dfbd-eabe-4135-81a3-ba14c31cb261",
   "metadata": {},
   "outputs": [
    {
     "data": {
      "text/plain": [
       "[0, 1, 2, 3, 4, 5, 6, 7, 8, 9, 10, 11, 12, 13, 14, 15, 16, 17, 18]"
      ]
     },
     "execution_count": 105,
     "metadata": {},
     "output_type": "execute_result"
    }
   ],
   "source": [
    "list(range(0,19))"
   ]
  },
  {
   "cell_type": "code",
   "execution_count": 106,
   "id": "94e40b87-a29d-4321-9dd5-6aee41ff8dcd",
   "metadata": {},
   "outputs": [
    {
     "data": {
      "text/plain": [
       "[0, 1, 2, 3, 4, 5, 6, 7, 8, 9]"
      ]
     },
     "execution_count": 106,
     "metadata": {},
     "output_type": "execute_result"
    }
   ],
   "source": [
    "y = list(range(0,10))\n",
    "y"
   ]
  },
  {
   "cell_type": "code",
   "execution_count": 107,
   "id": "0f219c46-ba85-44d7-8513-ec0b56a3faf3",
   "metadata": {},
   "outputs": [
    {
     "name": "stdout",
     "output_type": "stream",
     "text": [
      "0\n",
      "1\n",
      "2\n",
      "3\n",
      "4\n",
      "5\n",
      "6\n",
      "7\n",
      "8\n",
      "9\n"
     ]
    }
   ],
   "source": [
    "for i in y:\n",
    "    print(i)"
   ]
  },
  {
   "cell_type": "markdown",
   "id": "84635e16-fcdd-43c6-bc00-b80058755345",
   "metadata": {},
   "source": [
    "- Random Function"
   ]
  },
  {
   "cell_type": "code",
   "execution_count": 108,
   "id": "7292fd61-0ef9-4169-b75d-51188269a870",
   "metadata": {},
   "outputs": [
    {
     "ename": "NameError",
     "evalue": "name 'rand' is not defined",
     "output_type": "error",
     "traceback": [
      "\u001b[1;31m---------------------------------------------------------------------------\u001b[0m",
      "\u001b[1;31mNameError\u001b[0m                                 Traceback (most recent call last)",
      "Cell \u001b[1;32mIn[108], line 1\u001b[0m\n\u001b[1;32m----> 1\u001b[0m rand(\u001b[38;5;241m3\u001b[39m,\u001b[38;5;241m2\u001b[39m)\n\u001b[0;32m      2\u001b[0m random\u001b[38;5;241m.\u001b[39mrand(\u001b[38;5;241m3\u001b[39m,\u001b[38;5;241m2\u001b[39m)\n",
      "\u001b[1;31mNameError\u001b[0m: name 'rand' is not defined"
     ]
    }
   ],
   "source": [
    "rand(3,2)\n",
    "random.rand(3,2)\n"
   ]
  },
  {
   "cell_type": "code",
   "execution_count": 109,
   "id": "a97e5175-6f0f-4bdf-a6fd-f1cef2c9fc3d",
   "metadata": {},
   "outputs": [
    {
     "data": {
      "text/plain": [
       "array([0.84725174, 0.6235637 , 0.38438171, 0.29753461, 0.05671298])"
      ]
     },
     "execution_count": 109,
     "metadata": {},
     "output_type": "execute_result"
    }
   ],
   "source": [
    "np.random.rand(5)"
   ]
  },
  {
   "cell_type": "code",
   "execution_count": 110,
   "id": "116f0cbe-e55c-41ac-8097-b855d981d904",
   "metadata": {},
   "outputs": [
    {
     "ename": "AttributeError",
     "evalue": "module 'numpy' has no attribute 'rand'",
     "output_type": "error",
     "traceback": [
      "\u001b[1;31m---------------------------------------------------------------------------\u001b[0m",
      "\u001b[1;31mAttributeError\u001b[0m                            Traceback (most recent call last)",
      "Cell \u001b[1;32mIn[110], line 1\u001b[0m\n\u001b[1;32m----> 1\u001b[0m np\u001b[38;5;241m.\u001b[39mrand(\u001b[38;5;241m5\u001b[39m)\n",
      "File \u001b[1;32m~\\AppData\\Local\\anaconda3\\Lib\\site-packages\\numpy\\__init__.py:333\u001b[0m, in \u001b[0;36m__getattr__\u001b[1;34m(attr)\u001b[0m\n\u001b[0;32m    330\u001b[0m     \u001b[38;5;124m\"\u001b[39m\u001b[38;5;124mRemoved in NumPy 1.25.0\u001b[39m\u001b[38;5;124m\"\u001b[39m\n\u001b[0;32m    331\u001b[0m     \u001b[38;5;28;01mraise\u001b[39;00m \u001b[38;5;167;01mRuntimeError\u001b[39;00m(\u001b[38;5;124m\"\u001b[39m\u001b[38;5;124mTester was removed in NumPy 1.25.\u001b[39m\u001b[38;5;124m\"\u001b[39m)\n\u001b[1;32m--> 333\u001b[0m \u001b[38;5;28;01mraise\u001b[39;00m \u001b[38;5;167;01mAttributeError\u001b[39;00m(\u001b[38;5;124m\"\u001b[39m\u001b[38;5;124mmodule \u001b[39m\u001b[38;5;132;01m{!r}\u001b[39;00m\u001b[38;5;124m has no attribute \u001b[39m\u001b[38;5;124m\"\u001b[39m\n\u001b[0;32m    334\u001b[0m                      \u001b[38;5;124m\"\u001b[39m\u001b[38;5;132;01m{!r}\u001b[39;00m\u001b[38;5;124m\"\u001b[39m\u001b[38;5;241m.\u001b[39mformat(\u001b[38;5;18m__name__\u001b[39m, attr))\n",
      "\u001b[1;31mAttributeError\u001b[0m: module 'numpy' has no attribute 'rand'"
     ]
    }
   ],
   "source": [
    "np.rand(5)\n"
   ]
  },
  {
   "cell_type": "code",
   "execution_count": 111,
   "id": "33cac772-358f-44c2-9f78-1078b3c54c3f",
   "metadata": {},
   "outputs": [
    {
     "data": {
      "text/plain": [
       "array([[0.27265629, 0.47766512, 0.81216873, 0.47997717, 0.3927848 ],\n",
       "       [0.83607876, 0.33739616, 0.64817187, 0.36824154, 0.95715516]])"
      ]
     },
     "execution_count": 111,
     "metadata": {},
     "output_type": "execute_result"
    }
   ],
   "source": [
    "np.random.rand(2,5)"
   ]
  },
  {
   "cell_type": "code",
   "execution_count": 112,
   "id": "ef0d7c29-8747-44b5-8c73-e86e9572e485",
   "metadata": {},
   "outputs": [
    {
     "data": {
      "text/plain": [
       "1"
      ]
     },
     "execution_count": 112,
     "metadata": {},
     "output_type": "execute_result"
    }
   ],
   "source": [
    "np.random.randint(1,10)"
   ]
  },
  {
   "cell_type": "code",
   "execution_count": 113,
   "id": "5ab8cf19-464b-4188-be62-66b60b583586",
   "metadata": {},
   "outputs": [
    {
     "data": {
      "text/plain": [
       "5"
      ]
     },
     "execution_count": 113,
     "metadata": {},
     "output_type": "execute_result"
    }
   ],
   "source": [
    "np.random.randint(2,20)"
   ]
  },
  {
   "cell_type": "code",
   "execution_count": 114,
   "id": "4677d280-8d61-4020-81be-7cfa26f0e866",
   "metadata": {},
   "outputs": [
    {
     "data": {
      "text/plain": [
       "array([18, 15,  8,  1])"
      ]
     },
     "execution_count": 114,
     "metadata": {},
     "output_type": "execute_result"
    }
   ],
   "source": [
    "np.random.randint(1,20,4)"
   ]
  },
  {
   "cell_type": "code",
   "execution_count": 115,
   "id": "e1e8d882-e8ab-496e-a121-7bc3085981b1",
   "metadata": {},
   "outputs": [
    {
     "data": {
      "text/plain": [
       "array([0.58201979, 0.53737323, 0.75861562])"
      ]
     },
     "execution_count": 115,
     "metadata": {},
     "output_type": "execute_result"
    }
   ],
   "source": [
    "np.random.rand(3)"
   ]
  },
  {
   "cell_type": "code",
   "execution_count": 116,
   "id": "b2de75ae-5be3-4211-99c1-64dd2bda8f94",
   "metadata": {},
   "outputs": [
    {
     "data": {
      "text/plain": [
       "0"
      ]
     },
     "execution_count": 116,
     "metadata": {},
     "output_type": "execute_result"
    }
   ],
   "source": [
    "np.random.randint(1)\n",
    "\n"
   ]
  },
  {
   "cell_type": "code",
   "execution_count": 117,
   "id": "241e507a-6515-4274-a593-2c15ba89a5aa",
   "metadata": {},
   "outputs": [
    {
     "data": {
      "text/plain": [
       "array([14, 17, 13])"
      ]
     },
     "execution_count": 117,
     "metadata": {},
     "output_type": "execute_result"
    }
   ],
   "source": [
    "np.random.randint(10,20,3)\n"
   ]
  },
  {
   "cell_type": "code",
   "execution_count": 118,
   "id": "af5f54eb-5c6f-4d3d-8bd3-02a97f937587",
   "metadata": {},
   "outputs": [
    {
     "ename": "ValueError",
     "evalue": "low >= high",
     "output_type": "error",
     "traceback": [
      "\u001b[1;31m---------------------------------------------------------------------------\u001b[0m",
      "\u001b[1;31mValueError\u001b[0m                                Traceback (most recent call last)",
      "Cell \u001b[1;32mIn[118], line 1\u001b[0m\n\u001b[1;32m----> 1\u001b[0m np\u001b[38;5;241m.\u001b[39mrandom\u001b[38;5;241m.\u001b[39mrandint(\u001b[38;5;241m30\u001b[39m,\u001b[38;5;241m20\u001b[39m,\u001b[38;5;241m10\u001b[39m)\n",
      "File \u001b[1;32mnumpy\\\\random\\\\mtrand.pyx:780\u001b[0m, in \u001b[0;36mnumpy.random.mtrand.RandomState.randint\u001b[1;34m()\u001b[0m\n",
      "File \u001b[1;32mnumpy\\\\random\\\\_bounded_integers.pyx:1425\u001b[0m, in \u001b[0;36mnumpy.random._bounded_integers._rand_int32\u001b[1;34m()\u001b[0m\n",
      "\u001b[1;31mValueError\u001b[0m: low >= high"
     ]
    }
   ],
   "source": [
    "np.random.randint(30,20,10)"
   ]
  },
  {
   "cell_type": "code",
   "execution_count": 119,
   "id": "80a2510f-ce8b-4ba0-8754-f99c1b761997",
   "metadata": {},
   "outputs": [
    {
     "data": {
      "text/plain": [
       "array([-19,  -2,   4, -30, -30])"
      ]
     },
     "execution_count": 119,
     "metadata": {},
     "output_type": "execute_result"
    }
   ],
   "source": [
    "np.random.randint(-30,10,5)"
   ]
  },
  {
   "cell_type": "code",
   "execution_count": 120,
   "id": "4a2d5c83-da65-4d0a-898b-ba0bbdfb0501",
   "metadata": {},
   "outputs": [
    {
     "data": {
      "text/plain": [
       "array([24, 25, 25, 26, 28, 24, 21, 24, 29, 28])"
      ]
     },
     "execution_count": 120,
     "metadata": {},
     "output_type": "execute_result"
    }
   ],
   "source": [
    "np.random.randint(20,30,10)"
   ]
  },
  {
   "cell_type": "code",
   "execution_count": 121,
   "id": "b7928c97-c522-4a53-bc26-b1dbdcd8d6b5",
   "metadata": {},
   "outputs": [
    {
     "data": {
      "text/plain": [
       "6"
      ]
     },
     "execution_count": 121,
     "metadata": {},
     "output_type": "execute_result"
    }
   ],
   "source": [
    "np.random.randint(5,9)"
   ]
  },
  {
   "cell_type": "code",
   "execution_count": 122,
   "id": "a36e8cfe-6b6f-4e62-974b-f5a1795f976f",
   "metadata": {},
   "outputs": [
    {
     "data": {
      "text/plain": [
       "array([11, 17, 19])"
      ]
     },
     "execution_count": 122,
     "metadata": {},
     "output_type": "execute_result"
    }
   ],
   "source": [
    "np.random.randint(10,21,3)"
   ]
  },
  {
   "cell_type": "code",
   "execution_count": 123,
   "id": "de6e0963-2fe4-4998-89e2-9da8b2e6d2b2",
   "metadata": {},
   "outputs": [
    {
     "data": {
      "text/plain": [
       "array([[13, 16, 21, 24, 28, 10, 24, 13, 22, 20],\n",
       "       [21, 14, 16, 14, 25, 13, 22, 14, 18, 24],\n",
       "       [25, 13, 25, 23, 26, 27, 15, 19, 13, 10],\n",
       "       [15, 10, 27, 28, 14, 12, 26, 13, 12, 20],\n",
       "       [23, 26, 17, 19, 10, 20, 28, 21, 12, 12],\n",
       "       [13, 13, 28, 24, 13, 27, 28, 24, 19, 11],\n",
       "       [14, 20, 21, 18, 21, 12, 29, 26, 10, 10],\n",
       "       [16, 29, 24, 20, 29, 18, 23, 12, 13, 12],\n",
       "       [21, 23, 26, 18, 18, 29, 18, 12, 13, 22],\n",
       "       [24, 10, 14, 13, 23, 21, 23, 23, 21, 26]])"
      ]
     },
     "execution_count": 123,
     "metadata": {},
     "output_type": "execute_result"
    }
   ],
   "source": [
    "np.random.randint(10,30,(10,10)) #generate the element 10 to 30 with 4*4 matrix"
   ]
  },
  {
   "cell_type": "code",
   "execution_count": 124,
   "id": "5dfdfe03-9dc5-4857-b89b-10f7aecbbe43",
   "metadata": {},
   "outputs": [
    {
     "data": {
      "text/plain": [
       "array([[25, 30, 22, 26, 81, 61, 62, 84, 34, 33, 71, 86],\n",
       "       [32, 14, 72, 57, 25, 80, 42, 19, 41, 55, 80, 12],\n",
       "       [39, 94,  2, 96, 45, 89, 25, 68, 83,  4, 77, 36],\n",
       "       [87, 62, 70, 88, 44, 33, 12, 85, 11, 55, 38, 29],\n",
       "       [ 3, 28, 84, 90, 24, 54, 52, 47, 21, 54, 30, 68],\n",
       "       [36, 40, 10, 74, 42, 24,  4, 47, 91, 51,  4, 32],\n",
       "       [10, 11, 28, 46, 72, 40, 62, 86, 98, 45, 35, 35],\n",
       "       [89, 34,  6, 37,  1, 76, 35, 70, 54, 81, 63,  9],\n",
       "       [62,  2, 82, 36, 92, 41, 37, 49, 26, 68, 36, 31],\n",
       "       [30, 34, 19, 18, 94, 85,  3, 70, 13, 45, 67, 92],\n",
       "       [86, 40, 40, 76, 23, 31, 18, 71, 72, 19, 93, 44],\n",
       "       [84, 50, 42, 94, 47, 22, 74, 90, 97, 92, 74, 29]])"
      ]
     },
     "execution_count": 124,
     "metadata": {},
     "output_type": "execute_result"
    }
   ],
   "source": [
    "np.random.randint(1,100,(12,12))"
   ]
  },
  {
   "cell_type": "markdown",
   "id": "09ff2427-2855-4a5e-953a-2cd434953da2",
   "metadata": {},
   "source": [
    "- Resha[pe Function"
   ]
  },
  {
   "cell_type": "code",
   "execution_count": 125,
   "id": "8852e3f2-3239-4f5e-ad1e-529428071b76",
   "metadata": {},
   "outputs": [
    {
     "data": {
      "text/plain": [
       "array([[ 1,  2,  3,  4],\n",
       "       [ 5,  6,  7,  8],\n",
       "       [ 9, 10, 11, 12]])"
      ]
     },
     "execution_count": 125,
     "metadata": {},
     "output_type": "execute_result"
    }
   ],
   "source": [
    "np.arange(1,13).reshape(3,4)"
   ]
  },
  {
   "cell_type": "code",
   "execution_count": 126,
   "id": "c50ffded-241a-4aee-9c2e-355cf9bd2fd1",
   "metadata": {},
   "outputs": [
    {
     "data": {
      "text/plain": [
       "array([[ 1,  2,  3,  4,  5,  6,  7,  8,  9, 10, 11, 12]])"
      ]
     },
     "execution_count": 126,
     "metadata": {},
     "output_type": "execute_result"
    }
   ],
   "source": [
    "np.arange(1,13).reshape(1,12)"
   ]
  },
  {
   "cell_type": "code",
   "execution_count": 127,
   "id": "3cbe0269-aea6-466c-ad30-da659296d226",
   "metadata": {},
   "outputs": [
    {
     "data": {
      "text/plain": [
       "array([[ 1],\n",
       "       [ 2],\n",
       "       [ 3],\n",
       "       [ 4],\n",
       "       [ 5],\n",
       "       [ 6],\n",
       "       [ 7],\n",
       "       [ 8],\n",
       "       [ 9],\n",
       "       [10],\n",
       "       [11],\n",
       "       [12]])"
      ]
     },
     "execution_count": 127,
     "metadata": {},
     "output_type": "execute_result"
    }
   ],
   "source": [
    "np.arange(1,13).reshape(12,1)"
   ]
  },
  {
   "cell_type": "markdown",
   "id": "bd22c5e7-928b-4b5d-9c67-d041771972c1",
   "metadata": {},
   "source": [
    "- Slicing Function"
   ]
  },
  {
   "cell_type": "code",
   "execution_count": 128,
   "id": "124ae2e3-650f-4b29-a6bb-e714322fc145",
   "metadata": {},
   "outputs": [
    {
     "data": {
      "text/plain": [
       "array([[11, 19, 10, 16],\n",
       "       [10, 14, 18, 14],\n",
       "       [13, 13, 18, 18],\n",
       "       [17, 10, 13, 18],\n",
       "       [17, 17, 11, 18]])"
      ]
     },
     "execution_count": 128,
     "metadata": {},
     "output_type": "execute_result"
    }
   ],
   "source": [
    "b = np.random.randint(10,20,(5,4))\n",
    "b"
   ]
  },
  {
   "cell_type": "code",
   "execution_count": 129,
   "id": "65ffe549-bc4a-4b25-91ad-bd3026a045b6",
   "metadata": {},
   "outputs": [
    {
     "data": {
      "text/plain": [
       "numpy.ndarray"
      ]
     },
     "execution_count": 129,
     "metadata": {},
     "output_type": "execute_result"
    }
   ],
   "source": [
    "type(b)"
   ]
  },
  {
   "cell_type": "code",
   "execution_count": 130,
   "id": "ca4739da-1a78-42d4-9490-8ce5306f9d8d",
   "metadata": {},
   "outputs": [
    {
     "data": {
      "text/plain": [
       "array([[11, 19, 10, 16],\n",
       "       [10, 14, 18, 14],\n",
       "       [13, 13, 18, 18],\n",
       "       [17, 10, 13, 18],\n",
       "       [17, 17, 11, 18]])"
      ]
     },
     "execution_count": 130,
     "metadata": {},
     "output_type": "execute_result"
    }
   ],
   "source": [
    "b"
   ]
  },
  {
   "cell_type": "code",
   "execution_count": 131,
   "id": "e1d5946c-8dd6-40c9-a5be-b0a8186264e1",
   "metadata": {},
   "outputs": [
    {
     "data": {
      "text/plain": [
       "array([[11, 19, 10, 16],\n",
       "       [10, 14, 18, 14],\n",
       "       [13, 13, 18, 18],\n",
       "       [17, 10, 13, 18],\n",
       "       [17, 17, 11, 18]])"
      ]
     },
     "execution_count": 131,
     "metadata": {},
     "output_type": "execute_result"
    }
   ],
   "source": [
    "b[:]"
   ]
  },
  {
   "cell_type": "code",
   "execution_count": 132,
   "id": "65fb8af8-d571-4241-9395-cd381a9ccf8b",
   "metadata": {},
   "outputs": [
    {
     "data": {
      "text/plain": [
       "array([[11, 19, 10, 16],\n",
       "       [10, 14, 18, 14],\n",
       "       [13, 13, 18, 18]])"
      ]
     },
     "execution_count": 132,
     "metadata": {},
     "output_type": "execute_result"
    }
   ],
   "source": [
    "b[:3]"
   ]
  },
  {
   "cell_type": "code",
   "execution_count": 133,
   "id": "82078b5d-bff6-4bc5-b6ea-3590823a2757",
   "metadata": {},
   "outputs": [
    {
     "data": {
      "text/plain": [
       "array([[10, 14, 18, 14],\n",
       "       [13, 13, 18, 18]])"
      ]
     },
     "execution_count": 133,
     "metadata": {},
     "output_type": "execute_result"
    }
   ],
   "source": [
    "b[1:3]"
   ]
  },
  {
   "cell_type": "code",
   "execution_count": 134,
   "id": "c60a58cd-841e-436d-8f55-7e1c2e77aebb",
   "metadata": {},
   "outputs": [
    {
     "data": {
      "text/plain": [
       "array([[11, 19, 10, 16],\n",
       "       [10, 14, 18, 14],\n",
       "       [13, 13, 18, 18],\n",
       "       [17, 10, 13, 18],\n",
       "       [17, 17, 11, 18]])"
      ]
     },
     "execution_count": 134,
     "metadata": {},
     "output_type": "execute_result"
    }
   ],
   "source": [
    "b"
   ]
  },
  {
   "cell_type": "code",
   "execution_count": 135,
   "id": "1ba1ef54-5a1e-47dd-b73f-b7e14a19c586",
   "metadata": {},
   "outputs": [
    {
     "data": {
      "text/plain": [
       "18"
      ]
     },
     "execution_count": 135,
     "metadata": {},
     "output_type": "execute_result"
    }
   ],
   "source": [
    "b[1,2] # Select specific element 1st arg - row and 2nd arg - column"
   ]
  },
  {
   "cell_type": "code",
   "execution_count": 136,
   "id": "4db29b55-e14a-4151-a7fa-678465f56b3a",
   "metadata": {},
   "outputs": [
    {
     "data": {
      "text/plain": [
       "18"
      ]
     },
     "execution_count": 136,
     "metadata": {},
     "output_type": "execute_result"
    }
   ],
   "source": [
    "# select element 18 of 2nd row\n",
    "b[2,3]"
   ]
  },
  {
   "cell_type": "code",
   "execution_count": 137,
   "id": "46b30a93-0687-4ac5-85d2-e0219c3c2bee",
   "metadata": {},
   "outputs": [
    {
     "data": {
      "text/plain": [
       "18"
      ]
     },
     "execution_count": 137,
     "metadata": {},
     "output_type": "execute_result"
    }
   ],
   "source": [
    "b[1,2]"
   ]
  },
  {
   "cell_type": "code",
   "execution_count": 138,
   "id": "7873893d-db0e-4275-91a7-1483da40e0b7",
   "metadata": {},
   "outputs": [
    {
     "data": {
      "text/plain": [
       "array([[11, 19, 10, 16],\n",
       "       [10, 14, 18, 14],\n",
       "       [13, 13, 18, 18],\n",
       "       [17, 10, 13, 18],\n",
       "       [17, 17, 11, 18]])"
      ]
     },
     "execution_count": 138,
     "metadata": {},
     "output_type": "execute_result"
    }
   ],
   "source": [
    "b"
   ]
  },
  {
   "cell_type": "code",
   "execution_count": 139,
   "id": "f61fffa5-1e9a-4025-a03a-93af69365d27",
   "metadata": {},
   "outputs": [
    {
     "data": {
      "text/plain": [
       "14"
      ]
     },
     "execution_count": 139,
     "metadata": {},
     "output_type": "execute_result"
    }
   ],
   "source": [
    "b[1,3]"
   ]
  },
  {
   "cell_type": "code",
   "execution_count": 140,
   "id": "1a7b270d-609f-4952-b352-eec59ac98c5c",
   "metadata": {},
   "outputs": [
    {
     "data": {
      "text/plain": [
       "14"
      ]
     },
     "execution_count": 140,
     "metadata": {},
     "output_type": "execute_result"
    }
   ],
   "source": [
    "b[1,-1]"
   ]
  },
  {
   "cell_type": "code",
   "execution_count": 141,
   "id": "0342bf0c-36e1-4ec9-b625-6faa565a8584",
   "metadata": {},
   "outputs": [
    {
     "data": {
      "text/plain": [
       "array([[13, 13, 18, 18]])"
      ]
     },
     "execution_count": 141,
     "metadata": {},
     "output_type": "execute_result"
    }
   ],
   "source": [
    "b[2:3]"
   ]
  },
  {
   "cell_type": "code",
   "execution_count": 142,
   "id": "1ae4817a-9f81-46dc-a9dd-1f708ab63760",
   "metadata": {},
   "outputs": [
    {
     "data": {
      "text/plain": [
       "array([[11, 19, 10, 16],\n",
       "       [10, 14, 18, 14],\n",
       "       [13, 13, 18, 18]])"
      ]
     },
     "execution_count": 142,
     "metadata": {},
     "output_type": "execute_result"
    }
   ],
   "source": [
    "b[0:-2]"
   ]
  },
  {
   "cell_type": "code",
   "execution_count": 143,
   "id": "b3854f30-fbc9-4eab-ae76-9d7aceaed76e",
   "metadata": {},
   "outputs": [
    {
     "data": {
      "text/plain": [
       "array([[11, 19, 10, 16],\n",
       "       [10, 14, 18, 14],\n",
       "       [13, 13, 18, 18],\n",
       "       [17, 10, 13, 18],\n",
       "       [17, 17, 11, 18]])"
      ]
     },
     "execution_count": 143,
     "metadata": {},
     "output_type": "execute_result"
    }
   ],
   "source": [
    "b"
   ]
  },
  {
   "cell_type": "code",
   "execution_count": 144,
   "id": "6ed64123-e53f-4d8c-964e-10bbdfd4e6d5",
   "metadata": {},
   "outputs": [
    {
     "data": {
      "text/plain": [
       "array([[11, 19, 10, 16],\n",
       "       [10, 14, 18, 14]])"
      ]
     },
     "execution_count": 144,
     "metadata": {},
     "output_type": "execute_result"
    }
   ],
   "source": [
    "b[0:2]"
   ]
  },
  {
   "cell_type": "code",
   "execution_count": 145,
   "id": "04065664-b9d5-45d8-8270-80a2ba779906",
   "metadata": {},
   "outputs": [
    {
     "data": {
      "text/plain": [
       "10"
      ]
     },
     "execution_count": 145,
     "metadata": {},
     "output_type": "execute_result"
    }
   ],
   "source": [
    "b[0,2]"
   ]
  },
  {
   "cell_type": "code",
   "execution_count": 146,
   "id": "0ee25b0d-acd6-4945-a119-287774a145da",
   "metadata": {},
   "outputs": [
    {
     "data": {
      "text/plain": [
       "array([[11, 19, 10, 16],\n",
       "       [10, 14, 18, 14],\n",
       "       [13, 13, 18, 18],\n",
       "       [17, 10, 13, 18],\n",
       "       [17, 17, 11, 18]])"
      ]
     },
     "execution_count": 146,
     "metadata": {},
     "output_type": "execute_result"
    }
   ],
   "source": [
    "b"
   ]
  },
  {
   "cell_type": "code",
   "execution_count": 147,
   "id": "32971d98-bbde-478d-be4e-333674072801",
   "metadata": {},
   "outputs": [
    {
     "data": {
      "text/plain": [
       "19"
      ]
     },
     "execution_count": 147,
     "metadata": {},
     "output_type": "execute_result"
    }
   ],
   "source": [
    "b[-5,-3]"
   ]
  },
  {
   "cell_type": "code",
   "execution_count": 148,
   "id": "4e48bc90-9e05-4554-812a-72d859bb3371",
   "metadata": {},
   "outputs": [
    {
     "data": {
      "text/plain": [
       "18"
      ]
     },
     "execution_count": 148,
     "metadata": {},
     "output_type": "execute_result"
    }
   ],
   "source": [
    "b[-4,2]"
   ]
  },
  {
   "cell_type": "code",
   "execution_count": 149,
   "id": "8a076416-09ca-4999-a71c-66e426be9250",
   "metadata": {},
   "outputs": [
    {
     "data": {
      "text/plain": [
       "array([[14, 17, 10, 14],\n",
       "       [19, 10, 16, 14],\n",
       "       [12, 14, 16, 13],\n",
       "       [13, 17, 18, 15]])"
      ]
     },
     "execution_count": 149,
     "metadata": {},
     "output_type": "execute_result"
    }
   ],
   "source": [
    "np.random.randint(10,20,(4,4))"
   ]
  },
  {
   "cell_type": "code",
   "execution_count": 150,
   "id": "d1443681-3e4c-4cc3-a81b-619eeff084ff",
   "metadata": {},
   "outputs": [
    {
     "data": {
      "text/plain": [
       "array([[11, 19, 10, 16],\n",
       "       [10, 14, 18, 14],\n",
       "       [13, 13, 18, 18],\n",
       "       [17, 10, 13, 18],\n",
       "       [17, 17, 11, 18]])"
      ]
     },
     "execution_count": 150,
     "metadata": {},
     "output_type": "execute_result"
    }
   ],
   "source": [
    "b"
   ]
  },
  {
   "cell_type": "code",
   "execution_count": 151,
   "id": "8935e36c-152a-478a-959e-91e446b732c3",
   "metadata": {},
   "outputs": [
    {
     "data": {
      "text/plain": [
       "18"
      ]
     },
     "execution_count": 151,
     "metadata": {},
     "output_type": "execute_result"
    }
   ],
   "source": [
    "b[-4,-2]"
   ]
  },
  {
   "cell_type": "code",
   "execution_count": 152,
   "id": "13d2dc10-c3d0-468a-86f0-19226a4501f8",
   "metadata": {},
   "outputs": [
    {
     "data": {
      "text/plain": [
       "array([[10, 14, 18, 14]])"
      ]
     },
     "execution_count": 152,
     "metadata": {},
     "output_type": "execute_result"
    }
   ],
   "source": [
    "b[-4:2]"
   ]
  },
  {
   "cell_type": "code",
   "execution_count": 153,
   "id": "3ea87e21-21b4-4c99-8d0e-505203d64976",
   "metadata": {},
   "outputs": [
    {
     "data": {
      "text/plain": [
       "array([[11, 19, 10, 16],\n",
       "       [10, 14, 18, 14],\n",
       "       [13, 13, 18, 18],\n",
       "       [17, 10, 13, 18],\n",
       "       [17, 17, 11, 18]])"
      ]
     },
     "execution_count": 153,
     "metadata": {},
     "output_type": "execute_result"
    }
   ],
   "source": [
    "b[:]"
   ]
  },
  {
   "cell_type": "markdown",
   "id": "6159e86e-bfa0-49e8-90a5-ab141d7ebea5",
   "metadata": {},
   "source": [
    "- Operations"
   ]
  },
  {
   "cell_type": "code",
   "execution_count": 154,
   "id": "77c0e8b9-9972-4808-a30c-645252379a5d",
   "metadata": {},
   "outputs": [
    {
     "data": {
      "text/plain": [
       "array([10, 18, 15, 14, 17, 14, 11, 13, 13, 19])"
      ]
     },
     "execution_count": 154,
     "metadata": {},
     "output_type": "execute_result"
    }
   ],
   "source": [
    "a =np.random.randint(10,20,10)\n",
    "a"
   ]
  },
  {
   "cell_type": "code",
   "execution_count": 155,
   "id": "4c4802de-64d3-45f7-8980-78b358fa504a",
   "metadata": {},
   "outputs": [
    {
     "data": {
      "text/plain": [
       "1818296473360"
      ]
     },
     "execution_count": 155,
     "metadata": {},
     "output_type": "execute_result"
    }
   ],
   "source": [
    "id(a)"
   ]
  },
  {
   "cell_type": "code",
   "execution_count": 156,
   "id": "2a6165a1-ad1c-4b61-81ef-a54ee78c65b3",
   "metadata": {},
   "outputs": [
    {
     "data": {
      "text/plain": [
       "array([[18, 34, 51, 30, 53, 58, 43, 55, 18, 45],\n",
       "       [87, 65, 70, 53, 48, 94, 59, 80, 26, 35],\n",
       "       [58, 49, 73, 44, 13, 70, 38, 39,  8, 13],\n",
       "       [ 7, 80, 22, 79, 89,  8, 99,  6, 81, 71],\n",
       "       [84, 89, 66, 60, 16, 56, 23, 24,  4, 49],\n",
       "       [87, 30, 54, 25, 20, 97, 57, 23, 27, 29],\n",
       "       [33, 53, 51, 86,  7,  9, 54,  0, 83, 36],\n",
       "       [81, 20,  3, 42, 65, 20, 36, 68, 80, 47],\n",
       "       [10, 94, 91, 43, 63, 31, 20, 70,  9, 60],\n",
       "       [91, 35, 83, 76, 18, 74, 98, 97, 43,  3]])"
      ]
     },
     "execution_count": 156,
     "metadata": {},
     "output_type": "execute_result"
    }
   ],
   "source": [
    "arr2 =np.random.randint(0,100,(10,10))\n",
    "arr2"
   ]
  },
  {
   "cell_type": "code",
   "execution_count": 157,
   "id": "dba56949-63a1-4250-a229-f0a737b13696",
   "metadata": {},
   "outputs": [
    {
     "data": {
      "text/plain": [
       "array([0, 1, 2, 3, 4, 5])"
      ]
     },
     "execution_count": 157,
     "metadata": {},
     "output_type": "execute_result"
    }
   ],
   "source": [
    "arr"
   ]
  },
  {
   "cell_type": "code",
   "execution_count": 158,
   "id": "7fe76612-2085-4d62-95ed-d1d45e54e6fc",
   "metadata": {},
   "outputs": [
    {
     "data": {
      "text/plain": [
       "array([0, 1, 2, 3, 4, 5])"
      ]
     },
     "execution_count": 158,
     "metadata": {},
     "output_type": "execute_result"
    }
   ],
   "source": [
    "arr[:]"
   ]
  },
  {
   "cell_type": "code",
   "execution_count": 159,
   "id": "c97dcba4-d8c3-4fa3-8110-990f8ed08851",
   "metadata": {},
   "outputs": [
    {
     "data": {
      "text/plain": [
       "array([0, 1, 2, 3, 4, 5])"
      ]
     },
     "execution_count": 159,
     "metadata": {},
     "output_type": "execute_result"
    }
   ],
   "source": [
    "arr[0:]"
   ]
  },
  {
   "cell_type": "code",
   "execution_count": 160,
   "id": "3a5e9e6a-2c6e-4752-a774-28528a174c67",
   "metadata": {},
   "outputs": [
    {
     "data": {
      "text/plain": [
       "array([[18, 34, 51, 30, 53, 58, 43, 55, 18, 45],\n",
       "       [87, 65, 70, 53, 48, 94, 59, 80, 26, 35],\n",
       "       [58, 49, 73, 44, 13, 70, 38, 39,  8, 13],\n",
       "       [ 7, 80, 22, 79, 89,  8, 99,  6, 81, 71],\n",
       "       [84, 89, 66, 60, 16, 56, 23, 24,  4, 49],\n",
       "       [87, 30, 54, 25, 20, 97, 57, 23, 27, 29],\n",
       "       [33, 53, 51, 86,  7,  9, 54,  0, 83, 36],\n",
       "       [81, 20,  3, 42, 65, 20, 36, 68, 80, 47],\n",
       "       [10, 94, 91, 43, 63, 31, 20, 70,  9, 60],\n",
       "       [91, 35, 83, 76, 18, 74, 98, 97, 43,  3]])"
      ]
     },
     "execution_count": 160,
     "metadata": {},
     "output_type": "execute_result"
    }
   ],
   "source": [
    "arr2[:]"
   ]
  },
  {
   "cell_type": "code",
   "execution_count": 161,
   "id": "7e419741-9826-4bce-b3a3-d5b4b9211b28",
   "metadata": {},
   "outputs": [
    {
     "data": {
      "text/plain": [
       "array([[18, 34, 51, 30, 53, 58, 43, 55, 18, 45],\n",
       "       [87, 65, 70, 53, 48, 94, 59, 80, 26, 35],\n",
       "       [58, 49, 73, 44, 13, 70, 38, 39,  8, 13],\n",
       "       [ 7, 80, 22, 79, 89,  8, 99,  6, 81, 71],\n",
       "       [84, 89, 66, 60, 16, 56, 23, 24,  4, 49]])"
      ]
     },
     "execution_count": 161,
     "metadata": {},
     "output_type": "execute_result"
    }
   ],
   "source": [
    "arr2[:5]"
   ]
  },
  {
   "cell_type": "code",
   "execution_count": 162,
   "id": "e232513e-253e-4948-b48a-085ac5f89ff8",
   "metadata": {},
   "outputs": [
    {
     "data": {
      "text/plain": [
       "48"
      ]
     },
     "execution_count": 162,
     "metadata": {},
     "output_type": "execute_result"
    }
   ],
   "source": [
    "arr2[1,4]"
   ]
  },
  {
   "cell_type": "code",
   "execution_count": 164,
   "id": "f5e01181-4b20-4dad-8359-1ba6a7f8aa7b",
   "metadata": {},
   "outputs": [
    {
     "data": {
      "text/plain": [
       "97"
      ]
     },
     "execution_count": 164,
     "metadata": {},
     "output_type": "execute_result"
    }
   ],
   "source": [
    "arr2[-5,5]"
   ]
  },
  {
   "cell_type": "code",
   "execution_count": 165,
   "id": "a8b27581-aa74-4917-a56b-204bbef41415",
   "metadata": {},
   "outputs": [
    {
     "data": {
      "text/plain": [
       "97"
      ]
     },
     "execution_count": 165,
     "metadata": {},
     "output_type": "execute_result"
    }
   ],
   "source": [
    "arr2[-5,-5]"
   ]
  },
  {
   "cell_type": "code",
   "execution_count": 166,
   "id": "c79f7ea6-6a37-4fe3-9e9d-7c210626c3a7",
   "metadata": {},
   "outputs": [
    {
     "data": {
      "text/plain": [
       "43"
      ]
     },
     "execution_count": 166,
     "metadata": {},
     "output_type": "execute_result"
    }
   ],
   "source": [
    "arr2[-1,-2]"
   ]
  },
  {
   "cell_type": "code",
   "execution_count": 167,
   "id": "401fbfad-ae71-43bc-a4bf-90f059b2d520",
   "metadata": {},
   "outputs": [
    {
     "data": {
      "text/plain": [
       "array([[18, 34, 51, 30, 53, 58, 43, 55, 18, 45],\n",
       "       [87, 65, 70, 53, 48, 94, 59, 80, 26, 35],\n",
       "       [58, 49, 73, 44, 13, 70, 38, 39,  8, 13],\n",
       "       [ 7, 80, 22, 79, 89,  8, 99,  6, 81, 71],\n",
       "       [84, 89, 66, 60, 16, 56, 23, 24,  4, 49],\n",
       "       [87, 30, 54, 25, 20, 97, 57, 23, 27, 29],\n",
       "       [33, 53, 51, 86,  7,  9, 54,  0, 83, 36],\n",
       "       [81, 20,  3, 42, 65, 20, 36, 68, 80, 47],\n",
       "       [10, 94, 91, 43, 63, 31, 20, 70,  9, 60],\n",
       "       [91, 35, 83, 76, 18, 74, 98, 97, 43,  3]])"
      ]
     },
     "execution_count": 167,
     "metadata": {},
     "output_type": "execute_result"
    }
   ],
   "source": [
    "arr2"
   ]
  },
  {
   "cell_type": "code",
   "execution_count": 168,
   "id": "2c5d18ab-38a1-40f8-8419-a6f16ce5e1c0",
   "metadata": {},
   "outputs": [
    {
     "data": {
      "text/plain": [
       "array([[91, 35, 83, 76, 18, 74, 98, 97, 43,  3],\n",
       "       [10, 94, 91, 43, 63, 31, 20, 70,  9, 60],\n",
       "       [81, 20,  3, 42, 65, 20, 36, 68, 80, 47],\n",
       "       [33, 53, 51, 86,  7,  9, 54,  0, 83, 36],\n",
       "       [87, 30, 54, 25, 20, 97, 57, 23, 27, 29],\n",
       "       [84, 89, 66, 60, 16, 56, 23, 24,  4, 49],\n",
       "       [ 7, 80, 22, 79, 89,  8, 99,  6, 81, 71],\n",
       "       [58, 49, 73, 44, 13, 70, 38, 39,  8, 13],\n",
       "       [87, 65, 70, 53, 48, 94, 59, 80, 26, 35],\n",
       "       [18, 34, 51, 30, 53, 58, 43, 55, 18, 45]])"
      ]
     },
     "execution_count": 168,
     "metadata": {},
     "output_type": "execute_result"
    }
   ],
   "source": [
    "arr2[::-1]"
   ]
  },
  {
   "cell_type": "code",
   "execution_count": 169,
   "id": "a2b0000a-c9a8-4b7c-b515-3d24c7f89498",
   "metadata": {},
   "outputs": [
    {
     "data": {
      "text/plain": [
       "array([[91, 35, 83, 76, 18, 74, 98, 97, 43,  3],\n",
       "       [81, 20,  3, 42, 65, 20, 36, 68, 80, 47],\n",
       "       [87, 30, 54, 25, 20, 97, 57, 23, 27, 29],\n",
       "       [ 7, 80, 22, 79, 89,  8, 99,  6, 81, 71],\n",
       "       [87, 65, 70, 53, 48, 94, 59, 80, 26, 35]])"
      ]
     },
     "execution_count": 169,
     "metadata": {},
     "output_type": "execute_result"
    }
   ],
   "source": [
    "arr2[::-2]"
   ]
  },
  {
   "cell_type": "code",
   "execution_count": 170,
   "id": "9cb9c763-ce26-414e-9630-01e6df5d59e1",
   "metadata": {},
   "outputs": [
    {
     "data": {
      "text/plain": [
       "array([[91, 35, 83, 76, 18, 74, 98, 97, 43,  3],\n",
       "       [33, 53, 51, 86,  7,  9, 54,  0, 83, 36],\n",
       "       [ 7, 80, 22, 79, 89,  8, 99,  6, 81, 71],\n",
       "       [18, 34, 51, 30, 53, 58, 43, 55, 18, 45]])"
      ]
     },
     "execution_count": 170,
     "metadata": {},
     "output_type": "execute_result"
    }
   ],
   "source": [
    "arr2[::-3]"
   ]
  },
  {
   "cell_type": "code",
   "execution_count": 171,
   "id": "c3db9a95-dbee-441e-b4e7-8026dd12fe32",
   "metadata": {},
   "outputs": [
    {
     "data": {
      "text/plain": [
       "array([[91, 35, 83, 76, 18, 74, 98, 97, 43,  3],\n",
       "       [87, 30, 54, 25, 20, 97, 57, 23, 27, 29],\n",
       "       [87, 65, 70, 53, 48, 94, 59, 80, 26, 35]])"
      ]
     },
     "execution_count": 171,
     "metadata": {},
     "output_type": "execute_result"
    }
   ],
   "source": [
    "arr2[::-4]"
   ]
  },
  {
   "cell_type": "markdown",
   "id": "0d4a55ea-9ddd-4b8b-ac7e-f96a1aec6f17",
   "metadata": {},
   "source": [
    "- Max,min,mean,"
   ]
  },
  {
   "cell_type": "code",
   "execution_count": 173,
   "id": "3b2b8d3d-ee03-4ca9-b318-f0a1f7274d3b",
   "metadata": {},
   "outputs": [
    {
     "data": {
      "text/plain": [
       "array([0, 1, 2, 3, 4, 5])"
      ]
     },
     "execution_count": 173,
     "metadata": {},
     "output_type": "execute_result"
    }
   ],
   "source": [
    "arr"
   ]
  },
  {
   "cell_type": "code",
   "execution_count": 174,
   "id": "73244c46-97db-4962-8386-765bb92a1baf",
   "metadata": {},
   "outputs": [
    {
     "data": {
      "text/plain": [
       "5"
      ]
     },
     "execution_count": 174,
     "metadata": {},
     "output_type": "execute_result"
    }
   ],
   "source": [
    "arr.max()"
   ]
  },
  {
   "cell_type": "code",
   "execution_count": 175,
   "id": "745323c6-cb8c-4955-b229-bc99755710a2",
   "metadata": {},
   "outputs": [
    {
     "data": {
      "text/plain": [
       "0"
      ]
     },
     "execution_count": 175,
     "metadata": {},
     "output_type": "execute_result"
    }
   ],
   "source": [
    "arr.min()"
   ]
  },
  {
   "cell_type": "code",
   "execution_count": 176,
   "id": "2a15282f-5fa8-4e9b-a765-f914d9a7d4cc",
   "metadata": {},
   "outputs": [
    {
     "data": {
      "text/plain": [
       "2.5"
      ]
     },
     "execution_count": 176,
     "metadata": {},
     "output_type": "execute_result"
    }
   ],
   "source": [
    "arr.mean()"
   ]
  },
  {
   "cell_type": "code",
   "execution_count": 177,
   "id": "d6cc1cf4-8a1b-432e-9928-7c47cfb06079",
   "metadata": {},
   "outputs": [
    {
     "ename": "AttributeError",
     "evalue": "'numpy.ndarray' object has no attribute 'median'",
     "output_type": "error",
     "traceback": [
      "\u001b[1;31m---------------------------------------------------------------------------\u001b[0m",
      "\u001b[1;31mAttributeError\u001b[0m                            Traceback (most recent call last)",
      "Cell \u001b[1;32mIn[177], line 1\u001b[0m\n\u001b[1;32m----> 1\u001b[0m arr\u001b[38;5;241m.\u001b[39mmedian()\n",
      "\u001b[1;31mAttributeError\u001b[0m: 'numpy.ndarray' object has no attribute 'median'"
     ]
    }
   ],
   "source": [
    "arr.median()"
   ]
  },
  {
   "cell_type": "code",
   "execution_count": 178,
   "id": "bbb4307d-6cde-4db8-abfb-2c08b4ea8232",
   "metadata": {},
   "outputs": [
    {
     "data": {
      "text/plain": [
       "5.0"
      ]
     },
     "execution_count": 178,
     "metadata": {},
     "output_type": "execute_result"
    }
   ],
   "source": [
    "from numpy import *\n",
    "a = array([1,2,3,4,5,6,7,8,9])\n",
    "median(a)"
   ]
  },
  {
   "cell_type": "markdown",
   "id": "9314e39a-062c-48ba-a881-487f79778886",
   "metadata": {},
   "source": [
    "# Without work on import * can you plese find the Median , Mode"
   ]
  },
  {
   "cell_type": "markdown",
   "id": "08090462-3b5d-4d20-8a96-3606414a5de3",
   "metadata": {},
   "source": [
    "- Reshape Function"
   ]
  },
  {
   "cell_type": "code",
   "execution_count": 190,
   "id": "b271ecb2-3abb-4a45-90e0-b63a65ffaca6",
   "metadata": {},
   "outputs": [
    {
     "data": {
      "text/plain": [
       "array([0, 1, 2, 3, 4, 5])"
      ]
     },
     "execution_count": 190,
     "metadata": {},
     "output_type": "execute_result"
    }
   ],
   "source": [
    "arr"
   ]
  },
  {
   "cell_type": "code",
   "execution_count": 191,
   "id": "95c82eb9-c2d6-463a-bf81-4d073d4794f7",
   "metadata": {},
   "outputs": [
    {
     "data": {
      "text/plain": [
       "array([[0, 1],\n",
       "       [2, 3],\n",
       "       [4, 5]])"
      ]
     },
     "execution_count": 191,
     "metadata": {},
     "output_type": "execute_result"
    }
   ],
   "source": [
    "arr.reshape(3,2)"
   ]
  },
  {
   "cell_type": "code",
   "execution_count": 192,
   "id": "fc7658c5-1179-4100-88d8-112c07c5eacf",
   "metadata": {},
   "outputs": [
    {
     "data": {
      "text/plain": [
       "array([[0],\n",
       "       [1],\n",
       "       [2],\n",
       "       [3],\n",
       "       [4],\n",
       "       [5]])"
      ]
     },
     "execution_count": 192,
     "metadata": {},
     "output_type": "execute_result"
    }
   ],
   "source": [
    "arr.reshape(6,1)"
   ]
  },
  {
   "cell_type": "code",
   "execution_count": 193,
   "id": "592787e2-9557-4a81-8be7-afd464a1130a",
   "metadata": {},
   "outputs": [
    {
     "data": {
      "text/plain": [
       "array([[0, 1, 2, 3, 4, 5]])"
      ]
     },
     "execution_count": 193,
     "metadata": {},
     "output_type": "execute_result"
    }
   ],
   "source": [
    "arr.reshape(1,6)"
   ]
  },
  {
   "cell_type": "code",
   "execution_count": 194,
   "id": "6265f96c-6ad1-4537-97a4-8a8f4c14ca24",
   "metadata": {},
   "outputs": [
    {
     "ename": "ValueError",
     "evalue": "cannot reshape array of size 6 into shape (2,4)",
     "output_type": "error",
     "traceback": [
      "\u001b[1;31m---------------------------------------------------------------------------\u001b[0m",
      "\u001b[1;31mValueError\u001b[0m                                Traceback (most recent call last)",
      "Cell \u001b[1;32mIn[194], line 1\u001b[0m\n\u001b[1;32m----> 1\u001b[0m arr\u001b[38;5;241m.\u001b[39mreshape(\u001b[38;5;241m2\u001b[39m,\u001b[38;5;241m4\u001b[39m)\n",
      "\u001b[1;31mValueError\u001b[0m: cannot reshape array of size 6 into shape (2,4)"
     ]
    }
   ],
   "source": [
    "arr.reshape(2,4)"
   ]
  },
  {
   "cell_type": "code",
   "execution_count": 195,
   "id": "b89a1dbb-313e-4b5a-aa05-a6d2861adcba",
   "metadata": {},
   "outputs": [
    {
     "data": {
      "text/plain": [
       "array([[0, 1],\n",
       "       [2, 3],\n",
       "       [4, 5]])"
      ]
     },
     "execution_count": 195,
     "metadata": {},
     "output_type": "execute_result"
    }
   ],
   "source": [
    "arr.reshape(3,2,order='c')"
   ]
  },
  {
   "cell_type": "code",
   "execution_count": 196,
   "id": "fe249408-fced-4a5e-867b-a7d4e591df29",
   "metadata": {},
   "outputs": [
    {
     "data": {
      "text/plain": [
       "array([[0, 2, 4],\n",
       "       [1, 3, 5]])"
      ]
     },
     "execution_count": 196,
     "metadata": {},
     "output_type": "execute_result"
    }
   ],
   "source": [
    "arr.reshape(2,3,order='F') # print element with fortran "
   ]
  },
  {
   "cell_type": "code",
   "execution_count": 197,
   "id": "f54851b6-6f67-433d-935f-b66eb4af17c8",
   "metadata": {},
   "outputs": [
    {
     "data": {
      "text/plain": [
       "array([[0, 1, 2],\n",
       "       [3, 4, 5]])"
      ]
     },
     "execution_count": 197,
     "metadata": {},
     "output_type": "execute_result"
    }
   ],
   "source": [
    "arr.reshape(2,3,order='A') # A almost give you c type output "
   ]
  },
  {
   "cell_type": "code",
   "execution_count": 198,
   "id": "3baad32d-3149-46c6-8682-c2b511dc2d8e",
   "metadata": {},
   "outputs": [
    {
     "data": {
      "text/plain": [
       "array([0, 1, 2, 3, 4, 5])"
      ]
     },
     "execution_count": 198,
     "metadata": {},
     "output_type": "execute_result"
    }
   ],
   "source": [
    "arr"
   ]
  },
  {
   "cell_type": "code",
   "execution_count": 199,
   "id": "cc811a04-7b84-4cb4-8aff-519e93aac58c",
   "metadata": {},
   "outputs": [
    {
     "data": {
      "text/plain": [
       "array([[0, 1, 2],\n",
       "       [3, 4, 5]])"
      ]
     },
     "execution_count": 199,
     "metadata": {},
     "output_type": "execute_result"
    }
   ],
   "source": [
    "arr.reshape(2,3)"
   ]
  },
  {
   "cell_type": "code",
   "execution_count": 200,
   "id": "2ba69d65-b956-477c-a9d5-e684d7982167",
   "metadata": {},
   "outputs": [
    {
     "data": {
      "text/plain": [
       "array([[0, 1],\n",
       "       [2, 3],\n",
       "       [4, 5]])"
      ]
     },
     "execution_count": 200,
     "metadata": {},
     "output_type": "execute_result"
    }
   ],
   "source": [
    "arr.reshape(3,2)"
   ]
  },
  {
   "cell_type": "markdown",
   "id": "eac90a90-0391-40f7-a4f4-f9206ce9c400",
   "metadata": {},
   "source": [
    "- Indexing "
   ]
  },
  {
   "cell_type": "code",
   "execution_count": 201,
   "id": "2cb99b96-6248-4be1-8e1c-325a38c083b2",
   "metadata": {},
   "outputs": [],
   "source": [
    "mat = np.arange(0,100).reshape(10,10)"
   ]
  },
  {
   "cell_type": "code",
   "execution_count": 202,
   "id": "cdfb24df-bd5a-4907-a32b-265be7dd8e36",
   "metadata": {},
   "outputs": [
    {
     "data": {
      "text/plain": [
       "array([[ 0,  1,  2,  3,  4,  5,  6,  7,  8,  9],\n",
       "       [10, 11, 12, 13, 14, 15, 16, 17, 18, 19],\n",
       "       [20, 21, 22, 23, 24, 25, 26, 27, 28, 29],\n",
       "       [30, 31, 32, 33, 34, 35, 36, 37, 38, 39],\n",
       "       [40, 41, 42, 43, 44, 45, 46, 47, 48, 49],\n",
       "       [50, 51, 52, 53, 54, 55, 56, 57, 58, 59],\n",
       "       [60, 61, 62, 63, 64, 65, 66, 67, 68, 69],\n",
       "       [70, 71, 72, 73, 74, 75, 76, 77, 78, 79],\n",
       "       [80, 81, 82, 83, 84, 85, 86, 87, 88, 89],\n",
       "       [90, 91, 92, 93, 94, 95, 96, 97, 98, 99]])"
      ]
     },
     "execution_count": 202,
     "metadata": {},
     "output_type": "execute_result"
    }
   ],
   "source": [
    "mat"
   ]
  },
  {
   "cell_type": "code",
   "execution_count": 203,
   "id": "ab89c30e-635a-44e7-8e00-d45c34a147cc",
   "metadata": {},
   "outputs": [],
   "source": [
    "row = 4\n",
    "col = 5"
   ]
  },
  {
   "cell_type": "code",
   "execution_count": 204,
   "id": "9111e91b-eddb-40fe-9649-812cf56637ea",
   "metadata": {},
   "outputs": [
    {
     "data": {
      "text/plain": [
       "4"
      ]
     },
     "execution_count": 204,
     "metadata": {},
     "output_type": "execute_result"
    }
   ],
   "source": [
    "row "
   ]
  },
  {
   "cell_type": "code",
   "execution_count": 205,
   "id": "c566623d-1d41-4869-bab3-b54ab7b76dac",
   "metadata": {},
   "outputs": [
    {
     "data": {
      "text/plain": [
       "5"
      ]
     },
     "execution_count": 205,
     "metadata": {},
     "output_type": "execute_result"
    }
   ],
   "source": [
    "col"
   ]
  },
  {
   "cell_type": "code",
   "execution_count": 206,
   "id": "6b3dab86-4269-4d34-8d3f-e85f72802687",
   "metadata": {},
   "outputs": [
    {
     "data": {
      "text/plain": [
       "array([[ 0,  1,  2,  3,  4,  5,  6,  7,  8,  9],\n",
       "       [10, 11, 12, 13, 14, 15, 16, 17, 18, 19],\n",
       "       [20, 21, 22, 23, 24, 25, 26, 27, 28, 29],\n",
       "       [30, 31, 32, 33, 34, 35, 36, 37, 38, 39],\n",
       "       [40, 41, 42, 43, 44, 45, 46, 47, 48, 49],\n",
       "       [50, 51, 52, 53, 54, 55, 56, 57, 58, 59],\n",
       "       [60, 61, 62, 63, 64, 65, 66, 67, 68, 69],\n",
       "       [70, 71, 72, 73, 74, 75, 76, 77, 78, 79],\n",
       "       [80, 81, 82, 83, 84, 85, 86, 87, 88, 89],\n",
       "       [90, 91, 92, 93, 94, 95, 96, 97, 98, 99]])"
      ]
     },
     "execution_count": 206,
     "metadata": {},
     "output_type": "execute_result"
    }
   ],
   "source": [
    "mat"
   ]
  },
  {
   "cell_type": "code",
   "execution_count": 207,
   "id": "f1165d16-650b-4ab7-9786-f2279c43c436",
   "metadata": {},
   "outputs": [
    {
     "data": {
      "text/plain": [
       "45"
      ]
     },
     "execution_count": 207,
     "metadata": {},
     "output_type": "execute_result"
    }
   ],
   "source": [
    "mat[row,col]"
   ]
  },
  {
   "cell_type": "code",
   "execution_count": 208,
   "id": "b2840f7f-64a6-4252-b93c-d6a9aa2e40f5",
   "metadata": {},
   "outputs": [
    {
     "data": {
      "text/plain": [
       "45"
      ]
     },
     "execution_count": 208,
     "metadata": {},
     "output_type": "execute_result"
    }
   ],
   "source": [
    "mat[4,5]"
   ]
  },
  {
   "cell_type": "code",
   "execution_count": 209,
   "id": "1853bd47-172d-4d8e-b989-2f2b84dffe6f",
   "metadata": {},
   "outputs": [
    {
     "data": {
      "text/plain": [
       "array([[ 0,  1,  2,  3,  4,  5,  6,  7,  8,  9],\n",
       "       [10, 11, 12, 13, 14, 15, 16, 17, 18, 19],\n",
       "       [20, 21, 22, 23, 24, 25, 26, 27, 28, 29],\n",
       "       [30, 31, 32, 33, 34, 35, 36, 37, 38, 39],\n",
       "       [40, 41, 42, 43, 44, 45, 46, 47, 48, 49],\n",
       "       [50, 51, 52, 53, 54, 55, 56, 57, 58, 59],\n",
       "       [60, 61, 62, 63, 64, 65, 66, 67, 68, 69],\n",
       "       [70, 71, 72, 73, 74, 75, 76, 77, 78, 79],\n",
       "       [80, 81, 82, 83, 84, 85, 86, 87, 88, 89],\n",
       "       [90, 91, 92, 93, 94, 95, 96, 97, 98, 99]])"
      ]
     },
     "execution_count": 209,
     "metadata": {},
     "output_type": "execute_result"
    }
   ],
   "source": [
    "mat[:]"
   ]
  },
  {
   "cell_type": "code",
   "execution_count": 210,
   "id": "5f04960e-d39a-4405-bd75-6691a6094d90",
   "metadata": {},
   "outputs": [],
   "source": [
    "col = 6"
   ]
  },
  {
   "cell_type": "code",
   "execution_count": 211,
   "id": "f890c1eb-43d7-4a58-ba02-eade4538933b",
   "metadata": {},
   "outputs": [
    {
     "data": {
      "text/plain": [
       "6"
      ]
     },
     "execution_count": 211,
     "metadata": {},
     "output_type": "execute_result"
    }
   ],
   "source": [
    "col"
   ]
  },
  {
   "cell_type": "code",
   "execution_count": 212,
   "id": "a17eac56-ed9f-41ad-9e71-d11f0532af75",
   "metadata": {},
   "outputs": [
    {
     "data": {
      "text/plain": [
       "array([60, 61, 62, 63, 64, 65, 66, 67, 68, 69])"
      ]
     },
     "execution_count": 212,
     "metadata": {},
     "output_type": "execute_result"
    }
   ],
   "source": [
    "mat[6]"
   ]
  },
  {
   "cell_type": "code",
   "execution_count": 213,
   "id": "d73e226d-98df-4431-b502-424e442fbfc9",
   "metadata": {},
   "outputs": [
    {
     "data": {
      "text/plain": [
       "array([60, 61, 62, 63, 64, 65, 66, 67, 68, 69])"
      ]
     },
     "execution_count": 213,
     "metadata": {},
     "output_type": "execute_result"
    }
   ],
   "source": [
    "mat[col]"
   ]
  },
  {
   "cell_type": "code",
   "execution_count": 214,
   "id": "585ffaa5-ac5c-480b-b3a9-9164e15c15bf",
   "metadata": {},
   "outputs": [
    {
     "data": {
      "text/plain": [
       "array([ 6, 16, 26, 36, 46, 56, 66, 76, 86, 96])"
      ]
     },
     "execution_count": 214,
     "metadata": {},
     "output_type": "execute_result"
    }
   ],
   "source": [
    "mat[:,col]"
   ]
  },
  {
   "cell_type": "code",
   "execution_count": 215,
   "id": "d0cc80ed-52a0-4935-895f-82b31b1f8a2b",
   "metadata": {},
   "outputs": [
    {
     "data": {
      "text/plain": [
       "array([40, 41, 42, 43, 44, 45, 46, 47, 48, 49])"
      ]
     },
     "execution_count": 215,
     "metadata": {},
     "output_type": "execute_result"
    }
   ],
   "source": [
    "mat[row,:]"
   ]
  },
  {
   "cell_type": "code",
   "execution_count": 216,
   "id": "5f5f8dbb-ede6-46db-8f59-0c018f437b55",
   "metadata": {},
   "outputs": [
    {
     "data": {
      "text/plain": [
       "array([ 8, 18, 28, 38, 48, 58, 68, 78, 88, 98])"
      ]
     },
     "execution_count": 216,
     "metadata": {},
     "output_type": "execute_result"
    }
   ],
   "source": [
    "mat[:,8]"
   ]
  },
  {
   "cell_type": "code",
   "execution_count": 217,
   "id": "5254969f-8bb1-495e-b868-e212f34949e3",
   "metadata": {},
   "outputs": [
    {
     "data": {
      "text/plain": [
       "array([[ 0,  1,  2,  3,  4,  5,  6,  7,  8,  9],\n",
       "       [10, 11, 12, 13, 14, 15, 16, 17, 18, 19],\n",
       "       [20, 21, 22, 23, 24, 25, 26, 27, 28, 29],\n",
       "       [30, 31, 32, 33, 34, 35, 36, 37, 38, 39],\n",
       "       [40, 41, 42, 43, 44, 45, 46, 47, 48, 49],\n",
       "       [50, 51, 52, 53, 54, 55, 56, 57, 58, 59]])"
      ]
     },
     "execution_count": 217,
     "metadata": {},
     "output_type": "execute_result"
    }
   ],
   "source": [
    "mat[:col]"
   ]
  },
  {
   "cell_type": "code",
   "execution_count": 218,
   "id": "54ff50ed-9468-4028-899a-49c994f33448",
   "metadata": {},
   "outputs": [
    {
     "data": {
      "text/plain": [
       "array([[ 0,  1,  2,  3,  4,  5,  6,  7,  8,  9],\n",
       "       [10, 11, 12, 13, 14, 15, 16, 17, 18, 19],\n",
       "       [20, 21, 22, 23, 24, 25, 26, 27, 28, 29],\n",
       "       [30, 31, 32, 33, 34, 35, 36, 37, 38, 39],\n",
       "       [40, 41, 42, 43, 44, 45, 46, 47, 48, 49],\n",
       "       [50, 51, 52, 53, 54, 55, 56, 57, 58, 59]])"
      ]
     },
     "execution_count": 218,
     "metadata": {},
     "output_type": "execute_result"
    }
   ],
   "source": [
    "mat[:6]"
   ]
  },
  {
   "cell_type": "code",
   "execution_count": 219,
   "id": "fb0d0357-c535-4349-9f26-73a96a09f7ba",
   "metadata": {},
   "outputs": [
    {
     "data": {
      "text/plain": [
       "4"
      ]
     },
     "execution_count": 219,
     "metadata": {},
     "output_type": "execute_result"
    }
   ],
   "source": [
    "row"
   ]
  },
  {
   "cell_type": "code",
   "execution_count": 220,
   "id": "e5408693-5659-4b2a-9e43-075f48c9f76d",
   "metadata": {},
   "outputs": [
    {
     "data": {
      "text/plain": [
       "array([[ 0,  1,  2,  3,  4,  5,  6,  7,  8,  9],\n",
       "       [10, 11, 12, 13, 14, 15, 16, 17, 18, 19],\n",
       "       [20, 21, 22, 23, 24, 25, 26, 27, 28, 29],\n",
       "       [30, 31, 32, 33, 34, 35, 36, 37, 38, 39]])"
      ]
     },
     "execution_count": 220,
     "metadata": {},
     "output_type": "execute_result"
    }
   ],
   "source": [
    "mat[:row]"
   ]
  },
  {
   "cell_type": "code",
   "execution_count": 221,
   "id": "613eff19-6c5e-47b5-9601-0026afae74c8",
   "metadata": {},
   "outputs": [
    {
     "data": {
      "text/plain": [
       "array([[40, 41, 42, 43, 44, 45, 46, 47, 48, 49],\n",
       "       [50, 51, 52, 53, 54, 55, 56, 57, 58, 59],\n",
       "       [60, 61, 62, 63, 64, 65, 66, 67, 68, 69],\n",
       "       [70, 71, 72, 73, 74, 75, 76, 77, 78, 79],\n",
       "       [80, 81, 82, 83, 84, 85, 86, 87, 88, 89],\n",
       "       [90, 91, 92, 93, 94, 95, 96, 97, 98, 99]])"
      ]
     },
     "execution_count": 221,
     "metadata": {},
     "output_type": "execute_result"
    }
   ],
   "source": [
    "mat[row:]"
   ]
  },
  {
   "cell_type": "code",
   "execution_count": 222,
   "id": "28371fe5-37f1-49bf-a99c-98cb4a8db246",
   "metadata": {},
   "outputs": [
    {
     "data": {
      "text/plain": [
       "array([ 7, 17, 27, 37, 47, 57, 67, 77, 87, 97])"
      ]
     },
     "execution_count": 222,
     "metadata": {},
     "output_type": "execute_result"
    }
   ],
   "source": [
    "mat[:,7]"
   ]
  },
  {
   "cell_type": "code",
   "execution_count": 223,
   "id": "8a02dd15-d3b6-44ed-8d7e-db6392d6d6ed",
   "metadata": {},
   "outputs": [
    {
     "data": {
      "text/plain": [
       "array([[ 0,  1,  2,  3,  4,  5,  6,  7,  8,  9],\n",
       "       [10, 11, 12, 13, 14, 15, 16, 17, 18, 19],\n",
       "       [20, 21, 22, 23, 24, 25, 26, 27, 28, 29],\n",
       "       [30, 31, 32, 33, 34, 35, 36, 37, 38, 39],\n",
       "       [40, 41, 42, 43, 44, 45, 46, 47, 48, 49],\n",
       "       [50, 51, 52, 53, 54, 55, 56, 57, 58, 59],\n",
       "       [60, 61, 62, 63, 64, 65, 66, 67, 68, 69],\n",
       "       [70, 71, 72, 73, 74, 75, 76, 77, 78, 79],\n",
       "       [80, 81, 82, 83, 84, 85, 86, 87, 88, 89],\n",
       "       [90, 91, 92, 93, 94, 95, 96, 97, 98, 99]])"
      ]
     },
     "execution_count": 223,
     "metadata": {},
     "output_type": "execute_result"
    }
   ],
   "source": [
    "mat"
   ]
  },
  {
   "cell_type": "code",
   "execution_count": 224,
   "id": "b7265ed5-ddc0-4bfd-8cb9-2794aad0339d",
   "metadata": {},
   "outputs": [
    {
     "data": {
      "text/plain": [
       "14"
      ]
     },
     "execution_count": 224,
     "metadata": {},
     "output_type": "execute_result"
    }
   ],
   "source": [
    "mat[1,4]"
   ]
  },
  {
   "cell_type": "code",
   "execution_count": 225,
   "id": "4ec35fd6-2047-47d6-8277-67abeed43fc8",
   "metadata": {},
   "outputs": [
    {
     "data": {
      "text/plain": [
       "array([[10, 11, 12, 13, 14, 15, 16, 17, 18, 19],\n",
       "       [20, 21, 22, 23, 24, 25, 26, 27, 28, 29],\n",
       "       [30, 31, 32, 33, 34, 35, 36, 37, 38, 39]])"
      ]
     },
     "execution_count": 225,
     "metadata": {},
     "output_type": "execute_result"
    }
   ],
   "source": [
    "mat[1:4]"
   ]
  },
  {
   "cell_type": "code",
   "execution_count": 226,
   "id": "4ba22de8-a9c5-4590-91b7-da2f74e9f218",
   "metadata": {},
   "outputs": [
    {
     "data": {
      "text/plain": [
       "array([[30, 31, 32, 33, 34, 35, 36, 37, 38, 39],\n",
       "       [40, 41, 42, 43, 44, 45, 46, 47, 48, 49],\n",
       "       [50, 51, 52, 53, 54, 55, 56, 57, 58, 59],\n",
       "       [60, 61, 62, 63, 64, 65, 66, 67, 68, 69]])"
      ]
     },
     "execution_count": 226,
     "metadata": {},
     "output_type": "execute_result"
    }
   ],
   "source": [
    "mat[3:-3]"
   ]
  },
  {
   "cell_type": "code",
   "execution_count": 227,
   "id": "76631545-96cb-459a-be38-16de3f5f91ff",
   "metadata": {},
   "outputs": [
    {
     "data": {
      "text/plain": [
       "array([0, 1, 2, 3, 4, 5, 6, 7, 8, 9])"
      ]
     },
     "execution_count": 227,
     "metadata": {},
     "output_type": "execute_result"
    }
   ],
   "source": [
    "mat[0]"
   ]
  },
  {
   "cell_type": "code",
   "execution_count": 228,
   "id": "d9d4fc5e-35f8-4b67-8925-bdad5cea7f49",
   "metadata": {},
   "outputs": [
    {
     "data": {
      "text/plain": [
       "array([60, 61, 62, 63, 64, 65, 66, 67, 68, 69])"
      ]
     },
     "execution_count": 228,
     "metadata": {},
     "output_type": "execute_result"
    }
   ],
   "source": [
    "mat[6]"
   ]
  },
  {
   "cell_type": "code",
   "execution_count": 229,
   "id": "97b6b5ed-1bc4-4a0d-a107-acef9a8d5d07",
   "metadata": {},
   "outputs": [
    {
     "data": {
      "text/plain": [
       "array([[ 0,  1,  2,  3,  4,  5,  6,  7,  8,  9],\n",
       "       [10, 11, 12, 13, 14, 15, 16, 17, 18, 19],\n",
       "       [20, 21, 22, 23, 24, 25, 26, 27, 28, 29],\n",
       "       [30, 31, 32, 33, 34, 35, 36, 37, 38, 39],\n",
       "       [40, 41, 42, 43, 44, 45, 46, 47, 48, 49],\n",
       "       [50, 51, 52, 53, 54, 55, 56, 57, 58, 59]])"
      ]
     },
     "execution_count": 229,
     "metadata": {},
     "output_type": "execute_result"
    }
   ],
   "source": [
    "mat[:6]"
   ]
  },
  {
   "cell_type": "code",
   "execution_count": 230,
   "id": "fab33572-cf4a-46a2-9e03-33b30f7fbe70",
   "metadata": {},
   "outputs": [
    {
     "data": {
      "text/plain": [
       "array([[60, 61, 62, 63, 64, 65, 66, 67, 68, 69],\n",
       "       [70, 71, 72, 73, 74, 75, 76, 77, 78, 79],\n",
       "       [80, 81, 82, 83, 84, 85, 86, 87, 88, 89],\n",
       "       [90, 91, 92, 93, 94, 95, 96, 97, 98, 99]])"
      ]
     },
     "execution_count": 230,
     "metadata": {},
     "output_type": "execute_result"
    }
   ],
   "source": [
    "mat[6:]"
   ]
  },
  {
   "cell_type": "code",
   "execution_count": 231,
   "id": "bbe5a3db-1d17-4a12-a0df-ec20ba211a48",
   "metadata": {},
   "outputs": [
    {
     "data": {
      "text/plain": [
       "array([[50, 51, 52, 53, 54, 55, 56, 57, 58, 59],\n",
       "       [60, 61, 62, 63, 64, 65, 66, 67, 68, 69]])"
      ]
     },
     "execution_count": 231,
     "metadata": {},
     "output_type": "execute_result"
    }
   ],
   "source": [
    "mat[5:7]"
   ]
  },
  {
   "cell_type": "code",
   "execution_count": 232,
   "id": "5275d1b3-ce7c-4d9a-aa0b-a09441e8bf54",
   "metadata": {},
   "outputs": [
    {
     "data": {
      "text/plain": [
       "array([[ 0,  1,  2,  3,  4,  5,  6,  7,  8,  9],\n",
       "       [10, 11, 12, 13, 14, 15, 16, 17, 18, 19],\n",
       "       [20, 21, 22, 23, 24, 25, 26, 27, 28, 29],\n",
       "       [30, 31, 32, 33, 34, 35, 36, 37, 38, 39],\n",
       "       [40, 41, 42, 43, 44, 45, 46, 47, 48, 49],\n",
       "       [50, 51, 52, 53, 54, 55, 56, 57, 58, 59],\n",
       "       [60, 61, 62, 63, 64, 65, 66, 67, 68, 69],\n",
       "       [70, 71, 72, 73, 74, 75, 76, 77, 78, 79],\n",
       "       [80, 81, 82, 83, 84, 85, 86, 87, 88, 89],\n",
       "       [90, 91, 92, 93, 94, 95, 96, 97, 98, 99]])"
      ]
     },
     "execution_count": 232,
     "metadata": {},
     "output_type": "execute_result"
    }
   ],
   "source": [
    "mat[0:10]"
   ]
  },
  {
   "cell_type": "code",
   "execution_count": 233,
   "id": "c83efffe-8262-4c81-b648-e485e9c3b3fd",
   "metadata": {},
   "outputs": [
    {
     "data": {
      "text/plain": [
       "array([[ 0,  1,  2,  3,  4,  5,  6,  7,  8,  9],\n",
       "       [30, 31, 32, 33, 34, 35, 36, 37, 38, 39],\n",
       "       [60, 61, 62, 63, 64, 65, 66, 67, 68, 69],\n",
       "       [90, 91, 92, 93, 94, 95, 96, 97, 98, 99]])"
      ]
     },
     "execution_count": 233,
     "metadata": {},
     "output_type": "execute_result"
    }
   ],
   "source": [
    "mat[0:10:3]"
   ]
  },
  {
   "cell_type": "code",
   "execution_count": 234,
   "id": "00d15fb0-e953-40b2-a79f-9128ed6fe5b5",
   "metadata": {},
   "outputs": [
    {
     "data": {
      "text/plain": [
       "array([[ 0,  1,  2,  3,  4,  5,  6,  7,  8,  9],\n",
       "       [10, 11, 12, 13, 14, 15, 16, 17, 18, 19],\n",
       "       [20, 21, 22, 23, 24, 25, 26, 27, 28, 29],\n",
       "       [30, 31, 32, 33, 34, 35, 36, 37, 38, 39],\n",
       "       [40, 41, 42, 43, 44, 45, 46, 47, 48, 49],\n",
       "       [50, 51, 52, 53, 54, 55, 56, 57, 58, 59],\n",
       "       [60, 61, 62, 63, 64, 65, 66, 67, 68, 69],\n",
       "       [70, 71, 72, 73, 74, 75, 76, 77, 78, 79],\n",
       "       [80, 81, 82, 83, 84, 85, 86, 87, 88, 89],\n",
       "       [90, 91, 92, 93, 94, 95, 96, 97, 98, 99]])"
      ]
     },
     "execution_count": 234,
     "metadata": {},
     "output_type": "execute_result"
    }
   ],
   "source": [
    "mat[0:10]"
   ]
  },
  {
   "cell_type": "code",
   "execution_count": 235,
   "id": "1a998748-3ee5-4472-bf53-20804b2a4441",
   "metadata": {},
   "outputs": [
    {
     "data": {
      "text/plain": [
       "array([[90, 91, 92, 93, 94, 95, 96, 97, 98, 99],\n",
       "       [80, 81, 82, 83, 84, 85, 86, 87, 88, 89],\n",
       "       [70, 71, 72, 73, 74, 75, 76, 77, 78, 79],\n",
       "       [60, 61, 62, 63, 64, 65, 66, 67, 68, 69],\n",
       "       [50, 51, 52, 53, 54, 55, 56, 57, 58, 59],\n",
       "       [40, 41, 42, 43, 44, 45, 46, 47, 48, 49],\n",
       "       [30, 31, 32, 33, 34, 35, 36, 37, 38, 39],\n",
       "       [20, 21, 22, 23, 24, 25, 26, 27, 28, 29],\n",
       "       [10, 11, 12, 13, 14, 15, 16, 17, 18, 19],\n",
       "       [ 0,  1,  2,  3,  4,  5,  6,  7,  8,  9]])"
      ]
     },
     "execution_count": 235,
     "metadata": {},
     "output_type": "execute_result"
    }
   ],
   "source": [
    "mat[::-1]"
   ]
  },
  {
   "cell_type": "code",
   "execution_count": 236,
   "id": "1a43d74b-dcc7-4e16-b200-e59da3c6bc4b",
   "metadata": {},
   "outputs": [
    {
     "data": {
      "text/plain": [
       "array([[90, 91, 92, 93, 94, 95, 96, 97, 98, 99],\n",
       "       [60, 61, 62, 63, 64, 65, 66, 67, 68, 69],\n",
       "       [30, 31, 32, 33, 34, 35, 36, 37, 38, 39],\n",
       "       [ 0,  1,  2,  3,  4,  5,  6,  7,  8,  9]])"
      ]
     },
     "execution_count": 236,
     "metadata": {},
     "output_type": "execute_result"
    }
   ],
   "source": [
    "mat[::-3]"
   ]
  },
  {
   "cell_type": "code",
   "execution_count": 237,
   "id": "ff31f20c-b25d-4e9f-a558-3c3ad7cb9e34",
   "metadata": {},
   "outputs": [
    {
     "data": {
      "text/plain": [
       "array([[90, 91, 92, 93, 94, 95, 96, 97, 98, 99],\n",
       "       [40, 41, 42, 43, 44, 45, 46, 47, 48, 49]])"
      ]
     },
     "execution_count": 237,
     "metadata": {},
     "output_type": "execute_result"
    }
   ],
   "source": [
    "mat[::-5]"
   ]
  },
  {
   "cell_type": "code",
   "execution_count": 238,
   "id": "2ce40b46-555f-4a17-8d43-f3eab28843c9",
   "metadata": {},
   "outputs": [
    {
     "data": {
      "text/plain": [
       "array([[20, 21, 22, 23, 24, 25, 26, 27, 28, 29],\n",
       "       [30, 31, 32, 33, 34, 35, 36, 37, 38, 39],\n",
       "       [40, 41, 42, 43, 44, 45, 46, 47, 48, 49],\n",
       "       [50, 51, 52, 53, 54, 55, 56, 57, 58, 59],\n",
       "       [60, 61, 62, 63, 64, 65, 66, 67, 68, 69]])"
      ]
     },
     "execution_count": 238,
     "metadata": {},
     "output_type": "execute_result"
    }
   ],
   "source": [
    "mat[2:7]"
   ]
  },
  {
   "cell_type": "code",
   "execution_count": 239,
   "id": "b3978510-c193-404f-a521-dc3c31e09d76",
   "metadata": {},
   "outputs": [
    {
     "data": {
      "text/plain": [
       "array([[ 0,  1,  2,  3,  4,  5,  6,  7,  8,  9],\n",
       "       [10, 11, 12, 13, 14, 15, 16, 17, 18, 19],\n",
       "       [20, 21, 22, 23, 24, 25, 26, 27, 28, 29],\n",
       "       [30, 31, 32, 33, 34, 35, 36, 37, 38, 39],\n",
       "       [40, 41, 42, 43, 44, 45, 46, 47, 48, 49],\n",
       "       [50, 51, 52, 53, 54, 55, 56, 57, 58, 59],\n",
       "       [60, 61, 62, 63, 64, 65, 66, 67, 68, 69],\n",
       "       [70, 71, 72, 73, 74, 75, 76, 77, 78, 79],\n",
       "       [80, 81, 82, 83, 84, 85, 86, 87, 88, 89],\n",
       "       [90, 91, 92, 93, 94, 95, 96, 97, 98, 99]])"
      ]
     },
     "execution_count": 239,
     "metadata": {},
     "output_type": "execute_result"
    }
   ],
   "source": [
    "mat"
   ]
  },
  {
   "cell_type": "code",
   "execution_count": 240,
   "id": "db06500a-73af-4632-924b-9a9130ab05b5",
   "metadata": {},
   "outputs": [
    {
     "data": {
      "text/plain": [
       "array([[22, 23],\n",
       "       [32, 33],\n",
       "       [42, 43],\n",
       "       [52, 53]])"
      ]
     },
     "execution_count": 240,
     "metadata": {},
     "output_type": "execute_result"
    }
   ],
   "source": [
    "mat[2:6,2:4] # 1:5 --> only row part /// 1:3 -- it indicates only column parts"
   ]
  },
  {
   "cell_type": "code",
   "execution_count": 241,
   "id": "b176c8be-08ea-42e8-9dc7-4486b3bb309e",
   "metadata": {},
   "outputs": [
    {
     "data": {
      "text/plain": [
       "1"
      ]
     },
     "execution_count": 241,
     "metadata": {},
     "output_type": "execute_result"
    }
   ],
   "source": [
    "mat[0,1]"
   ]
  },
  {
   "cell_type": "code",
   "execution_count": 242,
   "id": "d6b119a8-455e-4b3f-99f8-8184e40afd6b",
   "metadata": {},
   "outputs": [
    {
     "data": {
      "text/plain": [
       "array([[26, 27],\n",
       "       [36, 37],\n",
       "       [46, 47],\n",
       "       [56, 57],\n",
       "       [66, 67],\n",
       "       [76, 77]])"
      ]
     },
     "execution_count": 242,
     "metadata": {},
     "output_type": "execute_result"
    }
   ],
   "source": [
    "mat[2:8,6:8]"
   ]
  },
  {
   "cell_type": "code",
   "execution_count": 243,
   "id": "2ee7ad38-1e43-4c5c-a408-ff6a1432da1a",
   "metadata": {},
   "outputs": [
    {
     "data": {
      "text/plain": [
       "array([[13, 14],\n",
       "       [23, 24],\n",
       "       [33, 34]])"
      ]
     },
     "execution_count": 243,
     "metadata": {},
     "output_type": "execute_result"
    }
   ],
   "source": [
    "mat[1:4,3:5]"
   ]
  },
  {
   "cell_type": "code",
   "execution_count": 244,
   "id": "b9e73bc9-a439-4d8d-8fad-91b1c5a46e20",
   "metadata": {},
   "outputs": [
    {
     "data": {
      "text/plain": [
       "array([[22, 23, 24],\n",
       "       [32, 33, 34],\n",
       "       [42, 43, 44]])"
      ]
     },
     "execution_count": 244,
     "metadata": {},
     "output_type": "execute_result"
    }
   ],
   "source": [
    "mat[2:5,2:5]"
   ]
  },
  {
   "cell_type": "code",
   "execution_count": 245,
   "id": "c41a5fcb-af09-42bf-8573-fd2ba70071e5",
   "metadata": {},
   "outputs": [
    {
     "data": {
      "text/plain": [
       "array([[12, 13]])"
      ]
     },
     "execution_count": 245,
     "metadata": {},
     "output_type": "execute_result"
    }
   ],
   "source": [
    "mat[1:2,2:4]"
   ]
  },
  {
   "cell_type": "code",
   "execution_count": 246,
   "id": "a882baf6-a32b-44b5-84b9-1419fd5794ec",
   "metadata": {},
   "outputs": [
    {
     "data": {
      "text/plain": [
       "array([[22]])"
      ]
     },
     "execution_count": 246,
     "metadata": {},
     "output_type": "execute_result"
    }
   ],
   "source": [
    "mat[2:3,2:3]"
   ]
  },
  {
   "cell_type": "code",
   "execution_count": 247,
   "id": "0b0259bb-d626-417a-9ca9-2b0cc9f1d6d6",
   "metadata": {},
   "outputs": [
    {
     "data": {
      "text/plain": [
       "array([[55, 56],\n",
       "       [65, 66]])"
      ]
     },
     "execution_count": 247,
     "metadata": {},
     "output_type": "execute_result"
    }
   ],
   "source": [
    "mat[5:7,5:7]"
   ]
  },
  {
   "cell_type": "code",
   "execution_count": 248,
   "id": "10fd4081-a80c-4d4b-a6fa-5542ec3a6fdc",
   "metadata": {},
   "outputs": [
    {
     "data": {
      "text/plain": [
       "array([[32, 33],\n",
       "       [42, 43]])"
      ]
     },
     "execution_count": 248,
     "metadata": {},
     "output_type": "execute_result"
    }
   ],
   "source": [
    "mat[3:5,2:4]"
   ]
  },
  {
   "cell_type": "code",
   "execution_count": 249,
   "id": "c0faead3-35ac-4876-8efa-0f3acf7be835",
   "metadata": {},
   "outputs": [
    {
     "data": {
      "text/plain": [
       "array([[24]])"
      ]
     },
     "execution_count": 249,
     "metadata": {},
     "output_type": "execute_result"
    }
   ],
   "source": [
    "mat[2:3,4:5]"
   ]
  },
  {
   "cell_type": "markdown",
   "id": "79f92e1b-967c-4856-894e-f9fd66d45d5d",
   "metadata": {},
   "source": [
    "- Masking"
   ]
  },
  {
   "cell_type": "code",
   "execution_count": 250,
   "id": "0ba1bc42-7e56-4397-9c40-66c64fc47463",
   "metadata": {},
   "outputs": [
    {
     "data": {
      "text/plain": [
       "array([[ 0,  1,  2,  3,  4,  5,  6,  7,  8,  9],\n",
       "       [10, 11, 12, 13, 14, 15, 16, 17, 18, 19],\n",
       "       [20, 21, 22, 23, 24, 25, 26, 27, 28, 29],\n",
       "       [30, 31, 32, 33, 34, 35, 36, 37, 38, 39],\n",
       "       [40, 41, 42, 43, 44, 45, 46, 47, 48, 49],\n",
       "       [50, 51, 52, 53, 54, 55, 56, 57, 58, 59],\n",
       "       [60, 61, 62, 63, 64, 65, 66, 67, 68, 69],\n",
       "       [70, 71, 72, 73, 74, 75, 76, 77, 78, 79],\n",
       "       [80, 81, 82, 83, 84, 85, 86, 87, 88, 89],\n",
       "       [90, 91, 92, 93, 94, 95, 96, 97, 98, 99]])"
      ]
     },
     "execution_count": 250,
     "metadata": {},
     "output_type": "execute_result"
    }
   ],
   "source": [
    "mat"
   ]
  },
  {
   "cell_type": "code",
   "execution_count": 251,
   "id": "1ac7cbe0-5797-407c-822c-0ffcb23a8464",
   "metadata": {},
   "outputs": [
    {
     "data": {
      "text/plain": [
       "1818296678992"
      ]
     },
     "execution_count": 251,
     "metadata": {},
     "output_type": "execute_result"
    }
   ],
   "source": [
    "id(mat)"
   ]
  },
  {
   "cell_type": "code",
   "execution_count": 252,
   "id": "e167dc9e-dedc-4a9b-be72-5e2be622f55f",
   "metadata": {},
   "outputs": [
    {
     "data": {
      "text/plain": [
       "array([ 0,  1,  2,  3,  4,  5,  6,  7,  8,  9, 10, 11, 12, 13, 14, 15, 16,\n",
       "       17, 18, 19, 20, 21, 22, 23, 24, 25, 26, 27, 28, 29, 30, 31, 32, 33,\n",
       "       34, 35, 36, 37, 38, 39, 40, 41, 42, 43, 44, 45, 46, 47, 48, 49, 50])"
      ]
     },
     "execution_count": 252,
     "metadata": {},
     "output_type": "execute_result"
    }
   ],
   "source": [
    "mat[mat<=50]"
   ]
  },
  {
   "cell_type": "code",
   "execution_count": 253,
   "id": "88c4c702-a7e7-4605-bfd9-a1dc381a645c",
   "metadata": {},
   "outputs": [
    {
     "data": {
      "text/plain": [
       "array([[False, False, False, False, False, False, False, False, False,\n",
       "        False],\n",
       "       [False, False, False, False, False, False, False, False, False,\n",
       "        False],\n",
       "       [False, False, False, False, False, False, False, False, False,\n",
       "        False],\n",
       "       [False, False, False, False, False, False, False, False, False,\n",
       "        False],\n",
       "       [False, False, False, False, False, False, False, False, False,\n",
       "        False],\n",
       "       [False,  True,  True,  True,  True,  True,  True,  True,  True,\n",
       "         True],\n",
       "       [ True,  True,  True,  True,  True,  True,  True,  True,  True,\n",
       "         True],\n",
       "       [ True,  True,  True,  True,  True,  True,  True,  True,  True,\n",
       "         True],\n",
       "       [ True,  True,  True,  True,  True,  True,  True,  True,  True,\n",
       "         True],\n",
       "       [ True,  True,  True,  True,  True,  True,  True,  True,  True,\n",
       "         True]])"
      ]
     },
     "execution_count": 253,
     "metadata": {},
     "output_type": "execute_result"
    }
   ],
   "source": [
    "mat>50"
   ]
  },
  {
   "cell_type": "code",
   "execution_count": 254,
   "id": "7de92e46-c76e-475c-8e68-5368ded644d2",
   "metadata": {},
   "outputs": [
    {
     "data": {
      "text/plain": [
       "array([50])"
      ]
     },
     "execution_count": 254,
     "metadata": {},
     "output_type": "execute_result"
    }
   ],
   "source": [
    "mat[mat ==50]"
   ]
  },
  {
   "cell_type": "code",
   "execution_count": 255,
   "id": "3296d76e-daf2-4c2b-b6ae-52dd6be451af",
   "metadata": {},
   "outputs": [
    {
     "data": {
      "text/plain": [
       "array([[False, False, False, False, False, False, False, False, False,\n",
       "        False],\n",
       "       [False, False, False, False, False, False, False, False, False,\n",
       "        False],\n",
       "       [False, False, False, False, False, False, False, False, False,\n",
       "        False],\n",
       "       [False, False, False, False, False, False, False, False, False,\n",
       "        False],\n",
       "       [False, False, False, False, False, False, False, False, False,\n",
       "        False],\n",
       "       [ True, False, False, False, False, False, False, False, False,\n",
       "        False],\n",
       "       [False, False, False, False, False, False, False, False, False,\n",
       "        False],\n",
       "       [False, False, False, False, False, False, False, False, False,\n",
       "        False],\n",
       "       [False, False, False, False, False, False, False, False, False,\n",
       "        False],\n",
       "       [False, False, False, False, False, False, False, False, False,\n",
       "        False]])"
      ]
     },
     "execution_count": 255,
     "metadata": {},
     "output_type": "execute_result"
    }
   ],
   "source": [
    "mat==50"
   ]
  },
  {
   "cell_type": "code",
   "execution_count": 256,
   "id": "77f89171-bcc7-436f-a95a-206ba0d8f0ef",
   "metadata": {},
   "outputs": [],
   "source": [
    "a1 = mat[mat<50]"
   ]
  },
  {
   "cell_type": "code",
   "execution_count": 257,
   "id": "f0c79fe9-8097-419a-ae86-c7b9451ed3b1",
   "metadata": {},
   "outputs": [
    {
     "data": {
      "text/plain": [
       "array([ 0,  1,  2,  3,  4,  5,  6,  7,  8,  9, 10, 11, 12, 13, 14, 15, 16,\n",
       "       17, 18, 19, 20, 21, 22, 23, 24, 25, 26, 27, 28, 29, 30, 31, 32, 33,\n",
       "       34, 35, 36, 37, 38, 39, 40, 41, 42, 43, 44, 45, 46, 47, 48, 49])"
      ]
     },
     "execution_count": 257,
     "metadata": {},
     "output_type": "execute_result"
    }
   ],
   "source": [
    "a1"
   ]
  },
  {
   "cell_type": "code",
   "execution_count": 258,
   "id": "b5f0e4a2-08a7-4640-a11a-3c3b6a18852f",
   "metadata": {},
   "outputs": [],
   "source": [
    "a2 =mat[mat>50]"
   ]
  },
  {
   "cell_type": "code",
   "execution_count": 259,
   "id": "26e61c23-3b50-4216-b32b-479938c1b42f",
   "metadata": {},
   "outputs": [
    {
     "data": {
      "text/plain": [
       "array([51, 52, 53, 54, 55, 56, 57, 58, 59, 60, 61, 62, 63, 64, 65, 66, 67,\n",
       "       68, 69, 70, 71, 72, 73, 74, 75, 76, 77, 78, 79, 80, 81, 82, 83, 84,\n",
       "       85, 86, 87, 88, 89, 90, 91, 92, 93, 94, 95, 96, 97, 98, 99])"
      ]
     },
     "execution_count": 259,
     "metadata": {},
     "output_type": "execute_result"
    }
   ],
   "source": [
    "a2"
   ]
  },
  {
   "cell_type": "code",
   "execution_count": 260,
   "id": "7b6cfa9c-25af-4f7e-95e3-5e1d89c928f0",
   "metadata": {},
   "outputs": [],
   "source": [
    "a3 =mat[mat<=50]"
   ]
  },
  {
   "cell_type": "code",
   "execution_count": 261,
   "id": "4fe584c2-db97-4f46-a568-a98f3c1b4f16",
   "metadata": {},
   "outputs": [
    {
     "data": {
      "text/plain": [
       "array([ 0,  1,  2,  3,  4,  5,  6,  7,  8,  9, 10, 11, 12, 13, 14, 15, 16,\n",
       "       17, 18, 19, 20, 21, 22, 23, 24, 25, 26, 27, 28, 29, 30, 31, 32, 33,\n",
       "       34, 35, 36, 37, 38, 39, 40, 41, 42, 43, 44, 45, 46, 47, 48, 49, 50])"
      ]
     },
     "execution_count": 261,
     "metadata": {},
     "output_type": "execute_result"
    }
   ],
   "source": [
    "a3"
   ]
  },
  {
   "cell_type": "code",
   "execution_count": 262,
   "id": "eb3ad1c1-96c8-4f4a-87f8-56d50af0c236",
   "metadata": {},
   "outputs": [
    {
     "data": {
      "text/plain": [
       "array([50])"
      ]
     },
     "execution_count": 262,
     "metadata": {},
     "output_type": "execute_result"
    }
   ],
   "source": [
    "a4 =mat[mat==50]\n",
    "a4"
   ]
  },
  {
   "cell_type": "markdown",
   "id": "821585d6-8890-4864-b2cd-82d4abc92626",
   "metadata": {},
   "source": [
    "# Python program generat OTP"
   ]
  },
  {
   "cell_type": "code",
   "execution_count": 263,
   "id": "043b7cfa-3738-4791-84f1-a898cb6edede",
   "metadata": {},
   "outputs": [
    {
     "name": "stdout",
     "output_type": "stream",
     "text": [
      "Your OTP is: 1353\n"
     ]
    }
   ],
   "source": [
    "import random\n",
    "\n",
    "def generate_otp(length=4):\n",
    "    \"\"\"Generate a numeric OTP of a specified length.\"\"\"\n",
    "    digits = '012345'\n",
    "    otp = ''.join(random.choice(digits) for _ in range(length))\n",
    "    return otp\n",
    "\n",
    "# Example usage\n",
    "otp_length = 4  # You can change this to any length you prefer\n",
    "otp = generate_otp(otp_length)\n",
    "print(f\"Your OTP is: {otp}\")"
   ]
  },
  {
   "cell_type": "code",
   "execution_count": 264,
   "id": "bf21bb05-d796-437a-a638-e6f5ba206aed",
   "metadata": {},
   "outputs": [
    {
     "name": "stdout",
     "output_type": "stream",
     "text": [
      "good even\n",
      "good even\n",
      "good even\n"
     ]
    }
   ],
   "source": [
    "def wish():\n",
    "    print('good even')\n",
    "wish()\n",
    "\n",
    "def wish():\n",
    "    print('good even')\n",
    "wish()\n",
    "\n",
    "def wish():\n",
    "    print('good even')\n",
    "wish()"
   ]
  },
  {
   "cell_type": "code",
   "execution_count": 265,
   "id": "b047334d-930b-457c-b6bf-15c9337f590f",
   "metadata": {},
   "outputs": [
    {
     "name": "stdout",
     "output_type": "stream",
     "text": [
      "good even\n",
      "good even\n",
      "good even\n"
     ]
    }
   ],
   "source": [
    "def wish():\n",
    "    print('good even')\n",
    "wish()\n",
    "\n",
    "wish()\n",
    "\n",
    "wish()"
   ]
  },
  {
   "cell_type": "code",
   "execution_count": 266,
   "id": "7e449231-17cd-4cba-acb8-5a01f243e327",
   "metadata": {},
   "outputs": [
    {
     "name": "stdout",
     "output_type": "stream",
     "text": [
      "<built-in method pop of list object at 0x000001A758CE35C0>\n"
     ]
    }
   ],
   "source": [
    "list1=['a','b','g',1,5]\n",
    "print(list1.pop)"
   ]
  },
  {
   "cell_type": "code",
   "execution_count": 267,
   "id": "541859a8-9e85-4539-ad17-0ca1137411a1",
   "metadata": {},
   "outputs": [
    {
     "name": "stdout",
     "output_type": "stream",
     "text": [
      "[1, 2, 3, 4]\n"
     ]
    }
   ],
   "source": [
    "x = [1, 2, 3]\n",
    "y = x.copy()\n",
    "x.append(4)\n",
    "print(x)"
   ]
  }
 ],
 "metadata": {
  "kernelspec": {
   "display_name": "Python 3 (ipykernel)",
   "language": "python",
   "name": "python3"
  },
  "language_info": {
   "codemirror_mode": {
    "name": "ipython",
    "version": 3
   },
   "file_extension": ".py",
   "mimetype": "text/x-python",
   "name": "python",
   "nbconvert_exporter": "python",
   "pygments_lexer": "ipython3",
   "version": "3.12.7"
  }
 },
 "nbformat": 4,
 "nbformat_minor": 5
}
